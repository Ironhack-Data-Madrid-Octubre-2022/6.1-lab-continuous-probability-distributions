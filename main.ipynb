{
 "cells": [
  {
   "cell_type": "markdown",
   "metadata": {
    "toc": true
   },
   "source": [
    "<h1>Table of Contents<span class=\"tocSkip\"></span></h1>\n",
    "<div class=\"toc\"><ul class=\"toc-item\"><li><span><a href=\"#Before-your-start:\" data-toc-modified-id=\"Before-your-start:-1\"><span class=\"toc-item-num\">1&nbsp;&nbsp;</span>Before your start:</a></span><ul class=\"toc-item\"><li><span><a href=\"#Uniform-Distribution\" data-toc-modified-id=\"Uniform-Distribution-1.1\"><span class=\"toc-item-num\">1.1&nbsp;&nbsp;</span>Uniform Distribution</a></span></li><li><span><a href=\"#Normal-Distribution\" data-toc-modified-id=\"Normal-Distribution-1.2\"><span class=\"toc-item-num\">1.2&nbsp;&nbsp;</span>Normal Distribution</a></span></li><li><span><a href=\"#Normal-Distribution-of-Real-Data\" data-toc-modified-id=\"Normal-Distribution-of-Real-Data-1.3\"><span class=\"toc-item-num\">1.3&nbsp;&nbsp;</span>Normal Distribution of Real Data</a></span></li><li><span><a href=\"#Exponential-Distribution\" data-toc-modified-id=\"Exponential-Distribution-1.4\"><span class=\"toc-item-num\">1.4&nbsp;&nbsp;</span>Exponential Distribution</a></span></li><li><span><a href=\"#Exponential-Distribution-of-Real-Data\" data-toc-modified-id=\"Exponential-Distribution-of-Real-Data-1.5\"><span class=\"toc-item-num\">1.5&nbsp;&nbsp;</span>Exponential Distribution of Real Data</a></span></li></ul></li></ul></div>"
   ]
  },
  {
   "cell_type": "markdown",
   "metadata": {},
   "source": [
    "# Before your start:\n",
    "\n",
    "    Read the README.md file\n",
    "    Comment as much as you can and use the resources (README.md file)\n",
    "    Happy learning!"
   ]
  },
  {
   "cell_type": "markdown",
   "metadata": {},
   "source": [
    "In this exercise, we  will generate random numbers from the continuous disributions we learned in the lesson. There are two ways to generate random numbers:\n",
    "\n",
    "1. Using the numpy library \n",
    "1. using the Scipy library \n",
    "\n",
    "Use either or both of the lbraries in this exercise."
   ]
  },
  {
   "cell_type": "markdown",
   "metadata": {},
   "source": [
    "## Uniform Distribution\n",
    "\n",
    "To generate uniform random numbers between any two given values using scipy, we can either use the following code or the code that we have\n",
    "discussed in class:"
   ]
  },
  {
   "cell_type": "code",
   "execution_count": 1,
   "metadata": {},
   "outputs": [],
   "source": [
    "from scipy.stats import uniform\n",
    "import numpy as np"
   ]
  },
  {
   "cell_type": "code",
   "execution_count": 3,
   "metadata": {},
   "outputs": [
    {
     "name": "stdout",
     "output_type": "stream",
     "text": [
      "[2.82265962 2.59489677 2.42873963 2.22664595 2.21061946 2.59640288\n",
      " 2.25071298 2.99970266 2.83937145 2.59899165]\n"
     ]
    }
   ],
   "source": [
    "from scipy.stats import uniform\n",
    "\n",
    "muestra = uniform.rvs(size=10)\n",
    "\n",
    "a = 2\n",
    "b = 3\n",
    "\n",
    "randoms  = a + (b-a)*muestra\n",
    "\n",
    "print(randoms)"
   ]
  },
  {
   "cell_type": "code",
   "execution_count": 4,
   "metadata": {},
   "outputs": [],
   "source": [
    "import pylab as plt\n",
    "import seaborn as sns\n"
   ]
  },
  {
   "cell_type": "markdown",
   "metadata": {},
   "source": [
    "**Your task:**\n",
    "\n",
    "1. Based on the code above, write a function that generates uniformly distributed random numbers. There are several requirements for your function:\n",
    "    * It should accept 3 parameters: \n",
    "        * `bottom` - the lower boundary of the generated numbers\n",
    "        * `ceiling` - the upper boundary of the generated numbers\n",
    "        * `count` - how many numbers to generate\n",
    "    * It should return an array of uniformly distributed random numbers\n",
    "\n",
    "1. Call your function with 2 sets of params below:\n",
    "    * bottom=10, ceiling=15, count=100\n",
    "    * bottom=10, ceiling=60, count=1,000\n",
    "\n",
    "1. Plot the uniform distributions generated above using histograms, where x axis is the value and y axis is the count. Let the histogram's number of bins be 10.\n",
    "\n",
    "Your output should look like below:\n",
    "\n",
    "![uniform distribution](ud.png)"
   ]
  },
  {
   "cell_type": "code",
   "execution_count": 15,
   "metadata": {},
   "outputs": [
    {
     "data": {
      "image/png": "[encoded data removed]",
      "text/plain": [
       "<Figure size 432x288 with 1 Axes>"
      ]
     },
     "metadata": {
      "needs_background": "light"
     },
     "output_type": "display_data"
    }
   ],
   "source": [
    "muestra = uniform.rvs(size=100)\n",
    "\n",
    "a = 10\n",
    "b = 15\n",
    "\n",
    "randoms1  = a + (b-a)*muestra\n",
    "sns.histplot(randoms);"
   ]
  },
  {
   "cell_type": "code",
   "execution_count": 16,
   "metadata": {},
   "outputs": [
    {
     "data": {
      "image/png": "[encoded data removed]",
      "text/plain": [
       "<Figure size 432x288 with 1 Axes>"
      ]
     },
     "metadata": {
      "needs_background": "light"
     },
     "output_type": "display_data"
    }
   ],
   "source": [
    "muestra = uniform.rvs(size=1000)\n",
    "\n",
    "a = 10\n",
    "b = 60\n",
    "\n",
    "randoms2  = a + (b-a)*muestra\n",
    "sns.histplot(randoms);"
   ]
  },
  {
   "cell_type": "code",
   "execution_count": 17,
   "metadata": {},
   "outputs": [
    {
     "ename": "TypeError",
     "evalue": "'numpy.ndarray' object is not callable",
     "output_type": "error",
     "traceback": [
      "\u001b[1;31m---------------------------------------------------------------------------\u001b[0m",
      "\u001b[1;31mTypeError\u001b[0m                                 Traceback (most recent call last)",
      "Input \u001b[1;32mIn [17]\u001b[0m, in \u001b[0;36m<cell line: 1>\u001b[1;34m()\u001b[0m\n\u001b[1;32m----> 1\u001b[0m f1 \u001b[38;5;241m=\u001b[39m \u001b[43mrandoms1\u001b[49m\u001b[43m(\u001b[49m\u001b[38;5;241;43m10\u001b[39;49m\u001b[43m,\u001b[49m\u001b[43m \u001b[49m\u001b[38;5;241;43m15\u001b[39;49m\u001b[43m,\u001b[49m\u001b[43m \u001b[49m\u001b[38;5;241;43m100\u001b[39;49m\u001b[43m)\u001b[49m\n\u001b[0;32m      2\u001b[0m f2 \u001b[38;5;241m=\u001b[39m randoms2(\u001b[38;5;241m10\u001b[39m, \u001b[38;5;241m60\u001b[39m, \u001b[38;5;241m1000\u001b[39m)\n\u001b[0;32m      3\u001b[0m fig, ax\u001b[38;5;241m=\u001b[39m plt\u001b[38;5;241m.\u001b[39msubplots(\u001b[38;5;241m1\u001b[39m, \u001b[38;5;241m2\u001b[39m, sharey \u001b[38;5;241m=\u001b[39m \u001b[38;5;28;01mTrue\u001b[39;00m)\n",
      "\u001b[1;31mTypeError\u001b[0m: 'numpy.ndarray' object is not callable"
     ]
    }
   ],
   "source": [
    "f1 = randoms1(10, 15, 100)\n",
    "f2 = randoms2(10, 60, 1000)\n",
    "fig, ax= plt.subplots(1, 2, sharey = True)\n",
    "ax[0].hist(f1);\n",
    "ax[1].hist(f2);"
   ]
  },
  {
   "cell_type": "markdown",
   "metadata": {},
   "source": [
    "How are the two distributions different?"
   ]
  },
  {
   "cell_type": "code",
   "execution_count": null,
   "metadata": {},
   "outputs": [],
   "source": [
    "# la relacion entre el eje x y el eje y es la misma, a pesar de que los valores son diferentes"
   ]
  },
  {
   "cell_type": "markdown",
   "metadata": {},
   "source": [
    "## Normal Distribution\n",
    "\n",
    "1. In the same way in the Uniform Distribution challenge, write a function that generates normally distributed random numbers.\n",
    "1. Generate 1,000 normally distributed numbers with the average of 10 and standard deviation of 1\n",
    "1. Generate 1,000 normally distributed numbers with the average of 10 and standard deviation of 50\n",
    "2. Plot the distributions of the data generated.\n",
    "\n",
    "Expected output:\n",
    "\n",
    "![normal distribution](nd.png)"
   ]
  },
  {
   "cell_type": "code",
   "execution_count": 19,
   "metadata": {},
   "outputs": [],
   "source": [
    "from scipy.stats import norm"
   ]
  },
  {
   "cell_type": "code",
   "execution_count": 46,
   "metadata": {},
   "outputs": [],
   "source": [
    "x=norm(loc=10, scale=1)\n",
    "\n",
    "muestra = x.rvs(size=1000)\n"
   ]
  },
  {
   "cell_type": "code",
   "execution_count": 47,
   "metadata": {},
   "outputs": [
    {
     "data": {
      "image/png": "[encoded data removed]",
      "text/plain": [
       "<Figure size 432x288 with 1 Axes>"
      ]
     },
     "metadata": {
      "needs_background": "light"
     },
     "output_type": "display_data"
    }
   ],
   "source": [
    "\n",
    "sns.histplot(muestra, element='step', bins=100);"
   ]
  },
  {
   "cell_type": "code",
   "execution_count": 48,
   "metadata": {},
   "outputs": [],
   "source": [
    "x=norm(loc=10, scale=50)\n",
    "\n",
    "muestra_numeros = x.rvs(size=1000)"
   ]
  },
  {
   "cell_type": "code",
   "execution_count": 49,
   "metadata": {},
   "outputs": [
    {
     "data": {
      "image/png": "[encoded data removed]",
      "text/plain": [
       "<Figure size 432x288 with 1 Axes>"
      ]
     },
     "metadata": {
      "needs_background": "light"
     },
     "output_type": "display_data"
    }
   ],
   "source": [
    "sns.histplot(muestra_numeros, element='step', bins=100);"
   ]
  },
  {
   "cell_type": "markdown",
   "metadata": {},
   "source": [
    "How are the two distributions different?"
   ]
  },
  {
   "cell_type": "code",
   "execution_count": 50,
   "metadata": {},
   "outputs": [],
   "source": [
    "# en la segundd muestra hay muchos mas datos alejados de la media"
   ]
  },
  {
   "cell_type": "markdown",
   "metadata": {},
   "source": [
    "## Normal Distribution of Real Data\n",
    "\n",
    "In this challenge we are going to take a look the real data. We will use vehicles.csv file for this exercise"
   ]
  },
  {
   "cell_type": "markdown",
   "metadata": {},
   "source": [
    "First import vehicles.csv.\n",
    "Then plot the histograms for the following variables:\n",
    "\n",
    "1. Fuel Barrels/Year"
   ]
  },
  {
   "cell_type": "code",
   "execution_count": 52,
   "metadata": {},
   "outputs": [],
   "source": [
    "import pandas as pd"
   ]
  },
  {
   "cell_type": "code",
   "execution_count": 54,
   "metadata": {},
   "outputs": [],
   "source": [
    "vh = pd.read_csv(r'C:\\Users\\pablo\\6.1-lab-continuous-probability-distributions\\your-code\\vehicles.csv',encoding='latin1')"
   ]
  },
  {
   "cell_type": "code",
   "execution_count": 56,
   "metadata": {},
   "outputs": [
    {
     "data": {
      "text/html": [
       "<div>\n",
       "<style scoped>\n",
       "    .dataframe tbody tr th:only-of-type {\n",
       "        vertical-align: middle;\n",
       "    }\n",
       "\n",
       "    .dataframe tbody tr th {\n",
       "        vertical-align: top;\n",
       "    }\n",
       "\n",
       "    .dataframe thead th {\n",
       "        text-align: right;\n",
       "    }\n",
       "</style>\n",
       "<table border=\"1\" class=\"dataframe\">\n",
       "  <thead>\n",
       "    <tr style=\"text-align: right;\">\n",
       "      <th></th>\n",
       "      <th>Make</th>\n",
       "      <th>Model</th>\n",
       "      <th>Year</th>\n",
       "      <th>Engine Displacement</th>\n",
       "      <th>Cylinders</th>\n",
       "      <th>Transmission</th>\n",
       "      <th>Drivetrain</th>\n",
       "      <th>Vehicle Class</th>\n",
       "      <th>Fuel Type</th>\n",
       "      <th>Fuel Barrels/Year</th>\n",
       "      <th>City MPG</th>\n",
       "      <th>Highway MPG</th>\n",
       "      <th>Combined MPG</th>\n",
       "      <th>CO2 Emission Grams/Mile</th>\n",
       "      <th>Fuel Cost/Year</th>\n",
       "    </tr>\n",
       "  </thead>\n",
       "  <tbody>\n",
       "    <tr>\n",
       "      <th>0</th>\n",
       "      <td>AM General</td>\n",
       "      <td>DJ Po Vehicle 2WD</td>\n",
       "      <td>1984</td>\n",
       "      <td>2.5</td>\n",
       "      <td>4.0</td>\n",
       "      <td>Automatic 3-spd</td>\n",
       "      <td>2-Wheel Drive</td>\n",
       "      <td>Special Purpose Vehicle 2WD</td>\n",
       "      <td>Regular</td>\n",
       "      <td>19.388824</td>\n",
       "      <td>18</td>\n",
       "      <td>17</td>\n",
       "      <td>17</td>\n",
       "      <td>522.764706</td>\n",
       "      <td>1950</td>\n",
       "    </tr>\n",
       "    <tr>\n",
       "      <th>1</th>\n",
       "      <td>AM General</td>\n",
       "      <td>FJ8c Post Office</td>\n",
       "      <td>1984</td>\n",
       "      <td>4.2</td>\n",
       "      <td>6.0</td>\n",
       "      <td>Automatic 3-spd</td>\n",
       "      <td>2-Wheel Drive</td>\n",
       "      <td>Special Purpose Vehicle 2WD</td>\n",
       "      <td>Regular</td>\n",
       "      <td>25.354615</td>\n",
       "      <td>13</td>\n",
       "      <td>13</td>\n",
       "      <td>13</td>\n",
       "      <td>683.615385</td>\n",
       "      <td>2550</td>\n",
       "    </tr>\n",
       "    <tr>\n",
       "      <th>2</th>\n",
       "      <td>AM General</td>\n",
       "      <td>Post Office DJ5 2WD</td>\n",
       "      <td>1985</td>\n",
       "      <td>2.5</td>\n",
       "      <td>4.0</td>\n",
       "      <td>Automatic 3-spd</td>\n",
       "      <td>Rear-Wheel Drive</td>\n",
       "      <td>Special Purpose Vehicle 2WD</td>\n",
       "      <td>Regular</td>\n",
       "      <td>20.600625</td>\n",
       "      <td>16</td>\n",
       "      <td>17</td>\n",
       "      <td>16</td>\n",
       "      <td>555.437500</td>\n",
       "      <td>2100</td>\n",
       "    </tr>\n",
       "    <tr>\n",
       "      <th>3</th>\n",
       "      <td>AM General</td>\n",
       "      <td>Post Office DJ8 2WD</td>\n",
       "      <td>1985</td>\n",
       "      <td>4.2</td>\n",
       "      <td>6.0</td>\n",
       "      <td>Automatic 3-spd</td>\n",
       "      <td>Rear-Wheel Drive</td>\n",
       "      <td>Special Purpose Vehicle 2WD</td>\n",
       "      <td>Regular</td>\n",
       "      <td>25.354615</td>\n",
       "      <td>13</td>\n",
       "      <td>13</td>\n",
       "      <td>13</td>\n",
       "      <td>683.615385</td>\n",
       "      <td>2550</td>\n",
       "    </tr>\n",
       "    <tr>\n",
       "      <th>4</th>\n",
       "      <td>ASC Incorporated</td>\n",
       "      <td>GNX</td>\n",
       "      <td>1987</td>\n",
       "      <td>3.8</td>\n",
       "      <td>6.0</td>\n",
       "      <td>Automatic 4-spd</td>\n",
       "      <td>Rear-Wheel Drive</td>\n",
       "      <td>Midsize Cars</td>\n",
       "      <td>Premium</td>\n",
       "      <td>20.600625</td>\n",
       "      <td>14</td>\n",
       "      <td>21</td>\n",
       "      <td>16</td>\n",
       "      <td>555.437500</td>\n",
       "      <td>2550</td>\n",
       "    </tr>\n",
       "  </tbody>\n",
       "</table>\n",
       "</div>"
      ],
      "text/plain": [
       "               Make                Model  Year  Engine Displacement  \\\n",
       "0        AM General    DJ Po Vehicle 2WD  1984                  2.5   \n",
       "1        AM General     FJ8c Post Office  1984                  4.2   \n",
       "2        AM General  Post Office DJ5 2WD  1985                  2.5   \n",
       "3        AM General  Post Office DJ8 2WD  1985                  4.2   \n",
       "4  ASC Incorporated                  GNX  1987                  3.8   \n",
       "\n",
       "   Cylinders     Transmission        Drivetrain                Vehicle Class  \\\n",
       "0        4.0  Automatic 3-spd     2-Wheel Drive  Special Purpose Vehicle 2WD   \n",
       "1        6.0  Automatic 3-spd     2-Wheel Drive  Special Purpose Vehicle 2WD   \n",
       "2        4.0  Automatic 3-spd  Rear-Wheel Drive  Special Purpose Vehicle 2WD   \n",
       "3        6.0  Automatic 3-spd  Rear-Wheel Drive  Special Purpose Vehicle 2WD   \n",
       "4        6.0  Automatic 4-spd  Rear-Wheel Drive                 Midsize Cars   \n",
       "\n",
       "  Fuel Type  Fuel Barrels/Year  City MPG  Highway MPG  Combined MPG  \\\n",
       "0   Regular          19.388824        18           17            17   \n",
       "1   Regular          25.354615        13           13            13   \n",
       "2   Regular          20.600625        16           17            16   \n",
       "3   Regular          25.354615        13           13            13   \n",
       "4   Premium          20.600625        14           21            16   \n",
       "\n",
       "   CO2 Emission Grams/Mile  Fuel Cost/Year  \n",
       "0               522.764706            1950  \n",
       "1               683.615385            2550  \n",
       "2               555.437500            2100  \n",
       "3               683.615385            2550  \n",
       "4               555.437500            2550  "
      ]
     },
     "execution_count": 56,
     "metadata": {},
     "output_type": "execute_result"
    }
   ],
   "source": [
    "vh.head()"
   ]
  },
  {
   "cell_type": "code",
   "execution_count": 61,
   "metadata": {},
   "outputs": [
    {
     "data": {
      "text/plain": [
       "(35952, 15)"
      ]
     },
     "execution_count": 61,
     "metadata": {},
     "output_type": "execute_result"
    }
   ],
   "source": [
    "vh.shape"
   ]
  },
  {
   "cell_type": "code",
   "execution_count": 64,
   "metadata": {},
   "outputs": [
    {
     "data": {
      "text/plain": [
       "<AxesSubplot:xlabel='Fuel Barrels/Year', ylabel='Count'>"
      ]
     },
     "execution_count": 64,
     "metadata": {},
     "output_type": "execute_result"
    },
    {
     "data": {
      "image/png": "[encoded data removed]",
      "text/plain": [
       "<Figure size 432x288 with 1 Axes>"
      ]
     },
     "metadata": {
      "needs_background": "light"
     },
     "output_type": "display_data"
    }
   ],
   "source": [
    "sns.histplot(x=vh['Fuel Barrels/Year'],bins=42)"
   ]
  },
  {
   "cell_type": "markdown",
   "metadata": {},
   "source": [
    "2. CO2 Emission Grams/Mile "
   ]
  },
  {
   "cell_type": "code",
   "execution_count": 70,
   "metadata": {},
   "outputs": [
    {
     "data": {
      "image/png": "[encoded data removed]",
      "text/plain": [
       "<Figure size 432x288 with 1 Axes>"
      ]
     },
     "metadata": {
      "needs_background": "light"
     },
     "output_type": "display_data"
    }
   ],
   "source": [
    "sns.histplot(x=vh['CO2 Emission Grams/Mile'],bins=60);"
   ]
  },
  {
   "cell_type": "markdown",
   "metadata": {},
   "source": [
    "3. Combined MPG"
   ]
  },
  {
   "cell_type": "code",
   "execution_count": 69,
   "metadata": {},
   "outputs": [
    {
     "data": {
      "image/png": "[encoded data removed]",
      "text/plain": [
       "<Figure size 432x288 with 1 Axes>"
      ]
     },
     "metadata": {
      "needs_background": "light"
     },
     "output_type": "display_data"
    }
   ],
   "source": [
    "sns.histplot(x=vh['Combined MPG'],bins=50);"
   ]
  },
  {
   "cell_type": "markdown",
   "metadata": {},
   "source": [
    "Which one(s) of the variables are nearly normally distributed? How do you know?"
   ]
  },
  {
   "cell_type": "code",
   "execution_count": null,
   "metadata": {},
   "outputs": [],
   "source": [
    "# nº 3 porque su geometria se asemeja a una campana simetria donde el grueso de los valores estan en torno a la media de manera igualitaria"
   ]
  },
  {
   "cell_type": "markdown",
   "metadata": {},
   "source": [
    "## Exponential Distribution"
   ]
  },
  {
   "cell_type": "markdown",
   "metadata": {},
   "source": [
    "1. Using `numpy.random.exponential`, create a function that returns a list of numbers exponentially distributed with the mean of 10. \n",
    "\n",
    "1. Use the function to generate two number sequences with the size of 10 and 100.\n",
    "\n",
    "1. Plot the distributions as histograms with the nubmer of bins as 100.\n",
    "\n",
    "Your output should look like below:\n",
    "\n",
    "![exponential distribution](ed.png)"
   ]
  },
  {
   "cell_type": "code",
   "execution_count": 81,
   "metadata": {},
   "outputs": [],
   "source": [
    "import numpy as np\n",
    "from scipy.stats import expon"
   ]
  },
  {
   "cell_type": "code",
   "execution_count": 83,
   "metadata": {},
   "outputs": [
    {
     "data": {
      "text/plain": [
       "array([ 6.0632461 ,  9.64695597, 21.22499162, 16.06317765,  4.97754632,\n",
       "        5.80014333,  2.32470403,  7.3203839 ,  4.37183786, 10.03831116])"
      ]
     },
     "execution_count": 83,
     "metadata": {},
     "output_type": "execute_result"
    }
   ],
   "source": [
    "numbers10 = np.random.exponential(10,10)\n",
    "numbers10"
   ]
  },
  {
   "cell_type": "code",
   "execution_count": 90,
   "metadata": {},
   "outputs": [
    {
     "data": {
      "text/plain": [
       "array([ 9.96039804, 17.13063408,  3.09417266,  5.70308497,  1.81666565,\n",
       "        0.76969425,  0.62136325, 14.3773634 , 12.5877853 , 11.39078937])"
      ]
     },
     "execution_count": 90,
     "metadata": {},
     "output_type": "execute_result"
    }
   ],
   "source": [
    "numbers100= np.random.exponential(10,1000)\n",
    "numbers100[:10]"
   ]
  },
  {
   "cell_type": "code",
   "execution_count": 91,
   "metadata": {},
   "outputs": [
    {
     "data": {
      "image/png": "[encoded data removed]",
      "text/plain": [
       "<Figure size 432x288 with 1 Axes>"
      ]
     },
     "metadata": {
      "needs_background": "light"
     },
     "output_type": "display_data"
    }
   ],
   "source": [
    "sns.histplot(numbers100,bins=100);"
   ]
  },
  {
   "cell_type": "code",
   "execution_count": 92,
   "metadata": {},
   "outputs": [],
   "source": [
    "def rand_exp(mean,size):\n",
    "    numbers =  np.random.exponential(mean,size)\n",
    "    return numbers"
   ]
  },
  {
   "cell_type": "code",
   "execution_count": 94,
   "metadata": {},
   "outputs": [
    {
     "data": {
      "text/plain": [
       "array([4.99353889e+00, 5.21115369e+00, 5.19726431e+00, 2.30106159e+01,\n",
       "       2.03201933e+01, 9.12807088e+00, 7.09414318e+00, 3.29386550e+00,\n",
       "       1.71489383e+01, 4.01619765e+00, 1.46655104e+01, 1.19654183e+00,\n",
       "       8.01938501e+00, 4.00363809e+01, 2.55084500e+01, 1.00904459e+01,\n",
       "       3.14477257e+01, 1.13761212e+01, 4.89727841e+00, 4.69796114e+00,\n",
       "       4.56480170e+00, 1.05692127e+01, 8.24676705e+00, 5.48932858e+01,\n",
       "       1.68744098e+01, 3.40301288e+01, 1.18519434e+00, 1.03528317e+00,\n",
       "       1.88994751e+00, 7.06129618e+00, 2.47391304e+01, 2.05752577e+01,\n",
       "       1.08584910e+00, 2.40116300e+01, 1.47534193e+01, 1.58152953e+01,\n",
       "       4.21083834e+00, 1.05118654e+00, 1.35597927e+00, 1.24277186e+00,\n",
       "       1.72206907e+01, 1.81152416e+01, 1.25115275e+01, 4.87583789e+00,\n",
       "       1.25123628e+01, 2.56590801e+01, 2.51013891e+01, 2.95655042e+01,\n",
       "       9.29464253e-01, 9.02370253e+00, 5.52465497e+00, 1.31526437e+01,\n",
       "       1.24179473e+01, 2.20402284e+00, 3.11376757e+01, 1.13041607e+00,\n",
       "       2.52920393e+01, 1.36561192e+01, 1.25407715e+00, 4.17020634e+00,\n",
       "       4.96899610e+01, 1.42961503e+00, 2.25958743e+00, 1.07050842e+00,\n",
       "       5.52887763e+00, 4.82292226e+01, 5.22030211e+01, 6.70680047e-01,\n",
       "       8.89346342e+00, 1.93722607e+01, 3.47641887e+00, 4.34642465e+00,\n",
       "       1.12869611e+01, 1.11982461e-01, 4.22342616e+00, 6.76933961e+00,\n",
       "       8.50046594e+00, 7.76614057e+00, 2.43550110e+01, 4.35349379e-01,\n",
       "       3.90806109e+00, 2.49083338e+00, 2.28729339e+00, 1.00276719e+01,\n",
       "       8.17962612e+00, 6.92990719e+00, 1.63835514e+01, 1.55966847e+00,\n",
       "       1.64526140e+01, 1.45842751e+00, 3.36848298e+01, 1.06934155e+00,\n",
       "       1.14861126e+00, 8.21953040e+00, 2.32717214e+01, 1.24089643e+01,\n",
       "       7.14226984e+00, 1.51162820e+00, 1.16010045e+01, 7.37837906e-01,\n",
       "       1.11720359e+01, 2.08771488e+00, 2.00115776e+01, 5.83192316e+00,\n",
       "       9.90380381e+00, 1.10383142e+01, 1.69627590e+00, 1.27898427e+01,\n",
       "       2.68412276e+01, 1.54890290e+00, 5.41011162e+00, 1.60569967e+01,\n",
       "       2.88224086e+00, 8.11433384e+00, 2.89116636e+00, 7.91894904e-01,\n",
       "       3.30007302e+01, 4.45550427e+00, 2.55746931e+01, 6.37126226e+00,\n",
       "       2.24524750e+01, 4.88589652e-02, 4.15996221e-01, 4.40021794e-01,\n",
       "       1.11458203e+01, 9.45224687e+00, 4.41184793e+00, 1.10116980e+01,\n",
       "       3.78022027e+00, 2.17794397e+00, 8.73723921e-01, 1.93462744e+01,\n",
       "       8.48156991e+00, 8.97380868e+00, 8.49843605e+00, 1.09200809e+01,\n",
       "       4.33978365e+00, 9.30007902e+00, 3.84884563e+00, 3.86132428e+01,\n",
       "       1.98109060e+00, 1.17771087e+01, 6.37330202e+00, 4.17279343e+00,\n",
       "       5.77621995e+01, 8.74491441e+00, 5.05567422e+00, 1.64462945e+00,\n",
       "       8.65436389e+00, 2.34994074e+01, 6.68625774e+00, 1.47631875e+00,\n",
       "       1.48297430e+00, 3.85968753e+00, 5.14603371e+00, 4.52798414e+01,\n",
       "       8.35753567e+00, 1.35049108e+00, 8.24937667e+00, 3.44226155e+01,\n",
       "       5.23596053e+00, 2.36163877e+01, 4.21144147e+00, 2.17255187e+01,\n",
       "       1.04855694e-01, 3.04236646e+00, 3.61788437e+00, 3.76734971e+01,\n",
       "       6.33628504e+00, 3.10768035e+00, 9.88690305e+00, 5.44804318e+00,\n",
       "       1.01808469e+01, 3.51590650e+00, 7.16684091e+00, 3.08906183e+01,\n",
       "       8.17722555e+00, 9.98133245e-02, 2.92704541e+01, 2.25180744e+00,\n",
       "       4.46448912e+00, 2.90630139e+00, 2.17555800e+00, 5.17595753e+01,\n",
       "       1.30758403e+01, 4.94090381e+00, 2.93377428e+01, 1.47754810e+01,\n",
       "       2.62744313e+00, 3.76289993e+00, 4.25545859e-01, 2.35564638e+01,\n",
       "       3.06418504e+01, 6.08431348e-01, 1.64022585e-01, 1.22804284e+00,\n",
       "       1.62370603e+01, 3.18302413e+00, 3.14217403e+00, 3.03388910e+00,\n",
       "       2.00043112e+00, 8.87747449e+00, 6.76062398e+00, 1.15441416e+01,\n",
       "       1.20010416e+01, 1.04576158e+01, 2.64517150e+01, 1.63746394e+01,\n",
       "       1.53712418e+00, 5.22389405e+00, 5.15916389e+00, 1.29390596e+01,\n",
       "       7.72423686e+00, 4.63299786e+00, 6.66950919e+00, 1.69634311e+01,\n",
       "       3.87291109e+00, 1.79739573e+01, 3.86533714e+00, 8.08110306e+00,\n",
       "       1.46522926e+01, 1.99030823e+01, 1.23417093e+00, 2.81950949e+01,\n",
       "       1.40116764e+01, 2.18856939e+00, 2.24699343e+01, 1.44381612e+01,\n",
       "       4.98286719e-01, 2.15112890e+01, 2.88191810e+00, 4.68834792e+00,\n",
       "       1.07801290e+00, 7.02745283e-01, 2.64273338e+01, 5.58730742e+00,\n",
       "       1.75819175e+00, 1.27847121e+01, 1.59465353e+00, 6.20217476e-01,\n",
       "       3.35352324e+01, 2.59629911e+00, 8.44716300e+00, 6.77152681e+00,\n",
       "       1.93949060e-01, 6.33265582e-01, 2.85170658e+00, 8.18719537e+00,\n",
       "       6.03727108e+00, 1.37647283e+01, 2.01144193e+00, 9.22288933e+00,\n",
       "       7.47646854e+00, 8.05115052e+00, 9.48483953e-01, 1.30583641e+00,\n",
       "       5.32620252e+00, 6.36824048e+00, 3.67634306e+00, 9.49589294e+00,\n",
       "       1.67337203e+01, 2.21709543e+00, 2.26360877e+00, 3.31155334e+01,\n",
       "       2.39872646e+00, 2.22181095e+00, 7.32497404e+00, 7.70154440e+00,\n",
       "       1.43703770e+01, 2.96707760e+01, 1.16411313e+01, 4.02013413e+00,\n",
       "       5.02291299e+00, 3.86545751e-01, 1.08499507e+01, 1.16197732e+00,\n",
       "       3.05544615e+00, 3.37008560e-01, 1.37279491e+01, 8.22996002e+00,\n",
       "       1.78443639e+01, 5.47401497e+00, 2.32658945e+01, 2.50807516e+00,\n",
       "       1.07748442e+01, 6.42286390e+00, 7.68561547e+00, 2.39116207e+00,\n",
       "       1.73695246e+01, 5.26340852e+00, 2.64980137e+01, 3.58466366e+00,\n",
       "       8.33762812e-01, 7.40205032e+00, 6.50827036e+00, 6.07505144e+00,\n",
       "       1.02974361e+01, 1.28127923e+00, 4.39512039e-02, 5.76202648e+00,\n",
       "       1.25427779e+01, 1.61397449e+01, 3.84794200e+00, 1.20054851e+01,\n",
       "       1.00987857e+01, 2.65405410e+01, 3.62560801e+01, 7.22861915e+00,\n",
       "       4.26287789e+00, 3.86760502e+01, 4.25732123e+00, 1.18669004e+01,\n",
       "       9.38583472e+00, 4.45342707e+00, 4.84635428e+00, 4.26183657e+01,\n",
       "       2.78238078e+01, 1.96908888e+00, 8.55176994e+00, 3.02158102e+00,\n",
       "       9.21760786e+00, 1.64323601e+01, 7.59375166e+00, 7.08112292e+00,\n",
       "       5.92733848e+00, 6.54304847e+00, 2.08256152e+01, 5.63997097e-01,\n",
       "       9.21579684e+00, 3.02886070e+01, 6.21185844e+00, 6.77834834e+00,\n",
       "       2.30842173e+01, 4.66071225e+00, 3.91684859e+00, 3.17976338e+00,\n",
       "       1.53064318e+00, 7.69080665e+00, 7.54938681e+00, 1.39518232e+01,\n",
       "       1.80624923e+01, 7.75415373e+00, 1.73491266e+01, 4.39034151e+00,\n",
       "       6.15180727e+01, 9.98071272e+00, 1.20782710e+01, 2.54934837e+00,\n",
       "       1.36019090e+00, 6.94337855e+00, 3.25538975e+01, 2.91804951e+00,\n",
       "       4.69527856e+00, 6.58405840e+00, 4.26600873e+01, 6.75982884e+00,\n",
       "       4.04015607e+00, 3.40225031e-01, 1.90592383e+00, 3.12994879e+00,\n",
       "       7.89383049e-01, 4.04066599e+00, 1.54142143e+01, 1.20562314e+00,\n",
       "       1.45433977e+01, 1.83363474e+00, 1.85693691e+01, 1.08792288e+01,\n",
       "       6.75082969e-01, 2.69689067e+00, 3.40312626e+01, 4.12918776e+01,\n",
       "       1.97868117e+01, 4.01072575e+00, 1.81783667e+01, 4.60741503e-01,\n",
       "       3.26442261e+01, 2.68508138e+01, 7.08036719e+00, 2.99301679e+00,\n",
       "       5.78693875e+00, 1.08183389e+01, 4.08721427e+00, 1.58175576e+01,\n",
       "       8.26234895e+00, 9.22275229e+00, 2.91606239e+00, 8.25249112e+00,\n",
       "       2.50646948e+00, 3.67673693e+00, 9.34078257e-01, 7.88418584e+00,\n",
       "       2.09452778e+01, 4.74539235e+00, 1.81472647e+00, 5.20261007e+00,\n",
       "       3.75423844e+00, 1.13949695e+01, 1.84895859e+01, 4.04754395e+00,\n",
       "       2.32822511e+01, 3.88021881e+00, 3.05622989e+00, 2.17194571e+00,\n",
       "       7.78275292e+00, 4.44319801e+00, 2.06700301e+01, 8.00629331e+00,\n",
       "       7.05634750e+00, 1.26611295e+01, 4.51069155e-01, 2.32133207e+01,\n",
       "       1.73174497e+00, 2.36439639e+00, 1.71590420e+01, 7.07110339e+00,\n",
       "       4.28588791e+00, 1.64023113e+01, 3.57380944e+00, 2.22411882e+00,\n",
       "       7.46727792e-01, 2.03943662e+01, 1.58454738e+01, 4.82459757e+00,\n",
       "       1.20483065e-01, 1.18196197e+00, 7.84764693e+00, 6.12656019e+00,\n",
       "       4.53027303e+00, 6.01911941e+00, 3.85058296e+00, 1.22317419e+01,\n",
       "       3.20293917e+00, 9.29424223e-01, 1.16060734e+01, 1.91585760e+01,\n",
       "       1.72212400e+01, 3.51817709e+01, 1.26229277e+01, 4.35733155e+01,\n",
       "       1.81024518e+00, 6.90842578e+00, 3.61554118e+00, 1.62599967e+00,\n",
       "       9.97490556e+00, 4.56127709e+00, 2.34625135e+01, 1.32236675e+00,\n",
       "       5.15566714e-01, 3.96705673e+00, 1.10350904e+01, 9.73293614e+00,\n",
       "       3.38485966e+00, 7.44999050e+00, 1.53913525e+01, 2.79378125e+01,\n",
       "       1.70843041e-01, 6.51335894e-01, 2.26930542e+01, 1.81022437e+01,\n",
       "       1.45102733e+00, 3.79632038e+00, 1.81778945e+01, 2.93240246e+01,\n",
       "       3.57503719e+00, 1.00186765e+01, 8.94619520e+00, 1.50369620e+00,\n",
       "       4.28722249e+00, 5.82191575e+00, 8.07337283e-01, 4.65248405e+00,\n",
       "       1.84664051e+00, 1.63638687e+01, 3.40781428e+00, 1.25343325e+01,\n",
       "       2.08359164e+01, 7.99630459e+00, 1.32356236e+01, 3.02653342e-01,\n",
       "       3.24777839e+01, 7.75914074e+00, 3.45700474e-02, 8.06505003e+00,\n",
       "       3.96774744e-01, 3.94501126e+01, 2.84869492e-01, 7.37969334e+00,\n",
       "       9.38308444e+00, 9.93828020e+00, 1.48244803e+01, 5.54562056e+00,\n",
       "       6.05690694e-01, 1.30898293e+01, 1.31394394e+01, 2.82177883e+00,\n",
       "       9.18422520e+00, 7.43116217e+00, 1.19733368e+00, 9.29087563e+00,\n",
       "       2.24303834e+01, 6.71142411e+00, 1.48368867e+01, 1.76170048e+00,\n",
       "       5.02909076e+00, 5.40589931e+00, 3.03998562e+00, 2.30355302e+00,\n",
       "       6.22419472e-01, 2.19450990e+01, 5.82862616e+00, 1.75866843e+01,\n",
       "       2.02468697e+01, 4.43742316e-01, 1.01395689e+00, 6.35935774e+00,\n",
       "       1.52572649e+01, 1.30772756e+00, 4.31290362e+00, 3.84694753e+00,\n",
       "       6.05473782e+00, 1.98334971e+00, 3.15961886e+01, 2.44935114e+01,\n",
       "       1.07508640e+01, 5.97926237e-01, 3.39605175e+00, 6.52482912e+00,\n",
       "       2.95950910e+01, 6.41665532e+00, 1.02463854e+01, 1.53336030e+01,\n",
       "       1.82235717e+01, 9.30504934e+00, 8.28673103e+00, 1.47155290e+01,\n",
       "       7.83541342e+00, 7.58563970e+00, 5.78802067e+00, 3.00938472e+01,\n",
       "       1.21093315e+01, 5.49018634e-01, 1.04392309e+01, 4.58368600e+00,\n",
       "       5.32698252e+00, 4.32011133e+01, 8.96826458e+00, 8.20886645e+00,\n",
       "       1.31438224e+01, 4.30498188e-01, 2.09444485e+00, 3.12787801e+01,\n",
       "       4.63361087e+00, 2.79147188e+01, 9.56641512e+00, 2.76123130e+01,\n",
       "       6.83823919e+00, 1.76747257e+01, 1.29389747e+00, 6.37609225e-01,\n",
       "       8.29927840e+00, 2.60836916e+01, 1.97457946e+00, 5.74290265e+00,\n",
       "       5.40593810e+00, 2.98037681e+00, 6.97727663e+00, 6.47137067e+00,\n",
       "       7.74653432e+00, 9.17791552e+00, 1.17831090e+01, 9.62782556e+00,\n",
       "       2.11140815e+01, 3.90609293e+00, 6.83313372e+00, 2.36834318e+01,\n",
       "       9.80400144e+00, 3.44546189e+01, 7.39327170e+00, 3.12643054e+00,\n",
       "       1.35919827e+00, 1.64288352e-01, 4.65697483e+00, 7.07165495e-01,\n",
       "       2.20393264e-01, 3.27476110e+01, 5.22678627e+00, 1.10239042e+01,\n",
       "       8.11813882e+00, 4.77698454e+00, 9.55851437e+00, 5.10001022e+00,\n",
       "       7.44497861e+00, 1.80499302e+00, 4.63721453e+00, 1.45716316e+01,\n",
       "       3.09027922e+01, 9.73949193e+00, 3.08666011e+01, 3.80986653e+00,\n",
       "       2.34888818e+00, 5.64749131e+00, 5.69777151e+00, 2.95975535e+00,\n",
       "       8.71314236e-01, 3.78752650e+01, 9.11210402e+00, 1.62811224e+01,\n",
       "       5.46857074e+00, 1.67836815e+01, 2.41368989e+00, 4.94229747e+00,\n",
       "       7.09147752e-01, 1.27383670e+01, 2.85460822e+00, 1.25507201e+00,\n",
       "       1.63305434e+01, 1.23908079e+01, 1.79626042e+01, 2.16638247e+01,\n",
       "       7.53544044e-01, 1.55947095e+01, 2.23080816e+01, 3.34460263e+00,\n",
       "       2.76806978e+01, 1.22850592e+01, 1.47679446e+01, 1.77863571e+01,\n",
       "       1.13443905e+01, 3.52009637e+00, 8.19280736e+00, 2.01359795e+01,\n",
       "       2.07887853e+01, 1.46586177e+00, 9.71375308e-01, 9.97532121e+00,\n",
       "       5.75563044e+00, 2.09056056e+00, 8.69484749e+00, 1.97298542e+01,\n",
       "       1.16438990e+00, 6.78473239e+00, 2.43360087e+00, 1.15941737e+01,\n",
       "       9.92356956e+00, 1.00578590e+01, 1.20904512e+01, 1.09624852e+01,\n",
       "       5.98838709e+00, 7.89588456e+00, 1.78281444e+01, 2.03267191e+00,\n",
       "       4.04597737e-01, 1.82779314e+01, 2.88311145e+01, 5.32415310e-02,\n",
       "       9.89763648e+00, 5.66887153e+00, 3.54494364e+01, 7.46563695e+00,\n",
       "       6.85929161e-01, 1.79079522e+01, 1.09355518e+01, 6.28041019e+00,\n",
       "       1.43601186e+00, 6.71949145e+00, 2.22087102e+01, 2.08435145e+01,\n",
       "       5.90818701e+00, 1.12939488e+00, 4.10733357e+00, 3.89786370e-01,\n",
       "       2.52631395e+00, 4.52740195e+01, 3.30307031e+00, 5.97804792e+00,\n",
       "       1.28913984e+01, 2.44101625e+00, 3.89631296e+00, 1.48980181e+01,\n",
       "       2.49419542e+01, 8.08678734e+00, 1.20418958e+01, 1.71411716e+01,\n",
       "       1.14629938e+01, 1.40992087e+01, 1.40542494e+01, 3.90698587e+00,\n",
       "       9.01751851e+00, 1.86326467e+01, 3.21389172e+01, 1.59342780e+01,\n",
       "       6.08530991e+00, 2.25656183e-01, 2.38705828e+00, 9.79184440e+00,\n",
       "       1.43546175e+00, 4.37917722e+00, 2.32075470e+01, 9.84398013e+00,\n",
       "       1.41829925e+00, 1.01996606e+01, 8.24295739e+00, 2.09707314e+01,\n",
       "       6.67669954e+00, 2.48329870e+00, 7.71406768e+00, 4.82144552e+00,\n",
       "       3.61629685e-01, 8.82199257e+00, 1.35439145e+01, 2.55562825e+00,\n",
       "       2.05533920e+01, 2.07543672e+00, 1.57279982e-01, 1.37235060e+01,\n",
       "       3.50427957e+00, 1.12113437e+01, 8.56945701e+00, 1.13712338e+01,\n",
       "       1.65611346e+00, 5.20118376e+00, 1.07517084e+00, 7.27905295e+00,\n",
       "       4.12182639e-01, 4.67065266e+00, 5.40308143e+00, 1.95999173e+01,\n",
       "       2.99658553e-01, 1.78971558e+00, 2.99431913e+00, 2.15430755e+00,\n",
       "       2.27370394e+01, 1.16716407e+00, 4.20553594e+00, 4.16852756e+00,\n",
       "       8.87062529e+00, 2.38432493e+01, 2.55486616e+00, 3.06980176e+01,\n",
       "       2.61314775e+00, 2.22284321e+00, 1.42433311e-01, 6.57880975e+00,\n",
       "       7.31483974e+00, 9.33925299e+00, 1.01296386e+01, 7.63184917e+00,\n",
       "       2.47151223e+01, 9.38175348e+00, 1.68755998e+00, 1.66704691e+01,\n",
       "       1.96757830e-01, 8.15057330e+00, 1.67772306e+00, 1.46235597e+00,\n",
       "       3.78430430e+00, 1.91634608e+00, 7.71889746e+00, 8.65157286e+00,\n",
       "       1.69939674e+01, 2.22163657e+01, 1.71428030e+01, 1.65603906e+01,\n",
       "       1.37242333e-01, 1.02769123e+01, 4.12183067e+00, 3.18152901e+00,\n",
       "       2.53231692e+01, 2.78499713e+00, 4.14698997e+01, 9.61360543e+00,\n",
       "       6.56684812e+01, 3.17474670e+00, 7.83105966e+00, 1.86225766e-01,\n",
       "       1.20431182e+01, 1.84937518e+01, 1.08546369e+01, 2.33595796e+00,\n",
       "       7.64541852e-01, 6.00574366e+00, 1.24246966e+00, 2.67508054e+01,\n",
       "       7.01762007e+00, 2.59173909e+00, 3.26589581e+00, 1.82293011e-01,\n",
       "       9.30350036e+00, 1.25725575e+00, 1.30037667e+01, 1.83292221e+01,\n",
       "       2.99608069e+01, 3.56395555e+00, 1.21751956e+01, 2.45831402e+01,\n",
       "       4.37591472e+01, 4.56811074e+00, 5.28404406e+00, 5.37849026e+00,\n",
       "       1.92364639e+01, 1.40327348e+01, 1.82564498e+00, 1.00997895e+00,\n",
       "       1.19643656e+01, 1.27768767e+01, 2.65348435e+01, 1.75774786e+01,\n",
       "       1.51224729e+01, 3.61133521e+01, 1.10446595e+01, 1.49807779e+01,\n",
       "       1.42285986e+00, 1.15792890e+01, 3.13100593e+00, 5.18607013e+00,\n",
       "       3.71880472e+01, 2.10857245e+00, 5.82743222e+00, 3.06400827e+00,\n",
       "       3.24079917e+01, 2.22293678e+00, 2.07747215e+00, 6.52836808e-01,\n",
       "       7.79295792e+00, 5.32713909e+00, 1.58607789e+01, 3.90285029e+01,\n",
       "       4.64801086e+00, 2.63406600e+00, 1.38982290e+00, 1.48729398e+00,\n",
       "       1.13589345e+01, 9.34081464e+00, 2.94622974e+00, 1.67044774e+01,\n",
       "       8.86785186e-01, 3.64975772e+00, 1.86098689e+01, 4.78708551e-01,\n",
       "       4.00524672e+00, 7.06158093e+00, 2.02034675e+00, 2.23047193e+00,\n",
       "       2.62201684e+01, 4.03602201e+00, 3.09222207e+00, 1.06619486e+01,\n",
       "       2.20971503e+00, 1.39827285e-01, 6.19520166e-01, 1.12353878e-01,\n",
       "       1.85691873e+01, 5.92078615e+00, 1.61333920e+01, 1.85482930e+01,\n",
       "       2.29705247e+00, 2.84958568e+01, 3.07259969e+00, 6.17572193e+00,\n",
       "       1.38292078e+01, 2.10386682e+01, 9.98908351e+00, 1.58346512e+00,\n",
       "       7.33960490e+00, 1.91118138e+01, 3.67141811e+01, 1.80682917e+01,\n",
       "       4.06405556e-01, 5.00868649e+00, 7.58445002e+00, 2.55623286e+00,\n",
       "       1.08005146e+01, 2.77104052e+00, 4.89305046e+00, 2.46160182e+01,\n",
       "       8.12119438e-01, 2.93523349e+00, 3.64638324e+01, 4.26955303e-01,\n",
       "       6.51869242e+00, 5.10773346e+00, 9.69544068e+00, 1.02555223e+01,\n",
       "       2.35925244e+01, 5.90710719e+00, 9.71987590e-01, 4.65879197e+00,\n",
       "       1.22096687e+01, 8.20685178e+00, 1.07977199e+00, 1.36386013e+01,\n",
       "       1.69551761e+00, 8.81926189e+00, 4.16097269e+00, 2.23536520e+00,\n",
       "       6.48819847e+00, 1.56349671e+00, 1.14773998e+01, 2.70417254e-01,\n",
       "       2.72515494e+01, 2.47046873e+01, 2.31043789e+01, 3.04192577e+01,\n",
       "       2.28922824e+01, 7.51952863e-02, 2.14716228e+01, 1.45274945e+01,\n",
       "       1.81788757e+00, 6.57823520e+00, 2.19076511e+01, 4.67728852e+00,\n",
       "       1.82273617e+01, 4.12062258e+01, 3.06254563e+01, 6.37796710e+00,\n",
       "       5.58641261e-01, 3.98009257e+00, 3.44691320e+00, 5.77144480e+00,\n",
       "       4.31922575e+00, 1.66710083e+01, 1.24611026e+01, 9.37248341e-01,\n",
       "       2.03135719e+00, 5.80333082e+00, 2.59169194e+00, 1.76235801e+00,\n",
       "       1.19136797e+01, 3.14410396e+00, 1.95094614e+01, 1.16302775e+01,\n",
       "       2.92676183e+01, 1.54350698e+01, 1.25261510e+01, 1.63267678e+01,\n",
       "       1.47057330e+00, 2.90389955e+00, 4.84115547e+00, 3.17805476e+01,\n",
       "       2.75601227e+00, 1.82200066e+01, 8.58778169e+00, 1.80728534e+01,\n",
       "       6.72698236e+00, 3.32565587e+00, 3.07354413e+00, 1.09908083e+01,\n",
       "       2.42632103e+00, 3.06626014e+00, 2.85140801e+00, 1.03347555e+01,\n",
       "       6.02914588e+00, 2.88176416e+00, 2.49690221e-01, 6.63598128e+00,\n",
       "       6.78078592e-01, 8.49988463e+00, 9.12660699e-01, 7.69485722e+00,\n",
       "       1.20748970e+00, 1.19679973e+01, 2.67459058e+00, 7.90664377e+00,\n",
       "       2.13403313e+01, 1.70896407e+01, 5.48055119e+00, 5.16451960e-02,\n",
       "       1.59417925e+01, 9.42544734e-01, 3.05631730e+00, 3.01681050e+00,\n",
       "       7.81293221e+00, 6.67351371e+00, 3.99794267e+00, 5.37386245e+00,\n",
       "       7.54416915e+00, 1.46925877e+01, 3.16301762e+00, 6.40146459e+00,\n",
       "       1.52756473e+00, 6.54879381e+00, 1.47323054e+01, 5.84989115e+00,\n",
       "       5.65872404e+00, 4.28859095e-01, 1.17029768e+01, 1.20397927e+01,\n",
       "       6.51590674e-01, 7.98739145e+00, 1.14737933e+01, 6.48680962e+00,\n",
       "       3.77560864e+01, 7.42382127e+00, 2.31909253e+01, 7.72796380e+00,\n",
       "       2.87782544e+00, 9.41947860e+00, 3.30944952e+01, 1.32740874e+00])"
      ]
     },
     "execution_count": 94,
     "metadata": {},
     "output_type": "execute_result"
    }
   ],
   "source": [
    "n100 = rand_exp(10,1000)\n",
    "n100"
   ]
  },
  {
   "cell_type": "code",
   "execution_count": 95,
   "metadata": {},
   "outputs": [
    {
     "data": {
      "text/plain": [
       "array([ 4.88815857,  4.46250952,  5.66870318,  2.96440453, 17.15030135,\n",
       "        0.23075337, 21.02546293,  2.66546236,  5.97164399, 12.1102545 ])"
      ]
     },
     "execution_count": 95,
     "metadata": {},
     "output_type": "execute_result"
    }
   ],
   "source": [
    "n10 = rand_exp(10,10)\n",
    "n10"
   ]
  },
  {
   "cell_type": "code",
   "execution_count": 99,
   "metadata": {},
   "outputs": [
    {
     "data": {
      "image/png": "[encoded data removed]",
      "text/plain": [
       "<Figure size 432x288 with 2 Axes>"
      ]
     },
     "metadata": {
      "needs_background": "light"
     },
     "output_type": "display_data"
    }
   ],
   "source": [
    "\n",
    "fig, ax= plt.subplots(1, 2, sharey = True)\n",
    "ax[0].hist(n10, bins=100);\n",
    "ax[1].hist(n100, bins=100);"
   ]
  },
  {
   "cell_type": "markdown",
   "metadata": {},
   "source": [
    "How are the two distributions different?"
   ]
  },
  {
   "cell_type": "code",
   "execution_count": null,
   "metadata": {},
   "outputs": [],
   "source": []
  },
  {
   "cell_type": "code",
   "execution_count": null,
   "metadata": {},
   "outputs": [],
   "source": [
    "# your answer here"
   ]
  },
  {
   "cell_type": "markdown",
   "metadata": {},
   "source": [
    "## Exponential Distribution of Real Data\n",
    "\n",
    "Suppose that the amount of time one spends in a bank is exponentially distributed with mean as 10 minutes (i.e. λ = 1/10). What is the probability that a customer will spend less than fifteen minutes in the bank? \n",
    "\n",
    "Write a code in python to solve this problem"
   ]
  },
  {
   "cell_type": "code",
   "execution_count": null,
   "metadata": {},
   "outputs": [],
   "source": [
    "# your answer here\n",
    "# Hint: This is same as saying P(x<15)"
   ]
  },
  {
   "cell_type": "markdown",
   "metadata": {},
   "source": [
    "What is the probability that the customer will spend more than 15 minutes"
   ]
  },
  {
   "cell_type": "code",
   "execution_count": null,
   "metadata": {},
   "outputs": [],
   "source": [
    "# your answer here"
   ]
  },
  {
   "cell_type": "code",
   "execution_count": null,
   "metadata": {},
   "outputs": [],
   "source": []
  }
 ],
 "metadata": {
  "kernelspec": {
   "display_name": "Python 3 (ipykernel)",
   "language": "python",
   "name": "python3"
  },
  "language_info": {
   "codemirror_mode": {
    "name": "ipython",
    "version": 3
   },
   "file_extension": ".py",
   "mimetype": "text/x-python",
   "name": "python",
   "nbconvert_exporter": "python",
   "pygments_lexer": "ipython3",
   "version": "3.9.12"
  },
  "toc": {
   "base_numbering": 1,
   "nav_menu": {},
   "number_sections": true,
   "sideBar": true,
   "skip_h1_title": false,
   "title_cell": "Table of Contents",
   "title_sidebar": "Contents",
   "toc_cell": true,
   "toc_position": {},
   "toc_section_display": true,
   "toc_window_display": false
  },
  "varInspector": {
   "cols": {
    "lenName": 16,
    "lenType": 16,
    "lenVar": 40
   },
   "kernels_config": {
    "python": {
     "delete_cmd_postfix": "",
     "delete_cmd_prefix": "del ",
     "library": "var_list.py",
     "varRefreshCmd": "print(var_dic_list())"
    },
    "r": {
     "delete_cmd_postfix": ") ",
     "delete_cmd_prefix": "rm(",
     "library": "var_list.r",
     "varRefreshCmd": "cat(var_dic_list()) "
    }
   },
   "types_to_exclude": [
    "module",
    "function",
    "builtin_function_or_method",
    "instance",
    "_Feature"
   ],
   "window_display": false
  }
 },
 "nbformat": 4,
 "nbformat_minor": 2
}
