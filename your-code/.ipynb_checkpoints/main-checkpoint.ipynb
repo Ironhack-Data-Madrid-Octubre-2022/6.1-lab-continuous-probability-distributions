{
 "cells": [
  {
   "cell_type": "markdown",
   "metadata": {
    "toc": true
   },
   "source": [
    "<h1>Table of Contents<span class=\"tocSkip\"></span></h1>\n",
    "<div class=\"toc\"><ul class=\"toc-item\"><li><span><a href=\"#Before-your-start:\" data-toc-modified-id=\"Before-your-start:-1\"><span class=\"toc-item-num\">1&nbsp;&nbsp;</span>Before your start:</a></span><ul class=\"toc-item\"><li><span><a href=\"#Uniform-Distribution\" data-toc-modified-id=\"Uniform-Distribution-1.1\"><span class=\"toc-item-num\">1.1&nbsp;&nbsp;</span>Uniform Distribution</a></span></li><li><span><a href=\"#Normal-Distribution\" data-toc-modified-id=\"Normal-Distribution-1.2\"><span class=\"toc-item-num\">1.2&nbsp;&nbsp;</span>Normal Distribution</a></span></li><li><span><a href=\"#Normal-Distribution-of-Real-Data\" data-toc-modified-id=\"Normal-Distribution-of-Real-Data-1.3\"><span class=\"toc-item-num\">1.3&nbsp;&nbsp;</span>Normal Distribution of Real Data</a></span></li><li><span><a href=\"#Exponential-Distribution\" data-toc-modified-id=\"Exponential-Distribution-1.4\"><span class=\"toc-item-num\">1.4&nbsp;&nbsp;</span>Exponential Distribution</a></span></li><li><span><a href=\"#Exponential-Distribution-of-Real-Data\" data-toc-modified-id=\"Exponential-Distribution-of-Real-Data-1.5\"><span class=\"toc-item-num\">1.5&nbsp;&nbsp;</span>Exponential Distribution of Real Data</a></span></li></ul></li></ul></div>"
   ]
  },
  {
   "cell_type": "markdown",
   "metadata": {},
   "source": [
    "# Before your start:\n",
    "\n",
    "    Read the README.md file\n",
    "    Comment as much as you can and use the resources (README.md file)\n",
    "    Happy learning!"
   ]
  },
  {
   "cell_type": "markdown",
   "metadata": {},
   "source": [
    "In this exercise, we  will generate random numbers from the continuous disributions we learned in the lesson. There are two ways to generate random numbers:\n",
    "\n",
    "1. Using the numpy library \n",
    "1. using the Scipy library \n",
    "\n",
    "Use either or both of the lbraries in this exercise."
   ]
  },
  {
   "cell_type": "markdown",
   "metadata": {},
   "source": [
    "## Uniform Distribution\n",
    "\n",
    "To generate uniform random numbers between any two given values using scipy, we can either use the following code or the code that we have\n",
    "discussed in class:"
   ]
  },
  {
   "cell_type": "code",
   "execution_count": 4,
   "metadata": {},
   "outputs": [
    {
     "name": "stdout",
     "output_type": "stream",
     "text": [
      "[2.87565835 2.2088934  2.81870967 2.20282806 2.52660394 2.00266998\n",
      " 2.2047805  2.74894307 2.43428748 2.00720562 2.29876815 2.54604751\n",
      " 2.50548145 2.5821155  2.13977464 2.42099419 2.69540993 2.73544393\n",
      " 2.41236367 2.55932787 2.30625714 2.90296897 2.94914252 2.07696408\n",
      " 2.30174826 2.79673911 2.88840299 2.02608474 2.12416314 2.03259319\n",
      " 2.70787712 2.13345554 2.64492635 2.57542158 2.91670356 2.28264979\n",
      " 2.14012152 2.57770502 2.05249932 2.10580042 2.11734333 2.5919849\n",
      " 2.22255334 2.30968075 2.10365037 2.95521499 2.00250855 2.12847888\n",
      " 2.11599557 2.59041174 2.80921836 2.51694806 2.14098838 2.48431258\n",
      " 2.9911624  2.24297013 2.41492807 2.93728873 2.22360067 2.57065216\n",
      " 2.27118911 2.09549181 2.62297522 2.13732832 2.37415217 2.68360684\n",
      " 2.94079801 2.68299006 2.11858862 2.02420802 2.74588393 2.58192628\n",
      " 2.46825415 2.03633484 2.84774735 2.23815838 2.17481176 2.53849078\n",
      " 2.95404613 2.36310195 2.11406095 2.89750397 2.96905266 2.43753932\n",
      " 2.76702876 2.57844724 2.49265001 2.85876181 2.61579407 2.91546005\n",
      " 2.77797684 2.95096624 2.80040876 2.24732524 2.91840913 2.44317071\n",
      " 2.01056033 2.49180735 2.30736263 2.76653067 2.73187464 2.80228985\n",
      " 2.72906309 2.81143035 2.40765302 2.46135714 2.83507385 2.58959185\n",
      " 2.31780545 2.17065597 2.13293205 2.27025029 2.252744   2.67873618\n",
      " 2.47249303 2.16396679 2.58865185 2.08660686 2.07933585 2.44992082\n",
      " 2.31873201 2.56504943 2.45291271 2.77156386 2.49547684 2.80285823\n",
      " 2.66714668 2.23965484 2.56642486 2.5032359  2.56419914 2.10492648\n",
      " 2.69442958 2.77509819 2.61676096 2.99860236 2.36649977 2.19431331\n",
      " 2.98302144 2.67956817 2.14886306 2.74205553 2.03403537 2.51950852\n",
      " 2.73807016 2.33273261 2.91821852 2.52710824 2.11719697 2.76740609\n",
      " 2.19131377 2.39593653 2.46022148 2.97965235 2.02745982 2.02854918\n",
      " 2.54060555 2.17614843 2.92269323 2.76392756 2.84840297 2.27953159\n",
      " 2.32823213 2.23791123 2.32565626 2.24995121 2.87675047 2.82231152\n",
      " 2.00435514 2.96945176 2.99650001 2.71725831 2.82931923 2.70000186\n",
      " 2.69106109 2.59722546 2.49969398 2.58933223 2.97459625 2.97472363\n",
      " 2.59013251 2.14546991 2.95660031 2.57036988 2.22178962 2.24194467\n",
      " 2.46983071 2.75525431 2.0025738  2.72959294 2.1642106  2.70993463\n",
      " 2.11422534 2.62031132 2.16184888 2.62099424 2.93219484 2.32298025\n",
      " 2.76727464 2.87103555 2.99306567 2.51319032 2.6210748  2.08808766\n",
      " 2.2482897  2.42162563 2.70764263 2.10023938 2.7304518  2.81103063\n",
      " 2.50295709 2.12540574 2.84329587 2.75893222 2.53699356 2.28980564\n",
      " 2.28732142 2.49970194 2.66288449 2.67417732 2.87716767 2.65528633\n",
      " 2.55108318 2.78995216 2.10781315 2.08806234 2.41410977 2.61564516\n",
      " 2.63369079 2.30270557 2.82925977 2.06131554 2.47594718 2.36202194\n",
      " 2.65606728 2.96150459 2.74477047 2.26678962 2.3173675  2.52146309\n",
      " 2.88314408 2.09444357 2.64119054 2.31758962 2.74184911 2.57834254\n",
      " 2.3987374  2.81665588 2.46814135 2.89506568 2.37846028 2.6826623\n",
      " 2.71349741 2.03481459 2.39388956 2.6839474  2.99721548 2.22276006\n",
      " 2.17566558 2.23450349 2.70028054 2.66467156 2.30595553 2.94814863\n",
      " 2.41668859 2.96527531 2.67091229 2.41541563 2.25457142 2.68950733\n",
      " 2.84042566 2.83020961 2.55951522 2.65856333 2.01215078 2.84311623\n",
      " 2.7547512  2.77930663 2.07749238 2.81437499 2.69456188 2.66050949\n",
      " 2.33332471 2.70486206 2.56370319 2.64175008 2.25041147 2.5974043\n",
      " 2.99014201 2.7124412  2.53350811 2.63352405 2.98196237 2.58552782\n",
      " 2.15015353 2.84936818 2.3856782  2.23111443 2.00033687 2.12060791\n",
      " 2.46613635 2.53520764 2.35870624 2.937789   2.89956268 2.05792384\n",
      " 2.16066319 2.94877736 2.4083007  2.60831778 2.10575234 2.60333234\n",
      " 2.96874307 2.33746243 2.91410931 2.5457712  2.61240307 2.95605164\n",
      " 2.88415901 2.26361648 2.93161738 2.95926767 2.99798352 2.45486773\n",
      " 2.67176385 2.46868588 2.10292031 2.20373078 2.99589024 2.42223031\n",
      " 2.51528587 2.96708386 2.91772411 2.21454635 2.80975626 2.59157967\n",
      " 2.28729622 2.72051474 2.66608274 2.68490773 2.44295845 2.83277983\n",
      " 2.55692575 2.71391667 2.70582895 2.70349624 2.65485671 2.38343958\n",
      " 2.47552713 2.01095645 2.02866102 2.81874268 2.84344883 2.8794847\n",
      " 2.01738861 2.02420199 2.18704997 2.81023731 2.86780429 2.03166989\n",
      " 2.7530235  2.0268799  2.0956222  2.13771816 2.27083311 2.85447063\n",
      " 2.14154397 2.832128   2.97009461 2.60479661 2.20652533 2.31879133\n",
      " 2.57100021 2.3289791  2.28688864 2.67935547 2.9472288  2.15723019\n",
      " 2.00543482 2.87141829 2.39510684 2.28918058 2.84845205 2.96113399\n",
      " 2.52105185 2.70301187 2.37571911 2.99578026 2.90055836 2.81081648\n",
      " 2.58934431 2.58742574 2.21044938 2.52041064 2.69924045 2.93333189\n",
      " 2.44201204 2.90256783 2.95913909 2.66086345 2.8045285  2.43625082\n",
      " 2.29600374 2.91706777 2.23059331 2.36657452 2.58517285 2.05125451\n",
      " 2.24122954 2.00127972 2.63484815 2.43192602 2.56190288 2.75198707\n",
      " 2.06522827 2.17179866 2.16475677 2.07407919 2.37542859 2.72556653\n",
      " 2.470371   2.89238334 2.2769607  2.28864219 2.70445805 2.789244\n",
      " 2.02381839 2.7066592  2.17145233 2.5401659  2.43513885 2.4608622\n",
      " 2.60358838 2.29857589 2.78846275 2.23788694 2.7154748  2.8081278\n",
      " 2.80241532 2.2931142  2.5329037  2.24013411 2.28206304 2.26381909\n",
      " 2.86907148 2.80793791 2.06469841 2.82027801 2.19714872 2.35217256\n",
      " 2.53289089 2.18304085 2.81537266 2.51397154 2.79021828 2.29341943\n",
      " 2.77194284 2.51620087 2.50035077 2.80340949 2.0529255  2.38227153\n",
      " 2.75467859 2.2304561  2.56299792 2.01107405 2.49891141 2.0370829\n",
      " 2.69070098 2.80421514 2.82796637 2.11432748 2.88217601 2.10392561\n",
      " 2.12233802 2.85547391 2.81857226 2.92258346 2.2672198  2.14815299\n",
      " 2.41508757 2.15471536 2.09442383 2.74415118 2.88693518 2.35264005\n",
      " 2.91726572 2.63737054 2.80002789 2.06120635 2.31610378 2.08251992\n",
      " 2.36098864 2.81617341 2.13871702 2.93099616 2.34387289 2.49371864\n",
      " 2.79901192 2.99633683 2.57780801 2.62517416 2.98422415 2.83622645\n",
      " 2.80749551 2.92972977 2.48558178 2.16739241 2.7500203  2.56898766\n",
      " 2.88765301 2.91104579 2.211871   2.43948897 2.84092803 2.08178749\n",
      " 2.14127409 2.96577875 2.82922371 2.80240724 2.65073707 2.56596844\n",
      " 2.59630593 2.2471609  2.00055285 2.5108092  2.74132494 2.28877992\n",
      " 2.75278035 2.98619825 2.66651068 2.26899895 2.51680915 2.16507113\n",
      " 2.33791977 2.49010981 2.91779509 2.88461522 2.35982523 2.45144844\n",
      " 2.74778311 2.91556942 2.42350495 2.74720201 2.36227027 2.94202706\n",
      " 2.5411335  2.8278769  2.834765   2.97837328 2.37308558 2.94325626\n",
      " 2.29952256 2.48432075 2.38664384 2.65131961 2.14472577 2.13920847\n",
      " 2.77795888 2.64496652 2.04192963 2.03101438 2.62889678 2.45111186\n",
      " 2.73113729 2.03188078 2.23695895 2.51668148 2.66405347 2.10593867\n",
      " 2.58503706 2.53351767 2.6663268  2.72355508 2.40046744 2.63056435\n",
      " 2.97778426 2.28911836 2.71479739 2.68285746 2.66794208 2.02135963\n",
      " 2.46208827 2.55001301 2.79161611 2.58099265 2.15933703 2.57166381\n",
      " 2.45107656 2.30505227 2.21075642 2.2818956  2.14037315 2.58467994\n",
      " 2.10278764 2.49755487 2.83525483 2.30905363 2.45158041 2.56280838\n",
      " 2.43501641 2.88926892 2.15201483 2.21940424 2.46542599 2.73385887\n",
      " 2.43754985 2.42531301 2.40237452 2.37661031 2.32832656 2.75841263\n",
      " 2.23152386 2.79605449 2.72874575 2.17919901 2.04205538 2.96607952\n",
      " 2.69019557 2.60905643 2.76488872 2.30737146 2.14150231 2.23445108\n",
      " 2.96510297 2.04871959 2.12904134 2.89847777 2.15466398 2.19937508\n",
      " 2.3601138  2.56248188 2.15297716 2.22932086 2.25594167 2.42944259\n",
      " 2.86202252 2.56437648 2.49719863 2.53004977 2.43128209 2.71451215\n",
      " 2.87747281 2.51219104 2.05459548 2.2501925  2.87523794 2.5224504\n",
      " 2.99335071 2.09128166 2.54465948 2.67968854 2.4106614  2.78347873\n",
      " 2.91407103 2.29773183 2.7537449  2.81615053 2.83472889 2.06403949\n",
      " 2.60712134 2.49541804 2.285862   2.82289908 2.59382161 2.52115339\n",
      " 2.50129605 2.91902251 2.6952589  2.05597048 2.48165979 2.849415\n",
      " 2.74061321 2.61773088 2.3052558  2.54087214 2.29041829 2.52686686\n",
      " 2.51647517 2.91160437 2.80985525 2.60525997 2.71301994 2.65024829\n",
      " 2.3937429  2.03832804 2.91987252 2.52677742 2.6257025  2.03784546\n",
      " 2.54214606 2.52609678 2.65676984 2.19085563 2.79575965 2.08792993\n",
      " 2.86881657 2.30484541 2.76777656 2.91840503 2.29722106 2.70211738\n",
      " 2.50374407 2.57869555 2.80111345 2.68561618 2.18892665 2.89149092\n",
      " 2.0466179  2.11947555 2.94316607 2.0570242  2.13441395 2.00692418\n",
      " 2.81209277 2.79014318 2.31951273 2.31432467 2.00438647 2.33541973\n",
      " 2.26319908 2.21845903 2.10630664 2.13451558 2.37467048 2.98952306\n",
      " 2.42743544 2.12470206 2.82690499 2.38788872 2.91669734 2.6594309\n",
      " 2.00505387 2.56083748 2.8385966  2.98143296 2.50324667 2.02265944\n",
      " 2.78781026 2.97616477 2.84548369 2.21965305 2.55404267 2.75169726\n",
      " 2.59773044 2.72951517 2.89689055 2.96161796 2.60735508 2.64131304\n",
      " 2.37659783 2.01710729 2.78508207 2.76313329 2.76540811 2.64258894\n",
      " 2.4360073  2.51148982 2.96966474 2.8317177  2.35839373 2.26212926\n",
      " 2.64441259 2.33376425 2.23041607 2.18160887 2.00424437 2.77257395\n",
      " 2.78720839 2.19494811 2.49515398 2.35781242 2.04712294 2.42218006\n",
      " 2.02382457 2.78261762 2.49379062 2.48547998 2.46515933 2.21041175\n",
      " 2.01310599 2.78033968 2.3520655  2.63642116 2.65147871 2.91288478\n",
      " 2.46165095 2.04967065 2.95775303 2.86706211 2.6560431  2.9636659\n",
      " 2.48133044 2.06252572 2.10400947 2.15251303 2.10070484 2.28913635\n",
      " 2.82881917 2.00906202 2.23177019 2.45988874 2.00962928 2.48517234\n",
      " 2.35473783 2.16443567 2.98005405 2.22041581 2.89072733 2.76592521\n",
      " 2.00668441 2.64632402 2.51759836 2.6571553  2.06037899 2.63766248\n",
      " 2.31179167 2.8694325  2.00630249 2.31825986 2.36614745 2.1610466\n",
      " 2.4467891  2.20969517 2.25854008 2.27531694 2.56007555 2.64599158\n",
      " 2.02377671 2.43073979 2.05045236 2.02763557 2.90797887 2.37156646\n",
      " 2.46956242 2.6442563  2.32716939 2.08262519 2.91350367 2.45435429\n",
      " 2.35245992 2.17322567 2.29219457 2.62500131 2.7933319  2.86938282\n",
      " 2.13570674 2.04481866 2.06768749 2.77454558 2.68926515 2.70763573\n",
      " 2.19684796 2.05453542 2.81543544 2.60381407 2.52266801 2.83623656\n",
      " 2.05734566 2.18428121 2.02896663 2.21437463 2.68185312 2.09339968\n",
      " 2.66133491 2.27751033 2.78386239 2.04175426 2.49899196 2.02523441\n",
      " 2.66508803 2.17748869 2.67585999 2.70115209 2.92700464 2.81894104\n",
      " 2.62470514 2.46340206 2.45324951 2.94502045 2.81006229 2.25504974\n",
      " 2.66464268 2.10301933 2.0125219  2.44849712 2.73504463 2.94196794\n",
      " 2.13358184 2.36566361 2.99075956 2.37465572 2.26171638 2.23022158\n",
      " 2.28432473 2.21043154 2.29984502 2.93284854 2.0039627  2.04957459\n",
      " 2.83441152 2.79946353 2.32880042 2.88572371 2.07857214 2.32253202\n",
      " 2.78015567 2.53295978 2.77676969 2.74360745 2.54693935 2.30772747\n",
      " 2.88928988 2.88981493 2.43245673 2.98459621 2.0932878  2.4386167\n",
      " 2.20947873 2.00057386 2.8689022  2.31227965 2.27647185 2.85686862\n",
      " 2.34031771 2.35640705 2.07269368 2.62274059 2.1445084  2.02750309\n",
      " 2.31162016 2.08684872 2.16722997 2.70355429 2.38119052 2.35094866\n",
      " 2.95413057 2.04729366 2.44695083 2.14232857 2.88522846 2.11548818\n",
      " 2.44428945 2.27624267 2.66206107 2.71491063 2.67615385 2.99912371\n",
      " 2.88855938 2.0830512  2.10841346 2.44063739 2.35604914 2.21320775\n",
      " 2.06551926 2.56151792 2.89447614 2.45730712 2.03738283 2.30996256\n",
      " 2.31616697 2.12410653 2.95685883 2.01175457 2.70083441 2.55085176\n",
      " 2.54030438 2.00383572 2.27958954 2.70751329 2.86587381 2.73169414\n",
      " 2.02628214 2.32499914 2.01095791 2.998909   2.50089954 2.59618967\n",
      " 2.99264335 2.20395954 2.69513047 2.70301899 2.73904142 2.62568406\n",
      " 2.81328749 2.13190003 2.09072162 2.65715437 2.37228494 2.34418133\n",
      " 2.99874064 2.60117309 2.75204383 2.95129981 2.68054442 2.09887339\n",
      " 2.76714448 2.73102557 2.21218934 2.47526348]\n",
      "2.5026732282864788\n"
     ]
    }
   ],
   "source": [
    "from scipy.stats import uniform\n",
    "x = uniform.rvs(size=1000)\n",
    "a = 2\n",
    "b = 3\n",
    "randoms  = a + (b-a)*x\n",
    "print(randoms)\n",
    "print(randoms.mean())"
   ]
  },
  {
   "cell_type": "markdown",
   "metadata": {},
   "source": [
    "**Your task:**\n",
    "\n",
    "1. Based on the code above, write a function that generates uniformly distributed random numbers. There are several requirements for your function:\n",
    "    * It should accept 3 parameters: \n",
    "        * `bottom` - the lower boundary of the generated numbers\n",
    "        * `ceiling` - the upper boundary of the generated numbers\n",
    "        * `count` - how many numbers to generate\n",
    "    * It should return an array of uniformly distributed random numbers\n",
    "\n",
    "1. Call your function with 2 sets of params below:\n",
    "    * bottom=10, ceiling=15, count=100\n",
    "    * bottom=10, ceiling=60, count=1,000\n",
    "\n",
    "1. Plot the uniform distributions generated above using histograms, where x axis is the value and y axis is the count. Let the histogram's number of bins be 10.\n",
    "\n",
    "Your output should look like below:\n",
    "\n",
    "![uniform distribution](ud.png)"
   ]
  },
  {
   "cell_type": "code",
   "execution_count": null,
   "metadata": {},
   "outputs": [],
   "source": [
    "# your code here"
   ]
  },
  {
   "cell_type": "markdown",
   "metadata": {},
   "source": [
    "How are the two distributions different?"
   ]
  },
  {
   "cell_type": "code",
   "execution_count": null,
   "metadata": {},
   "outputs": [],
   "source": [
    "# your answer below"
   ]
  },
  {
   "cell_type": "markdown",
   "metadata": {},
   "source": [
    "## Normal Distribution\n",
    "\n",
    "1. In the same way in the Uniform Distribution challenge, write a function that generates normally distributed random numbers.\n",
    "1. Generate 1,000 normally distributed numbers with the average of 10 and standard deviation of 1\n",
    "1. Generate 1,000 normally distributed numbers with the average of 10 and standard deviation of 50\n",
    "2. Plot the distributions of the data generated.\n",
    "\n",
    "Expected output:\n",
    "\n",
    "![normal distribution](nd.png)"
   ]
  },
  {
   "cell_type": "code",
   "execution_count": null,
   "metadata": {},
   "outputs": [],
   "source": [
    "# your code here"
   ]
  },
  {
   "cell_type": "markdown",
   "metadata": {},
   "source": [
    "How are the two distributions different?"
   ]
  },
  {
   "cell_type": "code",
   "execution_count": null,
   "metadata": {},
   "outputs": [],
   "source": [
    "# your answer below"
   ]
  },
  {
   "cell_type": "markdown",
   "metadata": {},
   "source": [
    "## Normal Distribution of Real Data\n",
    "\n",
    "In this challenge we are going to take a look the real data. We will use vehicles.csv file for this exercise"
   ]
  },
  {
   "cell_type": "markdown",
   "metadata": {},
   "source": [
    "First import vehicles.csv.\n",
    "Then plot the histograms for the following variables:\n",
    "\n",
    "1. Fuel Barrels/Year"
   ]
  },
  {
   "cell_type": "code",
   "execution_count": null,
   "metadata": {},
   "outputs": [],
   "source": [
    "# your code here"
   ]
  },
  {
   "cell_type": "markdown",
   "metadata": {},
   "source": [
    "2. CO2 Emission Grams/Mile "
   ]
  },
  {
   "cell_type": "code",
   "execution_count": null,
   "metadata": {},
   "outputs": [],
   "source": [
    "# your code here"
   ]
  },
  {
   "cell_type": "markdown",
   "metadata": {},
   "source": [
    "3. Combined MPG"
   ]
  },
  {
   "cell_type": "code",
   "execution_count": null,
   "metadata": {},
   "outputs": [],
   "source": [
    "# your code here"
   ]
  },
  {
   "cell_type": "markdown",
   "metadata": {},
   "source": [
    "Which one(s) of the variables are nearly normally distributed? How do you know?"
   ]
  },
  {
   "cell_type": "code",
   "execution_count": null,
   "metadata": {},
   "outputs": [],
   "source": [
    "# your answer here"
   ]
  },
  {
   "cell_type": "markdown",
   "metadata": {},
   "source": [
    "## Exponential Distribution"
   ]
  },
  {
   "cell_type": "markdown",
   "metadata": {},
   "source": [
    "1. Using `numpy.random.exponential`, create a function that returns a list of numbers exponentially distributed with the mean of 10. \n",
    "\n",
    "1. Use the function to generate two number sequences with the size of 10 and 100.\n",
    "\n",
    "1. Plot the distributions as histograms with the nubmer of bins as 100.\n",
    "\n",
    "Your output should look like below:\n",
    "\n",
    "![exponential distribution](ed.png)"
   ]
  },
  {
   "cell_type": "code",
   "execution_count": null,
   "metadata": {},
   "outputs": [],
   "source": [
    "# your code here"
   ]
  },
  {
   "cell_type": "markdown",
   "metadata": {},
   "source": [
    "How are the two distributions different?"
   ]
  },
  {
   "cell_type": "code",
   "execution_count": null,
   "metadata": {},
   "outputs": [],
   "source": [
    "# your answer here"
   ]
  },
  {
   "cell_type": "markdown",
   "metadata": {},
   "source": [
    "## Exponential Distribution of Real Data\n",
    "\n",
    "Suppose that the amount of time one spends in a bank is exponentially distributed with mean as 10 minutes (i.e. λ = 1/10). What is the probability that a customer will spend less than fifteen minutes in the bank? \n",
    "\n",
    "Write a code in python to solve this problem"
   ]
  },
  {
   "cell_type": "code",
   "execution_count": null,
   "metadata": {},
   "outputs": [],
   "source": [
    "# your answer here\n",
    "# Hint: This is same as saying P(x<15)"
   ]
  },
  {
   "cell_type": "markdown",
   "metadata": {},
   "source": [
    "What is the probability that the customer will spend more than 15 minutes"
   ]
  },
  {
   "cell_type": "code",
   "execution_count": null,
   "metadata": {},
   "outputs": [],
   "source": [
    "# your answer here"
   ]
  },
  {
   "cell_type": "code",
   "execution_count": null,
   "metadata": {},
   "outputs": [],
   "source": []
  }
 ],
 "metadata": {
  "kernelspec": {
   "display_name": "Python 3 (ipykernel)",
   "language": "python",
   "name": "python3"
  },
  "language_info": {
   "codemirror_mode": {
    "name": "ipython",
    "version": 3
   },
   "file_extension": ".py",
   "mimetype": "text/x-python",
   "name": "python",
   "nbconvert_exporter": "python",
   "pygments_lexer": "ipython3",
   "version": "3.9.12"
  },
  "toc": {
   "base_numbering": 1,
   "nav_menu": {},
   "number_sections": true,
   "sideBar": true,
   "skip_h1_title": false,
   "title_cell": "Table of Contents",
   "title_sidebar": "Contents",
   "toc_cell": true,
   "toc_position": {},
   "toc_section_display": true,
   "toc_window_display": false
  },
  "varInspector": {
   "cols": {
    "lenName": 16,
    "lenType": 16,
    "lenVar": 40
   },
   "kernels_config": {
    "python": {
     "delete_cmd_postfix": "",
     "delete_cmd_prefix": "del ",
     "library": "var_list.py",
     "varRefreshCmd": "print(var_dic_list())"
    },
    "r": {
     "delete_cmd_postfix": ") ",
     "delete_cmd_prefix": "rm(",
     "library": "var_list.r",
     "varRefreshCmd": "cat(var_dic_list()) "
    }
   },
   "types_to_exclude": [
    "module",
    "function",
    "builtin_function_or_method",
    "instance",
    "_Feature"
   ],
   "window_display": false
  }
 },
 "nbformat": 4,
 "nbformat_minor": 2
}
