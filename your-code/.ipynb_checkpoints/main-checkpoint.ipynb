{
 "cells": [
  {
   "cell_type": "markdown",
   "metadata": {
    "toc": true
   },
   "source": [
    "<h1>Table of Contents<span class=\"tocSkip\"></span></h1>\n",
    "<div class=\"toc\"><ul class=\"toc-item\"><li><span><a href=\"#Before-your-start:\" data-toc-modified-id=\"Before-your-start:-1\"><span class=\"toc-item-num\">1&nbsp;&nbsp;</span>Before your start:</a></span><ul class=\"toc-item\"><li><span><a href=\"#Uniform-Distribution\" data-toc-modified-id=\"Uniform-Distribution-1.1\"><span class=\"toc-item-num\">1.1&nbsp;&nbsp;</span>Uniform Distribution</a></span></li><li><span><a href=\"#Normal-Distribution\" data-toc-modified-id=\"Normal-Distribution-1.2\"><span class=\"toc-item-num\">1.2&nbsp;&nbsp;</span>Normal Distribution</a></span></li><li><span><a href=\"#Normal-Distribution-of-Real-Data\" data-toc-modified-id=\"Normal-Distribution-of-Real-Data-1.3\"><span class=\"toc-item-num\">1.3&nbsp;&nbsp;</span>Normal Distribution of Real Data</a></span></li><li><span><a href=\"#Exponential-Distribution\" data-toc-modified-id=\"Exponential-Distribution-1.4\"><span class=\"toc-item-num\">1.4&nbsp;&nbsp;</span>Exponential Distribution</a></span></li><li><span><a href=\"#Exponential-Distribution-of-Real-Data\" data-toc-modified-id=\"Exponential-Distribution-of-Real-Data-1.5\"><span class=\"toc-item-num\">1.5&nbsp;&nbsp;</span>Exponential Distribution of Real Data</a></span></li></ul></li></ul></div>"
   ]
  },
  {
   "cell_type": "markdown",
   "metadata": {},
   "source": [
    "# Before your start:\n",
    "\n",
    "    Read the README.md file\n",
    "    Comment as much as you can and use the resources (README.md file)\n",
    "    Happy learning!"
   ]
  },
  {
   "cell_type": "markdown",
   "metadata": {},
   "source": [
    "In this exercise, we  will generate random numbers from the continuous disributions we learned in the lesson. There are two ways to generate random numbers:\n",
    "\n",
    "1. Using the numpy library \n",
    "1. using the Scipy library \n",
    "\n",
    "Use either or both of the lbraries in this exercise."
   ]
  },
  {
   "cell_type": "markdown",
   "metadata": {},
   "source": [
    "## Uniform Distribution\n",
    "\n",
    "To generate uniform random numbers between any two given values using scipy, we can either use the following code or the code that we have\n",
    "discussed in class:"
   ]
  },
  {
   "cell_type": "code",
   "execution_count": 1,
   "metadata": {},
   "outputs": [
    {
     "name": "stdout",
     "output_type": "stream",
     "text": [
      "[2.12900715 2.87745974 2.77275778 2.7592496  2.8205867  2.55251102\n",
      " 2.04777969 2.23598035 2.53266689 2.71636118]\n"
     ]
    }
   ],
   "source": [
    "from scipy.stats import uniform\n",
    "x = uniform.rvs(size=10)\n",
    "a = 2\n",
    "b = 3\n",
    "randoms  = a + (b-a)*x\n",
    "print(randoms)"
   ]
  },
  {
   "cell_type": "markdown",
   "metadata": {},
   "source": [
    "**Your task:**\n",
    "\n",
    "1. Based on the code above, write a function that generates uniformly distributed random numbers. There are several requirements for your function:\n",
    "    * It should accept 3 parameters: \n",
    "        * `bottom` - the lower boundary of the generated numbers\n",
    "        * `ceiling` - the upper boundary of the generated numbers\n",
    "        * `count` - how many numbers to generate\n",
    "    * It should return an array of uniformly distributed random numbers\n",
    "\n",
    "1. Call your function with 2 sets of params below:\n",
    "    * bottom=10, ceiling=15, count=100\n",
    "    * bottom=10, ceiling=60, count=1,000\n",
    "\n",
    "1. Plot the uniform distributions generated above using histograms, where x axis is the value and y axis is the count. Let the histogram's number of bins be 10.\n",
    "\n",
    "Your output should look like below:\n",
    "\n",
    "![uniform distribution](ud.png)"
   ]
  },
  {
   "cell_type": "code",
   "execution_count": 4,
   "metadata": {},
   "outputs": [
    {
     "data": {
      "text/plain": [
       "array([11.41994253, 11.23765499, 14.88589452, 10.5919414 , 12.73652365,\n",
       "       13.93964427, 11.51822399, 14.79279634, 11.74015351, 13.35274768,\n",
       "       13.60205619, 11.29970491, 10.76182609, 11.91985417, 14.57046912,\n",
       "       13.19266369, 12.19698313, 14.43704606, 13.6160075 , 12.57723948,\n",
       "       11.27647151, 13.69377567, 10.95326154, 11.42981036, 11.60892402,\n",
       "       14.2441034 , 11.26401298, 13.06401808, 10.52407057, 11.40398375,\n",
       "       10.31775314, 12.74949025, 10.10248628, 12.41896755, 12.35305504,\n",
       "       10.63061056, 13.86354085, 13.20617312, 11.71821516, 13.62642191,\n",
       "       14.9130389 , 14.95888584, 10.73419115, 12.9026818 , 11.15227823,\n",
       "       10.33833267, 10.37398586, 10.88752158, 13.0268856 , 12.20871278,\n",
       "       13.96178777, 10.5849982 , 12.59559935, 11.63465196, 11.66746651,\n",
       "       11.2346533 , 13.5933202 , 10.11567896, 12.06588932, 13.31145236,\n",
       "       11.34782429, 11.08778566, 13.24302886, 14.55954651, 10.84588099,\n",
       "       11.08496817, 10.76307894, 10.05430958, 12.26068358, 10.05215918,\n",
       "       11.03186995, 11.37047079, 14.56532659, 13.99178971, 13.69208448,\n",
       "       13.09899368, 10.94103583, 10.20595122, 11.75965043, 10.70888768,\n",
       "       14.32685923, 14.79991948, 13.07784341, 14.57698903, 14.50041022,\n",
       "       12.72488512, 14.66454566, 14.74380054, 11.49304849, 14.20898823,\n",
       "       10.2045136 , 10.50717462, 14.44619927, 14.96010675, 12.50189019,\n",
       "       14.27366644, 11.5096362 , 13.00518594, 10.44882134, 10.29086021])"
      ]
     },
     "execution_count": 4,
     "metadata": {},
     "output_type": "execute_result"
    }
   ],
   "source": [
    "# your code here\n",
    "x = uniform.rvs(size=100)\n",
    "i  = 10 + (15-10)*x\n",
    "i"
   ]
  },
  {
   "cell_type": "code",
   "execution_count": 5,
   "metadata": {},
   "outputs": [
    {
     "data": {
      "text/plain": [
       "array([43.6371156 , 41.66769638, 21.27585464, 46.97229625, 19.88577122,\n",
       "       53.89395806, 36.69676744, 45.90436552, 20.05327803, 52.99404084,\n",
       "       56.1417285 , 40.55229235, 39.66330757, 16.66865398, 13.8602497 ,\n",
       "       51.07343149, 21.1533011 , 20.49929833, 13.07211707, 34.13893352,\n",
       "       24.63781914, 31.52110703, 59.64009373, 51.14912142, 11.54264926,\n",
       "       56.88859122, 43.95973232, 51.83256581, 43.19174124, 43.33391046,\n",
       "       19.34002349, 42.17976579, 16.40659611, 19.58819842, 35.07761584,\n",
       "       36.7973645 , 41.52099074, 43.84646991, 14.35166201, 42.31642186,\n",
       "       23.95488856, 44.80768952, 58.78906655, 27.57184359, 21.98822378,\n",
       "       41.55754711, 41.53655131, 49.71921085, 14.95400974, 46.48821757,\n",
       "       21.9665276 , 49.78692507, 49.41551727, 16.0387329 , 51.93555052,\n",
       "       51.38435277, 42.42976083, 36.72305988, 16.38263983, 25.21442579,\n",
       "       40.13371659, 45.55010485, 15.44876935, 54.9058784 , 12.67789229,\n",
       "       49.12452492, 37.3742384 , 28.33515574, 13.0478572 , 43.58422241,\n",
       "       43.43008844, 28.60862199, 51.08983447, 49.57550875, 26.40352972,\n",
       "       43.28275611, 55.44857736, 22.77521359, 30.60312351, 55.40575434,\n",
       "       38.04801005, 15.75219915, 40.34396331, 11.25946807, 51.27365151,\n",
       "       25.35921755, 14.17948574, 16.71566192, 26.40640545, 10.33603539,\n",
       "       48.87393102, 58.04374044, 21.74784404, 53.92863747, 51.43584519,\n",
       "       18.08431487, 42.87825992, 39.09727754, 27.61590108, 29.33243409,\n",
       "       17.33438079, 54.39883336, 37.82448968, 32.57065031, 57.26767687,\n",
       "       15.05052032, 28.21978773, 35.60156536, 19.49772727, 27.37067434,\n",
       "       10.05034573, 21.45588525, 39.24936664, 31.70524387, 58.94616611,\n",
       "       47.31239797, 41.37070555, 43.3931291 , 18.41957416, 47.75833024,\n",
       "       45.0052369 , 42.96168277, 49.31744084, 11.94612419, 42.29855907,\n",
       "       45.21069982, 17.31635752, 32.50692866, 49.95303702, 15.80739289,\n",
       "       52.16047659, 31.77578721, 49.87492747, 48.66750411, 47.2123441 ,\n",
       "       30.45145451, 31.79395954, 10.64245859, 48.46757881, 10.17258897,\n",
       "       12.97805216, 26.70952104, 55.94140188, 47.09415607, 31.92262575,\n",
       "       24.61113566, 18.49250457, 11.81095249, 42.25926379, 54.48355512,\n",
       "       44.5003889 , 15.46288949, 52.08983527, 48.02303969, 31.17467694,\n",
       "       26.97347744, 12.94423944, 33.70080127, 23.26976426, 54.63290246,\n",
       "       23.16200069, 54.20874111, 12.623775  , 16.05899416, 58.09484913,\n",
       "       52.3858282 , 20.13993379, 39.45313883, 19.71509038, 10.62993464,\n",
       "       35.89609503, 34.6299358 , 41.79016976, 31.86965743, 50.56559097,\n",
       "       31.59969525, 59.53883153, 53.33223888, 22.00007859, 44.09776667,\n",
       "       50.39812256, 39.2329827 , 17.91268048, 56.96636961, 48.9406206 ,\n",
       "       58.13378923, 39.65414633, 12.77424139, 40.39127522, 18.70975935,\n",
       "       13.66854293, 28.98600653, 32.3479408 , 45.68978253, 51.46690804,\n",
       "       42.64282417, 18.65393309, 23.10317778, 20.03043044, 26.34394876,\n",
       "       11.98149225, 33.31496054, 56.50899289, 47.17698837, 29.32308404,\n",
       "       58.38015117, 22.80060615, 51.85800954, 41.01187964, 21.0666508 ,\n",
       "       51.41828803, 42.32648728, 14.69583935, 33.12019452, 33.39099485,\n",
       "       32.97621532, 41.77638661, 15.89586551, 17.78398742, 29.86165065,\n",
       "       49.19680137, 29.92002631, 13.37289815, 17.27048257, 47.41387515,\n",
       "       35.62446518, 20.13040419, 13.49243562, 11.45954805, 45.3564537 ,\n",
       "       21.11612288, 32.9355448 , 21.61503008, 47.21677189, 38.40778035,\n",
       "       32.83999318, 40.61572132, 21.26348304, 17.48480889, 55.97348256,\n",
       "       47.47769628, 32.70233327, 43.07720481, 44.24999268, 37.0928898 ,\n",
       "       27.00127969, 40.14579938, 24.00529645, 35.19016416, 13.63722336,\n",
       "       17.59949033, 27.72640236, 35.28326835, 23.83694749, 23.91073725,\n",
       "       26.24883572, 24.21862792, 43.27958889, 53.92734329, 35.09979004,\n",
       "       19.80141333, 45.43358122, 58.46053239, 56.88073618, 53.16385831,\n",
       "       50.06451984, 39.68509908, 20.92473697, 22.98958672, 56.50081979,\n",
       "       52.91107471, 51.92348123, 44.09398386, 39.15542878, 59.09056516,\n",
       "       58.2996343 , 19.86952   , 24.9812666 , 33.67345323, 26.81563148,\n",
       "       59.05648663, 48.54270107, 22.28763109, 44.44275773, 58.78975641,\n",
       "       22.57194254, 30.73092814, 54.90272088, 43.96438963, 49.61432628,\n",
       "       51.09438314, 47.66153212, 16.10089199, 45.0431506 , 23.26456536,\n",
       "       23.78926515, 34.2162424 , 56.78682254, 24.26286028, 53.78276481,\n",
       "       32.51684823, 36.9723345 , 56.39498926, 43.9880112 , 24.76266137,\n",
       "       21.88665511, 12.15252159, 40.99344239, 31.82342705, 53.19874317,\n",
       "       59.76725975, 29.55988827, 54.54434925, 53.86758818, 37.54928272,\n",
       "       12.33856348, 48.50005241, 43.20121221, 29.72513099, 24.28312477,\n",
       "       17.78740499, 48.94405197, 25.82209764, 47.38471768, 35.05802868,\n",
       "       12.5797167 , 25.38100174, 13.88408837, 19.04503637, 25.85457307,\n",
       "       50.79443911, 19.80324425, 11.487311  , 57.02885833, 51.34060012,\n",
       "       35.68431283, 12.27183418, 43.82924153, 36.65221896, 41.13998257,\n",
       "       35.00699266, 47.70396353, 14.95431902, 23.37792139, 52.79242877,\n",
       "       38.97949801, 46.09443129, 28.66279736, 51.36132777, 33.16349706,\n",
       "       34.46200482, 43.09536743, 42.4217581 , 12.13719057, 14.73464899,\n",
       "       48.97934725, 52.19075759, 58.86968652, 26.92240598, 37.13772147,\n",
       "       31.52411025, 33.67791078, 17.90679984, 25.91880675, 29.95961661,\n",
       "       48.23260041, 44.37355247, 19.64499582, 18.53923393, 29.7435033 ,\n",
       "       35.99674999, 44.46905161, 53.18580186, 29.67180775, 22.64630331,\n",
       "       25.63271666, 38.79125845, 17.63261824, 16.39894468, 33.05738783,\n",
       "       23.16334941, 36.53470912, 17.09359076, 17.55531183, 48.50377522,\n",
       "       27.80410745, 34.56356134, 12.34094464, 39.4202733 , 17.35573726,\n",
       "       40.11967966, 57.99180916, 43.35794605, 48.619377  , 48.93242445,\n",
       "       27.69782088, 18.76146763, 59.38403132, 14.61046072, 11.30749724,\n",
       "       11.37598233, 41.70524948, 13.98241221, 42.3536907 , 44.39539187,\n",
       "       36.29378382, 30.39424063, 41.66363065, 26.23716593, 43.26124542,\n",
       "       35.26413238, 44.37123937, 57.6886724 , 13.62962784, 51.47384863,\n",
       "       29.75500194, 47.36075173, 20.48393401, 20.99577665, 37.95829594,\n",
       "       35.83329193, 15.72711667, 22.81175337, 44.5606296 , 23.99708273,\n",
       "       15.07792009, 52.20680275, 52.91845909, 19.92282963, 25.60454144,\n",
       "       31.39332033, 32.4929594 , 52.87145643, 32.75614304, 39.95053229,\n",
       "       39.40331247, 59.99353559, 12.13175729, 12.93447357, 34.95868798,\n",
       "       29.07911275, 57.84107816, 33.10496639, 41.50571906, 50.04228436,\n",
       "       48.1061698 , 20.13086136, 59.40725802, 58.17944238, 43.45698032,\n",
       "       33.29096623, 41.87633226, 38.32470089, 14.32889675, 44.36550406,\n",
       "       54.91910667, 22.254672  , 59.975804  , 55.00052961, 31.69935147,\n",
       "       43.75014124, 15.09250438, 24.59353159, 24.87926283, 58.69405132,\n",
       "       36.85277573, 13.48585494, 25.67938672, 21.32237584, 10.13496097,\n",
       "       24.72085501, 56.11991518, 14.60654715, 25.11124849, 57.82339544,\n",
       "       10.78917962, 59.04379979, 20.90190292, 13.49896563, 51.77257325,\n",
       "       41.133861  , 23.65249015, 16.36405687, 44.26515591, 34.07466783,\n",
       "       17.44091814, 35.10586392, 14.99056329, 23.38537428, 59.73219298,\n",
       "       56.12442816, 22.73202843, 18.54097274, 41.21233625, 56.86336821,\n",
       "       45.37894718, 56.10233536, 38.84638643, 43.00599097, 57.39178213,\n",
       "       58.83293195, 28.09562889, 43.27575974, 53.91422601, 59.01414476,\n",
       "       52.36114553, 46.51035815, 54.02826009, 47.75594532, 46.2277925 ,\n",
       "       36.63131114, 48.8373945 , 25.64304862, 54.16149839, 46.85352168,\n",
       "       15.39954844, 52.69990972, 32.10743512, 42.95099423, 32.02659609,\n",
       "       51.12452598, 54.03078885, 38.6701254 , 32.47197259, 46.95390279,\n",
       "       14.99978818, 41.09188525, 54.63976184, 55.53070852, 17.83999276,\n",
       "       45.64855667, 43.39611178, 49.67988362, 11.96738324, 19.2302695 ,\n",
       "       28.55824385, 13.66455607, 19.05324569, 53.2421562 , 13.79226596,\n",
       "       31.55518537, 57.0078051 , 20.31183686, 31.39708588, 56.61766264,\n",
       "       43.1486276 , 59.41556158, 46.1619536 , 21.46474139, 22.65521927,\n",
       "       51.25580078, 21.47018088, 36.05983946, 29.8412084 , 48.23549473,\n",
       "       25.86577717, 49.86987246, 11.54232933, 59.18710648, 16.4625772 ,\n",
       "       47.76133155, 48.38581236, 38.35726882, 17.401974  , 54.52281094,\n",
       "       13.95450092, 16.28696336, 28.00389008, 54.05149424, 54.85625509,\n",
       "       46.71550457, 44.89977061, 50.43982453, 26.76149373, 55.20336213,\n",
       "       41.40527327, 43.47345204, 42.95030015, 21.11227117, 49.29524527,\n",
       "       27.50151409, 48.54478186, 56.33230537, 40.25041736, 47.40790915,\n",
       "       12.66597495, 17.19966219, 11.5310638 , 16.9512565 , 32.25564896,\n",
       "       40.61239314, 25.32266335, 17.03690052, 32.43328539, 31.6736983 ,\n",
       "       43.817677  , 32.45385524, 11.65245585, 14.29228196, 44.53899611,\n",
       "       55.01256641, 50.04812848, 49.77629927, 36.12823502, 45.7194246 ,\n",
       "       11.37829492, 58.4034125 , 39.61017499, 48.88883787, 42.57455657,\n",
       "       30.8771631 , 30.55107612, 26.52637462, 31.53787246, 29.75320861,\n",
       "       27.34398332, 19.16350019, 14.6017737 , 44.78984793, 30.58737047,\n",
       "       22.83167818, 17.61568477, 32.80997075, 20.20314542, 29.09125567,\n",
       "       54.39574862, 50.28082232, 39.04731541, 40.58243151, 59.657723  ,\n",
       "       48.80695757, 52.67416238, 47.76120361, 15.02076531, 38.75790375,\n",
       "       31.40921124, 20.72196377, 30.56876172, 10.42085275, 53.36570855,\n",
       "       40.24169984, 48.00924818, 53.89322673, 20.52058639, 28.48678795,\n",
       "       24.59196271, 31.70578545, 28.90331492, 38.53652924, 47.49544952,\n",
       "       38.21691144, 56.21997659, 45.29574471, 19.83558875, 39.53280484,\n",
       "       37.23020217, 27.57809468, 30.46833794, 56.45571308, 37.26567947,\n",
       "       32.82122891, 25.15512044, 37.47306051, 37.30936344, 21.63595837,\n",
       "       39.73145844, 29.99161294, 55.68683325, 32.36647387, 13.7073368 ,\n",
       "       52.39756982, 54.50297974, 31.66999126, 24.57241141, 49.30222438,\n",
       "       41.19408579, 22.36502027, 22.46228008, 39.02655088, 35.06810399,\n",
       "       28.13100409, 19.0695213 , 30.75943853, 35.64484597, 19.77146048,\n",
       "       54.43797306, 47.79084536, 29.57924921, 59.28871214, 42.87553651,\n",
       "       15.64518916, 31.70073778, 38.39247321, 25.05314691, 20.57978804,\n",
       "       47.14772659, 47.78654821, 11.19869813, 52.8927213 , 46.78627403,\n",
       "       53.9467313 , 53.94929083, 11.38774518, 12.47847008, 17.51109819,\n",
       "       27.52199136, 33.67948097, 41.7589729 , 37.29421416, 45.26976128,\n",
       "       16.6556313 , 42.21649219, 21.84954333, 51.70777293, 28.37579102,\n",
       "       28.48313133, 49.88055515, 33.61733302, 35.10026464, 23.61866631,\n",
       "       38.02782507, 54.64104199, 59.18170745, 14.75400062, 58.09898704,\n",
       "       37.41070285, 22.42811235, 21.44494982, 53.81644345, 15.34385283,\n",
       "       44.8278837 , 58.13899443, 41.51158403, 12.61411264, 53.28662396,\n",
       "       45.50861112, 25.57835125, 29.40890831, 22.27080655, 14.10552443,\n",
       "       27.0199522 , 51.88794304, 22.76795319, 42.77675829, 52.56870171,\n",
       "       49.58912749, 31.00929725, 35.38124363, 18.42221045, 25.29202169,\n",
       "       23.34261015, 47.06032603, 49.61698005, 53.17656534, 28.48390351,\n",
       "       57.21863417, 22.95188867, 33.06506257, 20.63526648, 23.29207393,\n",
       "       29.8779146 , 45.00709493, 45.5840838 , 50.95292507, 55.24389221,\n",
       "       11.85162204, 46.53044029, 40.49710203, 13.93726551, 47.43463279,\n",
       "       48.61904673, 37.90438156, 40.96581646, 48.79502487, 45.25040009,\n",
       "       55.02411642, 37.23684365, 54.34305911, 57.61010285, 26.681541  ,\n",
       "       59.84220867, 18.22356443, 22.53551167, 54.11038454, 21.70142393,\n",
       "       58.3015555 , 46.57605001, 54.36296592, 29.0977188 , 26.29329253,\n",
       "       10.00619307, 48.79567819, 39.74692198, 44.63548206, 53.20704161,\n",
       "       45.54282837, 10.60876385, 47.39862883, 14.63482354, 11.39873462,\n",
       "       11.12302774, 11.25464948, 43.94619106, 28.02122327, 23.08796619,\n",
       "       20.25642447, 46.92447727, 33.48118326, 29.19416851, 31.87238957,\n",
       "       12.95581747, 53.54123065, 47.22608321, 39.88687743, 37.2184127 ,\n",
       "       58.60182102, 44.59974052, 49.6949377 , 56.0325154 , 28.09145443,\n",
       "       55.99633899, 47.90704822, 38.03408093, 23.92834038, 20.31644126,\n",
       "       55.52654103, 26.02702479, 15.94937787, 55.26810891, 34.41457275,\n",
       "       43.07501246, 35.17246524, 28.3861657 , 51.32746587, 42.37328847,\n",
       "       25.7859695 , 12.4684737 , 29.39602924, 29.33166178, 36.67515218,\n",
       "       16.27344411, 32.5498205 , 41.91501663, 45.39042092, 30.3924377 ,\n",
       "       48.22632856, 45.84906366, 44.96348644, 14.11767608, 13.61249615,\n",
       "       20.27510202, 40.01192062, 26.63939446, 16.41252457, 43.81304921,\n",
       "       28.98936238, 30.48932211, 49.21617809, 28.41441855, 19.46394288,\n",
       "       22.88688231, 52.49390073, 21.6231622 , 51.96105679, 18.53456992,\n",
       "       43.81697127, 51.65477797, 45.86495519, 57.43121782, 27.1312238 ,\n",
       "       55.537158  , 17.96803495, 20.5500462 , 49.80784136, 15.16483572,\n",
       "       13.65376684, 36.41735822, 56.41490618, 19.66388085, 32.5509887 ,\n",
       "       19.92315603, 46.41585982, 43.03837057, 46.4575486 , 41.42375962,\n",
       "       12.9166052 , 25.33503334, 55.68357538, 50.97725348, 54.75046776,\n",
       "       50.18705218, 34.40799907, 13.92728921, 53.96785167, 10.29293688,\n",
       "       20.85554024, 18.65206988, 56.89767243, 30.42770956, 12.32722874,\n",
       "       24.42129024, 10.74751218, 11.24865902, 11.30524148, 47.81093191,\n",
       "       30.19078845, 32.17124083, 39.34549455, 26.08831817, 55.55089029,\n",
       "       13.1446029 , 59.83441961, 14.7014589 , 14.86991922, 25.91761485,\n",
       "       19.85025268, 57.99037418, 47.38494504, 29.22124541, 46.56721354,\n",
       "       57.60404906, 14.6439143 , 43.91162642, 57.78258259, 36.65185161,\n",
       "       48.5456066 , 52.88061438, 56.18507926, 23.14952061, 18.87427247,\n",
       "       36.97489659, 16.34795153, 36.63022436, 15.81443208, 57.95294616,\n",
       "       26.5185028 , 40.17140785, 47.11000172, 33.36379015, 31.37055962,\n",
       "       35.82239455, 50.45750479, 17.587939  , 35.06324328, 11.3062439 ,\n",
       "       39.70942439, 55.38084959, 32.42607734, 35.35074391, 24.48385037,\n",
       "       33.98765366, 20.29111395, 32.19810793, 50.96120719, 43.44985422,\n",
       "       59.45056585, 12.25194687, 57.37997839, 49.8210736 , 48.66424432,\n",
       "       47.03024614, 51.88978119, 55.45000157, 13.38612441, 47.76519431,\n",
       "       47.41882705, 11.67353894, 10.22969264, 44.83206844, 36.85086619,\n",
       "       44.54249741, 44.02511834, 38.26652235, 22.33895454, 27.2040061 ,\n",
       "       12.05330985, 48.54840615, 41.7760089 , 24.69220894, 38.62530932,\n",
       "       24.47944657, 14.83405954, 38.32834125, 45.31398014, 13.34747343,\n",
       "       59.72693124, 57.03224151, 53.48494154, 12.20359519, 15.27162678,\n",
       "       28.19842044, 20.78855816, 33.54390325, 57.21293706, 46.39276707,\n",
       "       33.75139923, 56.69788331, 28.29309041, 57.93424438, 32.80038956])"
      ]
     },
     "execution_count": 5,
     "metadata": {},
     "output_type": "execute_result"
    }
   ],
   "source": [
    "x = uniform.rvs(size=1000)\n",
    "e  = 10 + (60-10)*x\n",
    "e"
   ]
  },
  {
   "cell_type": "markdown",
   "metadata": {},
   "source": [
    "How are the two distributions different?"
   ]
  },
  {
   "cell_type": "code",
   "execution_count": 27,
   "metadata": {},
   "outputs": [
    {
     "data": {
      "image/png": "[encoded data removed]",
      "text/plain": [
       "<Figure size 432x288 with 1 Axes>"
      ]
     },
     "metadata": {
      "needs_background": "light"
     },
     "output_type": "display_data"
    },
    {
     "data": {
      "image/png": "[encoded data removed]",
      "text/plain": [
       "<Figure size 432x288 with 1 Axes>"
      ]
     },
     "metadata": {
      "needs_background": "light"
     },
     "output_type": "display_data"
    }
   ],
   "source": [
    "# your answer below\n",
    "import seaborn as sns\n",
    "import pylab as plt\n",
    "for x in [i,e]:\n",
    "    sns.histplot(x,bins=10)\n",
    "    plt.ylim(0,120)\n",
    "    plt.show()"
   ]
  },
  {
   "cell_type": "markdown",
   "metadata": {},
   "source": [
    "## Normal Distribution\n",
    "\n",
    "1. In the same way in the Uniform Distribution challenge, write a function that generates normally distributed random numbers.\n",
    "1. Generate 1,000 normally distributed numbers with the average of 10 and standard deviation of 1\n",
    "1. Generate 1,000 normally distributed numbers with the average of 10 and standard deviation of 50\n",
    "2. Plot the distributions of the data generated.\n",
    "\n",
    "Expected output:\n",
    "\n",
    "![normal distribution](nd.png)"
   ]
  },
  {
   "cell_type": "code",
   "execution_count": 30,
   "metadata": {},
   "outputs": [
    {
     "data": {
      "text/plain": [
       "array([10.70046769, 11.16513216,  8.88943886,  9.21436779,  9.65939259,\n",
       "       10.67371016,  9.31442927,  8.48731824,  9.5644303 ,  9.02603517,\n",
       "       11.63349008, 10.30329616, 10.28121661, 10.27226245, 10.4082417 ,\n",
       "        9.25053181,  9.58989797, 10.89710536, 10.14315539, 12.13047475,\n",
       "       10.31654918,  9.99314558,  9.60299624,  9.11051267, 11.16481146,\n",
       "        9.77612448, 10.16481346,  9.8804776 , 10.38195172, 11.43509271,\n",
       "       11.08401873, 10.52911309,  8.08867631, 11.03987563,  9.79906457,\n",
       "       10.61678836,  9.48774147, 11.15148185,  9.46333218, 10.58583549,\n",
       "       10.38841258,  9.1562774 ,  9.0358454 , 12.3251618 ,  9.58998884,\n",
       "        9.8175938 , 10.84906209, 10.04145842, 11.76345224,  8.7508586 ,\n",
       "        9.94486603,  9.70366259,  9.3091229 , 11.28331826,  9.51494044,\n",
       "        8.58745614,  9.99430749, 10.53237453,  8.67405115, 10.39037675,\n",
       "        9.73905946,  9.90543799, 10.24462109, 10.22845519, 10.12925803,\n",
       "        9.99441041, 10.15016699, 11.12518384, 10.15803595, 10.30956716,\n",
       "       11.41027814, 10.81917973,  9.85054856, 10.62065196, 10.49653839,\n",
       "       10.64906438,  8.30068387, 10.0558105 ,  9.80230812, 10.01123794,\n",
       "       10.40875262, 10.47259789, 11.41388256, 10.05250677, 12.42489531,\n",
       "       10.30193741,  9.66107255,  8.15651691,  8.51101792, 10.8614069 ,\n",
       "        9.26734987,  9.3550182 , 13.62114218, 11.88929777, 10.28230723,\n",
       "        7.58263716, 10.27239282, 11.58858957, 10.58429761,  9.89355804,\n",
       "        9.89688096,  9.98288855, 10.92879898,  9.60161234, 10.62087117,\n",
       "        9.4481094 ,  9.15487353,  9.74218918,  9.76742721,  9.36337727,\n",
       "        9.22221605, 10.31696236,  8.70729367, 10.03133788,  9.9258565 ,\n",
       "       11.31382377, 11.09946987,  9.45888856, 10.18908331,  9.5683016 ,\n",
       "        9.90493698, 10.41180493,  8.72222159,  9.59384039, 10.53927339,\n",
       "        9.21039538, 11.41487111,  9.51552528,  8.68066358,  9.30951779,\n",
       "       10.73777801,  7.83873996, 10.4951361 ,  9.68689646, 11.34959951,\n",
       "       12.0740275 ,  9.8469212 , 10.17278565, 10.79452747, 10.01900861,\n",
       "        9.97329445,  9.14637767, 10.03637608, 10.23584811, 10.40441733,\n",
       "       10.42687443, 11.46224014,  9.00982873, 10.81363887, 11.85198389,\n",
       "       10.58757482, 10.25354898, 12.17143069, 11.75256963,  9.09954755,\n",
       "        7.85797304,  9.29860487, 10.66202873,  8.84256676, 10.82201394,\n",
       "        9.91376351, 10.59972932, 10.83619359,  8.60297423,  9.91233965,\n",
       "        9.91185656,  9.74101889, 10.04955614,  9.76912988,  9.07835655,\n",
       "       11.03279438, 10.48899652,  8.84473087,  9.89222123, 10.17909018,\n",
       "        9.9276033 ,  9.85913789, 11.05880272,  9.36028898, 11.00727379,\n",
       "        9.18936689,  8.6564053 ,  8.70187244,  9.80137019,  8.4939726 ,\n",
       "        9.88260291, 10.83693493,  9.09102642, 11.35203177, 10.18232381,\n",
       "       10.81634013, 10.9891349 ,  9.63944327, 10.32070091,  9.35849453,\n",
       "       11.61480721,  9.80657555, 10.52567684,  9.93741988,  8.65383972,\n",
       "       10.12182487,  8.56516717, 10.67686545,  8.0825779 ,  9.23375036,\n",
       "       10.76392288, 10.15559246, 11.10501838,  9.66406932, 11.63723944,\n",
       "        7.62952002, 11.18936747,  8.73552514,  8.82752327, 11.67216659,\n",
       "       11.02758291,  8.11704547,  9.33358799,  7.89117919,  9.59858023,\n",
       "       10.83559471,  9.91759744,  9.15337678, 10.08446097, 11.58513527,\n",
       "       10.56277245,  9.74341942, 11.11367986,  8.83546456,  7.30658182,\n",
       "       10.93764385, 11.15934221,  9.36804126,  9.63688593, 10.21673991,\n",
       "        9.568704  , 10.4548487 , 10.88817602,  9.90524602, 10.67912554,\n",
       "        9.02987691,  9.47865953, 11.22521483, 10.20719674, 10.46489722,\n",
       "       13.20056791, 10.09586033,  9.09989952,  8.91230926,  9.24962528,\n",
       "        9.38160474,  9.2964141 , 10.8633498 , 10.12072613,  7.73144885,\n",
       "        9.04913762, 10.68625565,  9.55005646, 10.82750051, 10.88786244,\n",
       "        9.43990344,  8.80674474, 10.61208088,  9.24434493,  9.69245937,\n",
       "       11.18391229,  9.36607339, 10.03842463,  9.68376773, 10.46583734,\n",
       "       11.09303374,  9.64890147,  9.21123696,  8.02793663,  8.81760785,\n",
       "        9.38281004,  9.33160141, 10.61328189, 10.32468799,  9.38560918,\n",
       "        8.24673523,  9.53800579, 10.55220675, 10.83459537,  8.2993797 ,\n",
       "        9.23995279, 11.72272916, 10.01133462, 10.7736059 ,  9.02100201,\n",
       "       10.26625289,  8.72490557,  9.1425988 , 10.33232772,  9.61639031,\n",
       "       11.68008327, 11.90073073, 10.86691781,  8.45871441,  9.81354825,\n",
       "       10.75367035, 11.17497138,  9.48198344,  8.64967941, 10.52117232,\n",
       "       11.54747872, 10.8834977 , 10.83774562,  9.07610019, 11.38557532,\n",
       "        9.59969217, 10.74144503, 10.05070032, 11.54831413,  9.00777927,\n",
       "       11.01726607, 10.43556983, 10.84558227, 10.89407804, 10.36631415,\n",
       "       11.17078752, 10.95583648,  9.83975736, 10.38898307, 11.42538592,\n",
       "       10.24727539,  9.55876909, 10.93877746,  9.85200988, 10.89487675,\n",
       "        9.21596741,  9.46799674, 11.2332424 ,  9.42857086,  7.60425471,\n",
       "        9.22185577, 11.36351774,  9.6489493 , 11.20843884, 10.32153663,\n",
       "       10.40521237, 10.26540794, 10.1958864 , 11.68385548, 10.08423058,\n",
       "       10.97588533, 11.60053158,  9.92622135,  9.81734222, 11.87560408,\n",
       "        9.3383522 , 10.46761802,  8.61418992, 10.75182291, 11.04992794,\n",
       "        9.52492432,  9.02884178, 10.0978622 , 11.66508773,  8.77299978,\n",
       "       11.14459638, 10.54108297, 10.09487723,  8.40564808, 11.19357151,\n",
       "       11.54009158,  9.0674856 ,  8.87636388,  9.46374576, 11.3819242 ,\n",
       "        9.91085831,  9.63854182,  9.92741738,  9.01514551,  9.77543022,\n",
       "       10.77693364,  8.92501989,  9.75639556,  9.85144599,  9.91964574,\n",
       "       10.03394787, 10.25296342,  9.13605384,  8.14419313, 11.81083504,\n",
       "       11.79421494,  9.87889975,  9.66681149, 10.63025296,  9.76548224,\n",
       "       12.29999754,  8.48265954, 10.53185996,  9.86309021,  9.84101538,\n",
       "       10.77477609, 10.68918565, 11.11626839, 10.43365966, 10.13200032,\n",
       "       10.26925521,  9.527748  , 10.31002268,  9.82765186,  9.57210781,\n",
       "        9.65214784, 10.24484923,  9.52464793,  9.79831521, 10.98186448,\n",
       "        9.52144491,  9.57115492,  9.02807956, 10.55474984, 10.06227257,\n",
       "        9.22507025, 11.12764064, 10.45541134,  9.9595546 , 10.03491542,\n",
       "       11.82621021,  9.95121164,  8.92459018,  9.28389529,  9.90022727,\n",
       "       10.48292311,  9.54218391, 10.13601517,  8.49478468, 10.42328174,\n",
       "        9.14867555,  9.22277676, 12.42568282, 10.20697681, 10.79825761,\n",
       "        8.99515378,  9.80071068, 10.62944226,  9.52998045,  8.98277136,\n",
       "        9.86594778, 11.51222806, 10.76369153, 11.8598835 ,  9.00653456,\n",
       "       10.28843519, 11.23446852,  9.92160233, 11.55685748, 10.55164149,\n",
       "       10.65911188, 10.08405022,  9.06640088, 11.20140846,  8.65323196,\n",
       "        8.55387366,  9.83843374, 10.29085819, 10.71045465, 10.17006666,\n",
       "       10.59098735,  7.91619116, 10.23824462, 10.31023419, 10.35101321,\n",
       "       11.67938572, 10.00589518, 10.85254261,  9.79582577,  9.28331627,\n",
       "        9.83793413, 10.4608867 ,  9.49399668, 11.22853592,  9.90080287,\n",
       "       10.04698725, 10.214394  , 10.38474284, 10.06968762,  9.2349955 ,\n",
       "       10.05422006,  9.34348091, 10.77120719,  8.46727772, 10.80640091,\n",
       "       10.6253774 , 10.29058879, 10.39718341,  8.65260944, 12.02654145,\n",
       "       12.40004895, 10.90789224, 10.4586209 ,  9.95317521,  9.32994977,\n",
       "       10.83063904, 11.17319866,  9.12574937, 10.08130672, 10.02327159,\n",
       "       10.40936989, 10.72331681, 10.35574845,  9.88320344,  7.98014342,\n",
       "        9.96987469, 11.16713921,  7.33439916, 10.16130784,  9.26781269,\n",
       "       11.95764282,  7.90614171, 10.79267478, 11.19614119, 10.42893164,\n",
       "        9.75220936,  9.81172287, 11.35089883,  9.9629455 ,  9.32896381,\n",
       "        9.95771518,  9.21891788, 11.33034283, 10.67453369, 10.48035322,\n",
       "       10.17667326,  9.57663908, 10.63309113, 11.73060919,  9.55631704,\n",
       "       12.11676218,  9.67653924,  9.78640809, 12.82158332, 10.3436988 ,\n",
       "        9.63542365,  8.72347399,  7.72819671,  9.50205532,  9.84173125,\n",
       "        8.78738528,  9.01346892,  8.85151685, 10.34301399,  9.376761  ,\n",
       "        9.26852957, 10.28618516,  9.95866481,  9.90613544, 11.4454206 ,\n",
       "       10.18921218, 10.04327557, 10.09292367, 10.59552415,  9.63492054,\n",
       "        9.66216641,  9.29996104,  9.01012821,  9.7376416 ,  9.94823957,\n",
       "        8.86433541,  8.84380486, 11.26566993, 10.82792164,  9.71911619,\n",
       "       10.9157576 , 10.42641738, 10.02047661, 10.10987263, 11.35447374,\n",
       "       10.04890379,  9.77626425,  9.62685114,  9.52193561,  8.82260816,\n",
       "       10.82639005,  9.07138308, 10.77278558,  9.54812458,  9.49799008,\n",
       "       11.06697315, 10.09150043, 10.52400026,  9.52635937,  9.8722547 ,\n",
       "       10.07825449,  9.51965601, 10.37647194,  9.95397415, 11.23059677,\n",
       "        9.43489004,  8.60852235,  8.82674894,  8.88879383, 10.60581722,\n",
       "       10.36886523,  8.07634441, 11.44331178,  8.89169576, 10.42921808,\n",
       "        9.0770673 , 11.06428875, 11.60528297, 10.83085427, 10.19406725,\n",
       "        8.65208531,  9.73594672,  9.86420601, 10.94289965, 10.02896878,\n",
       "       10.50322174, 10.08401342, 11.76383427, 11.03124509,  9.86551225,\n",
       "       10.81941816,  9.10031136, 10.61833313, 11.40586411,  9.15273548,\n",
       "        9.73895512, 10.6270539 ,  9.8859888 ,  9.06754203, 11.19818565,\n",
       "       12.01030848,  9.32249368, 10.10337894,  9.96657264, 11.2653394 ,\n",
       "        9.30862748,  9.54077135, 10.17199229,  8.9253813 ,  9.53196089,\n",
       "       11.73431039,  9.81821472,  9.78212657,  8.82579949, 10.28064216,\n",
       "       10.5074233 , 10.55005323, 10.0930612 , 10.14408014, 11.6754385 ,\n",
       "       10.39932003, 10.52775893, 10.7457792 ,  7.01766958,  8.39181914,\n",
       "       10.70810408,  9.14365706,  8.73223837,  9.80062912, 10.44098187,\n",
       "       10.20729113, 10.01987393,  7.60499025, 11.63665035, 10.00545859,\n",
       "       10.54007002,  9.93621147, 10.34387321, 10.1455297 ,  9.0390221 ,\n",
       "       11.54200109,  8.86254502, 11.05668462,  9.41892561, 10.11525038,\n",
       "       10.1939664 ,  9.85741181, 10.22401494,  9.9659574 , 10.53675627,\n",
       "        9.90543557,  9.82850098, 10.41179087, 10.60067559,  7.83105545,\n",
       "        9.23280029, 10.36474504,  9.92521595,  7.67741613, 10.82398966,\n",
       "       11.05041207,  9.30908658,  9.06492129,  9.11623869, 10.46199349,\n",
       "       10.73175681, 10.79326493,  9.97987859, 10.06358584, 10.11640355,\n",
       "        9.46744903, 10.77523408,  9.66701203,  9.28842921,  7.75852813,\n",
       "       10.97457277,  6.98324011,  9.89663661, 12.55048951,  8.76934502,\n",
       "       10.05608398, 11.57564924,  9.80363046,  8.96750949, 11.15300687,\n",
       "        8.54772998, 10.27215863, 10.42582011,  9.86853334,  9.88972462,\n",
       "       10.66064114,  8.09724567,  9.81013598, 10.20294603, 10.24383554,\n",
       "       10.04004078,  9.08749689,  8.49529781, 10.83731114,  9.56548703,\n",
       "       11.32811115, 10.30293372, 10.21126129, 10.21753201,  9.8078192 ,\n",
       "       10.23271408,  8.84342336, 10.09214146, 11.31325945,  9.67153206,\n",
       "        8.309018  ,  9.85766581,  9.16368842, 10.34540567,  9.65447085,\n",
       "        9.18718571,  9.97684696, 11.58879928, 10.10615234, 10.41792885,\n",
       "       10.12643443, 10.04900691, 12.27185436,  9.86597119,  9.9804863 ,\n",
       "        9.24687151,  9.69126062, 11.00319173, 10.95684629,  9.76893516,\n",
       "       10.11374211, 10.31458857,  9.44284022, 10.33194102,  8.54065512,\n",
       "       10.5827378 ,  8.61939292,  9.51646868, 10.8535682 , 10.88580721,\n",
       "        9.22089009, 11.71818116,  8.99626344, 10.38244075, 10.39930346,\n",
       "        9.74443674, 11.8454014 , 11.41895862, 10.41158351,  8.83967996,\n",
       "       11.05058552, 10.6278869 ,  9.929267  , 10.03638432, 10.35187579,\n",
       "       10.30984601,  8.87466041,  9.64876822,  9.8247901 ,  9.97223012,\n",
       "       12.09399213, 10.48731626,  8.56489648,  8.94821274,  8.57190945,\n",
       "       10.14996099, 12.04619087,  8.87145534,  9.60444055, 11.03672046,\n",
       "       10.85815567, 10.05172695, 11.20866122, 10.18066084, 11.22783211,\n",
       "       11.46947024, 10.36760759,  8.34584779,  8.87279526, 10.63937594,\n",
       "        9.8440802 ,  9.91173202, 10.18622005,  9.81894649, 11.07446687,\n",
       "        9.21594086,  7.7584932 , 10.59355175, 10.02027107,  9.54746721,\n",
       "        8.62742442, 11.237453  , 10.82166715,  9.648629  ,  8.89373854,\n",
       "        9.82579078,  9.22389533,  9.44150874, 11.87256925, 10.11772482,\n",
       "       10.3356372 ,  8.79467539,  9.33895896, 10.00435737, 11.59833819,\n",
       "        9.54017422, 10.83540135, 11.88907294, 10.8806494 ,  9.30783945,\n",
       "       10.76686093,  8.66124228, 10.28571232,  9.961704  , 11.66856969,\n",
       "        8.80005137,  8.70983392,  9.97836682,  8.93305571, 10.42533927,\n",
       "       10.38898236,  8.37239639, 10.81415573, 11.28366842, 10.8493748 ,\n",
       "        9.37961793,  8.00885143, 10.11703238, 10.22485449, 12.35031461,\n",
       "        6.3040422 ,  8.04992512, 10.05314889,  9.88314028,  9.01905187,\n",
       "       11.64110274,  8.1995942 ,  8.95859005, 10.61783134,  9.19285262,\n",
       "        9.99192336,  9.15407488, 10.64566038,  9.95684082, 10.24849307,\n",
       "       10.38930185,  8.70579535,  8.61415728,  9.6725047 , 11.18111539,\n",
       "       11.10630595,  8.86714665,  9.87308267,  9.02231982, 12.11187899,\n",
       "        7.51300745,  9.17160207, 10.80173275,  8.82398249, 11.3139873 ,\n",
       "        9.93460128,  8.87729806,  9.96405972, 10.60815421,  8.93202936,\n",
       "       10.11033563,  9.55751349, 10.86134621,  9.20515694,  9.68081495,\n",
       "       10.45124168, 11.66784553,  8.84769292, 10.58526068, 10.20794732,\n",
       "        8.58622257, 10.15033427,  8.89903971,  9.40337037,  8.64622198,\n",
       "        9.6263648 , 11.43878437,  9.54932072,  9.55380812, 11.26133903,\n",
       "       10.06727389,  9.9696781 ,  9.36326207,  9.37552162, 10.34629765,\n",
       "       10.36806565,  7.98940067,  7.68562   ,  9.8037174 ,  9.6638086 ,\n",
       "       10.5465409 ,  7.52024711,  9.39755486,  8.47508202, 11.04358845,\n",
       "        8.83288405, 10.10100305,  8.86329591,  8.24460822, 10.22668187,\n",
       "        9.86449781,  9.95083938,  9.80664039,  9.11167729, 10.25932789,\n",
       "       10.33263236, 10.21174078,  8.30379751,  8.70228072, 11.37319569,\n",
       "       10.69318391, 10.0168304 ,  9.0052934 , 10.43946745,  9.72911458,\n",
       "       10.20162689,  9.63953839,  9.58577239, 11.33367387,  9.81868988,\n",
       "        9.27144522,  8.30451693,  9.32063075,  9.63444127, 10.15726337,\n",
       "        8.19054929, 11.3612794 ,  9.49325577, 10.52309536,  7.81632662,\n",
       "       10.80343213, 10.01138651,  9.6249075 ,  8.71404429,  9.60086177,\n",
       "        9.8400042 ,  8.59456797, 10.76117294, 10.58994411, 10.03513563,\n",
       "       10.96221392,  8.72803104,  9.50772645, 10.16286068, 10.5796067 ,\n",
       "        9.27102316,  9.57274768, 10.48118711,  9.86727625,  8.68839457,\n",
       "        8.72994942,  9.12602463,  9.94986653,  8.64442405,  9.04849052,\n",
       "       10.97515749,  9.81171327,  9.33782566, 10.14276474, 10.01233198,\n",
       "        9.83257515,  9.17498517,  9.8780122 , 11.04606072, 11.69426247,\n",
       "        9.0804711 ,  9.20980068,  9.50439602,  9.82904534,  7.26404159])"
      ]
     },
     "execution_count": 30,
     "metadata": {},
     "output_type": "execute_result"
    }
   ],
   "source": [
    "# your code here\n",
    "from scipy.stats import norm\n",
    "normal=norm(loc=10, scale=1)\n",
    "i=normal.rvs(size=1000)\n",
    "i"
   ]
  },
  {
   "cell_type": "code",
   "execution_count": 31,
   "metadata": {},
   "outputs": [
    {
     "data": {
      "text/plain": [
       "array([   0.84658447,   50.35916211,  122.40283376,    5.69855595,\n",
       "         21.25715097,  -72.10328934,  -27.016305  ,   -9.2852185 ,\n",
       "        135.26245628,  -36.13650241,  -79.43523756,  -36.70528084,\n",
       "         77.05016473,  126.96899621,  -25.19144554,  -18.6588549 ,\n",
       "        -14.21233525,   50.7462924 ,    4.97384381,   12.0358598 ,\n",
       "        -14.83440121,   -5.3307853 ,    7.23222788,  -26.18070881,\n",
       "        -10.77545738,  -34.94530332,  -57.41798419,  100.17419497,\n",
       "        -33.09581744,  146.40079456,   10.88216207,    3.62532375,\n",
       "         85.66331998,   45.85987838,   -6.37218071,   94.08474022,\n",
       "         53.37915504,  113.57626075,   -0.88579878,   77.64489455,\n",
       "         76.75517017,  -77.25666998,  -44.10880293,   66.50420189,\n",
       "         60.34037332,  -36.89638642,    1.4247079 ,   88.71941546,\n",
       "        -46.03069863,  -24.76951549,  -48.9222809 ,  -39.09892059,\n",
       "         51.09271084,   35.50562882,  -11.17336106,   36.84175792,\n",
       "         54.50013006,   42.86523241,  -72.82708765,  -23.71340585,\n",
       "        -46.8566672 ,    5.71030223,   21.43848762,   24.43156759,\n",
       "         49.60954991,  -51.69533978,  -51.81026413,   44.2636175 ,\n",
       "        121.56046974,   -5.58410466,   88.21217902,  -68.36339347,\n",
       "        108.82863699,  -20.5213752 ,   93.23235379,   44.65541957,\n",
       "        -11.45358177,  -99.63847619,   22.92299528,   35.23219015,\n",
       "        -76.47055678,   -0.19306021,   51.97781565,  -36.4372879 ,\n",
       "        -26.7764248 ,   10.0920547 ,  -74.64624057,  -40.08608997,\n",
       "        113.03617344,  -22.08050899,   -9.58646717,  -66.05448145,\n",
       "        -13.75657725,   37.91636426,   21.68280569,   40.35429442,\n",
       "         31.09319543,   33.71569297,  -49.43788909,   73.03486579,\n",
       "        -21.00261931,   86.59527788,  -51.35783438,   73.23624314,\n",
       "        -22.39720553,  -48.37961294,  -24.4919049 ,   93.64548865,\n",
       "         10.11187433,  -24.63072907,   13.79462757,    2.56963941,\n",
       "         -1.33153813,   18.72827094,   32.99182135,  -13.69549717,\n",
       "        -27.2739141 ,   83.39965603,  114.24088335,   24.53334876,\n",
       "          5.33340177,   56.4743408 ,  -49.46649171,   16.09372454,\n",
       "         90.74477241,   -1.20989732,  -23.94195746,   13.61976407,\n",
       "         12.58610789,   13.25727791,   63.09055893,  -23.58991328,\n",
       "          3.18981585,   75.75780277,   -4.73469637,    9.7949303 ,\n",
       "         39.20469395,  -59.41696935,  -42.79871461,   44.25287566,\n",
       "        -23.54413838, -101.57134796,    7.18428255,   -2.22294992,\n",
       "        -20.88638172,   44.44970847,   29.43559486,  -79.50249175,\n",
       "         16.40246219,   -3.15815958,   36.68222899,   48.63356282,\n",
       "          0.48880399,   40.77389382,    9.11401488,  -31.27229666,\n",
       "        -97.3162623 ,  -35.36529553,    7.10772903,  -24.1687656 ,\n",
       "         13.10725785,  -21.00674218,   38.27029646,  -18.89299425,\n",
       "         -4.7713445 ,  -36.48645381,  -23.18877604,   66.51068625,\n",
       "         49.55437186,    3.55384325,  105.36683022,   76.42830286,\n",
       "         67.24702069,  -17.60660073,   28.469651  ,   -3.86374238,\n",
       "        -19.6917392 ,  -52.87620914,   49.32189502,   38.92520845,\n",
       "        -44.24377027,  -13.5955071 ,   18.96962924,    3.99206087,\n",
       "        -15.83574319,   38.32584045,   -8.80735879,  -12.5269873 ,\n",
       "        -10.84599284,   37.71427145,   -2.68246531,    4.53005096,\n",
       "          3.7538708 ,   53.87822731,   90.14771744,   50.94258954,\n",
       "         17.92558087,  -35.53862341,   36.48387994,   45.37801777,\n",
       "        -13.57315467,  -19.47841718,  -22.36126485,  -81.00529717,\n",
       "        -16.77508236,  -18.06923711,   85.40339907,   -5.09717264,\n",
       "         49.24385446,   30.93542803,   29.29110882, -110.77891174,\n",
       "         27.97663918,   15.3132222 ,  -35.85192913,   25.38480321,\n",
       "        -57.44098556,   64.7922148 ,   74.59157519,   47.47285482,\n",
       "         62.88515242,  -72.32877119,   41.19610406,  -30.5689471 ,\n",
       "        -30.4311144 ,   37.71523144,  -24.74195506,   89.35204602,\n",
       "         55.14322941,   69.63444181,   58.49754447,   21.77811968,\n",
       "         76.89653239,  -15.0800847 ,  110.20138383,   19.96400002,\n",
       "         26.99265612,    1.75427231,   42.27083728,   -6.12676187,\n",
       "         25.51457348,  -12.59273789, -138.8596622 ,   55.68231616,\n",
       "         75.91019463,  -57.9818378 ,  -16.64729488,   43.92592985,\n",
       "       -115.3508494 ,   36.54990596,   17.33571589,   13.86144796,\n",
       "         24.91419674,  -22.80578759,  -22.59300517, -143.66516988,\n",
       "         51.9424914 ,    0.42657217,   71.09756858,   28.48093498,\n",
       "        125.028914  ,   56.81588714,  -12.00831383,  -41.13222883,\n",
       "        -89.97180951,   88.45779337,   52.62682514,   57.2470213 ,\n",
       "        -49.45686009,   50.77727518,   19.61012852,  -82.66345288,\n",
       "         34.34512327,   46.87589443,  -51.10900052,   54.98882832,\n",
       "       -140.68599954,   62.37354894,  -81.479585  ,    4.01689403,\n",
       "         84.92713849,  -68.27254302,  106.04105788,   33.27665678,\n",
       "        107.95359854,    8.21501155,    3.60652077,   18.47851557,\n",
       "         19.83923879,   58.58309416,  -38.23390731,    1.58242627,\n",
       "         53.19223721,   60.27826922, -112.56821926,   49.10355276,\n",
       "         46.96350391,   16.19767726,   44.4178317 ,   -5.44472159,\n",
       "        -12.26251325,   -6.89828575,   39.35249294,   34.16824874,\n",
       "        -42.63243385,   27.5235774 ,   47.34758002,   49.50658385,\n",
       "         76.10047951,   21.38662025,  -53.55200414,  -77.13546778,\n",
       "        -29.82669801,   13.17762169,   74.8089858 ,   19.37963369,\n",
       "         55.38709706,  -12.86257865,   29.85886256,   53.1933033 ,\n",
       "        -70.0927472 ,  -69.07875254,   18.41393375,    9.56889856,\n",
       "         -5.36467067,  -24.28747576,  -38.84258882,  -11.0986585 ,\n",
       "       -102.19542916,  -61.40715583,   -2.04283257,   66.03540066,\n",
       "        -26.47795968,    1.96809558,  -29.67191784,   16.70293802,\n",
       "         91.58724772,   44.50547293,   74.25116408,   53.30507546,\n",
       "         86.7785974 ,   14.13230262,   34.91906697,  132.27726351,\n",
       "        -25.81613103,  -26.43178908,  -29.01478577,   25.50938186,\n",
       "        -11.25599677,   57.32957974,   79.26457114,   10.27059073,\n",
       "        -27.95895802,  -49.69676833,    4.33252151,   -5.1600188 ,\n",
       "        -81.88637152,  -13.13630654,    6.39738313,   74.59191369,\n",
       "         30.797813  ,   20.16021564,  138.60748688,  -51.29059566,\n",
       "          5.73948391,   50.26271769,  -14.02826319,    7.97136859,\n",
       "        -42.4671416 ,   -3.84173233,   93.5470128 ,  103.07585036,\n",
       "        -42.50791693,   34.24921129,  -76.41001555,   -0.94192565,\n",
       "       -101.64380269,   74.20685755,   67.4284939 ,  146.98207527,\n",
       "        -82.64171174,   -2.32482421,   53.87734511,   11.03863262,\n",
       "         21.38810334,  -13.81840383,   89.72345553,    4.12887102,\n",
       "        -32.31825571,   17.48786367,   34.23788398,   -9.27598949,\n",
       "         11.85159842,    8.80687099,   56.61556955,   -3.40376074,\n",
       "          7.03971622,   45.44763332,    6.24900794,   70.48280653,\n",
       "        -39.68903119,   48.74089485,   -7.59023817,    6.82530409,\n",
       "          7.49279836,  107.12223805,    2.10822739,  -81.68783044,\n",
       "         25.54745025,   27.17495804,   70.21424368,  -65.31701435,\n",
       "        -57.45051074,  -34.70719071,   23.82355643,  -51.68539488,\n",
       "        -61.47748275,  -19.5091032 ,   24.63935317,   60.90009402,\n",
       "         65.02246038,   -0.25966638,  -28.83513698,   22.76780616,\n",
       "        -85.90774153,  -94.42956084,   10.2953677 ,   67.07359812,\n",
       "       -178.02893092,    6.76695915,  118.18818798,   76.32416587,\n",
       "        -13.63728427,   62.07709905,  -53.46697137,  -12.24141194,\n",
       "         37.62137922,   50.31874061,   56.63134308,   11.98280009,\n",
       "          4.14750267,  -46.16317713,   48.28480835,    0.98818432,\n",
       "         21.89042251,   -5.76382002,   77.98000065,  -43.23439031,\n",
       "        -13.0284407 ,   34.61418169,  -31.94524875,    8.25813721,\n",
       "         49.72766682,   31.88449617,   13.18234764,  -23.85448161,\n",
       "        -38.79982774,  -26.63649348,  -46.64069549,    0.45119374,\n",
       "         -6.2144715 ,  -15.65414714,  -13.02776089,   98.31301344,\n",
       "          4.88406231,  -26.5671339 ,   12.90373188,   12.84902665,\n",
       "        -70.24075486,   80.28033303,    6.969266  ,  -28.35760933,\n",
       "         17.70299207,  -28.0934221 ,   14.41145155,   48.51055571,\n",
       "         42.85145764,   35.22005509,    9.45844358,  -11.12101919,\n",
       "         98.7728286 ,  -51.57102802,   16.22873658,   24.44571345,\n",
       "         74.66292731,  -52.98341838,   46.42650546,   58.01127128,\n",
       "         40.41035448,    3.15086243,   40.44070855,   45.76566787,\n",
       "         -9.76905046,   37.16734002,  -48.70202081,  -16.90269997,\n",
       "          8.22693908,  -16.92158531,  -16.9843968 ,  -39.54341808,\n",
       "          7.64930912,   36.02252096,   21.20814219,  -10.4953996 ,\n",
       "         75.94251429,   72.80115734,  -20.78908548,    7.55926403,\n",
       "         13.40346577,    7.22068546,   41.53050023,   32.8283225 ,\n",
       "         12.17948101,  106.039766  ,   22.12864084,  -35.58181305,\n",
       "         -6.82566112,  -47.6453256 ,   54.46073787,    9.24628159,\n",
       "         59.6340483 ,  -19.89002954,  -81.74407614,   65.29779033,\n",
       "         30.47152672,   72.50698747,  -11.24432235,  -14.75988029,\n",
       "         27.64661656,   60.08781185,   32.49551755,   47.43672848,\n",
       "        -20.0237812 ,   74.96175074,   62.68953852,   24.67690666,\n",
       "         13.7958575 ,    0.18383105,  -48.77151432,  -43.78165068,\n",
       "         14.1131319 ,   26.97499009,   35.17939862,   21.41686901,\n",
       "         93.9733606 ,   -7.89176912,   40.8757601 ,   15.86125914,\n",
       "         65.73423908,  -10.49775102,  172.0578042 ,   59.26413547,\n",
       "         82.66070755,   76.391755  ,  -13.03716942,  -32.66584444,\n",
       "         67.89125798, -135.65528318,    7.75077372,   51.06315639,\n",
       "         24.8003478 ,  -12.21889469,    8.49396185,   10.04866002,\n",
       "         32.31774875,   61.4719076 ,   13.25222098,   -9.90822181,\n",
       "        -22.23964675,    8.31003668,  -66.10422632,    7.44336905,\n",
       "         29.92795472,  -10.16021669,  -32.47620107,  -14.10004976,\n",
       "          7.54266134,  -37.50860328,  -25.92374101,  -48.35023348,\n",
       "         32.70493923,  -11.36982843,   30.73990791, -107.34193057,\n",
       "       -100.88826945,   17.38625345,   -5.11169776,   26.50994524,\n",
       "         44.33590217,  -82.73745177,  -28.69485587,   42.92691659,\n",
       "         -0.34010665,   40.96608227,  -30.31112242,   33.73855838,\n",
       "         50.55177326,  -21.54812453,   34.59766442,  -65.8887144 ,\n",
       "         54.95795941,   22.7266947 ,  -57.28243031,   20.18264625,\n",
       "        -26.708371  ,  -33.87690812, -113.39679494,  -25.77055208,\n",
       "        -56.59030605,   25.35380122,  -48.7290595 ,  -22.14977481,\n",
       "         -8.88841528,   97.60860008,  -57.41477139,   62.44797602,\n",
       "       -109.79052299,   78.40582553,  -35.73704   ,   85.30698605,\n",
       "         42.73327021,  -41.25889875,  -27.10319887,  101.15335115,\n",
       "         81.35329336,    7.02578592,   14.06605851,  -28.32771957,\n",
       "         13.53325405,   78.67355142,  -37.08034029,  -15.03488422,\n",
       "        -71.95205065,   29.33338777,  120.00038606,  -67.81895789,\n",
       "         -8.78346588,   45.36564107,  116.19200101,   20.64492367,\n",
       "         50.04021886,   23.66938783,    8.68792791,   21.67141591,\n",
       "         -1.26815859,   17.86206373,   67.97388754,  -19.75583539,\n",
       "         37.94002059,  -70.22620484,   43.66739146,   43.17138748,\n",
       "         64.02699162,   -9.43566946,   63.47333012,   49.471324  ,\n",
       "        -53.68023838,    7.72564666,  -64.13902601,   -0.48664961,\n",
       "         -5.64243681,   74.4511017 , -105.52784968,   -2.73314671,\n",
       "        -67.51474328,  -89.7334241 ,   53.95732705,   18.80597232,\n",
       "         -4.20223575,  109.17097506,  -72.10881036,   15.72148432,\n",
       "         -6.38132878,  -62.25659594,   48.50254986,   91.3242596 ,\n",
       "         -2.52798735,   46.56859652,  -71.71759013,    3.00161411,\n",
       "        -15.09306277,  -47.02225871,    5.88911972,  -34.2261771 ,\n",
       "         -5.34135924,   25.84847347,  -68.60551235,   12.07817337,\n",
       "         19.74610527,  -43.58959967,    5.56545115,  -30.63144542,\n",
       "         -3.95363272,  -49.8364267 ,  -14.229874  ,  -15.16154087,\n",
       "         37.83283288,   12.21707862,    4.35243577,   42.77780951,\n",
       "        -51.12765634,   71.29927039,  -19.95187422,    2.567515  ,\n",
       "        -67.77473211,    0.86285561,  -50.0982626 ,  -18.30627555,\n",
       "         42.34047252,   68.99428838,   -9.75123625,   76.53110704,\n",
       "        -50.42385015,  -13.93370618,   29.64720058,   33.69592535,\n",
       "         37.62972594,   21.24984746,   69.64934703,   53.10245565,\n",
       "         59.7996313 ,   31.01085206,  -71.15544527,   54.386228  ,\n",
       "         52.86291817,   63.55519766,   34.07605387,   44.73461678,\n",
       "        -24.10496785,  -21.8720595 ,   37.15207097,  -29.94134659,\n",
       "        -70.40039685,    9.25722129,  -36.32866599,   41.50999329,\n",
       "         90.00499339,  -10.17840208,  -76.30678156,   29.76176745,\n",
       "        -13.04329321,   51.24136705,  -62.95786291,  -62.21197733,\n",
       "         80.45204566,   50.27201757,   34.50006266,  -91.07489936,\n",
       "         21.27297819,   23.00162716,  -12.47083057,   -6.05184072,\n",
       "          3.51740777,   29.41428695,  -87.52693803,   27.09709858,\n",
       "        -64.88943362,  -22.83617608,   47.72425377,   46.86939315,\n",
       "         31.77774332,    2.7486986 ,  111.59287167,   65.66307533,\n",
       "          7.41131116,    0.67548338,  -28.68383634,  -33.49581408,\n",
       "         78.3162608 ,   57.192024  ,    7.38551463,   56.18248423,\n",
       "        -27.29975882,  -41.07813832,  -64.17672807,  -26.09142883,\n",
       "       -105.54529328,  -46.0407858 ,   -0.44868879,   33.18090162,\n",
       "         19.16086208,   77.97223628,  -72.17843477,   46.84551639,\n",
       "        -40.78759878,   60.82486242,   62.30041556,   -4.12629463,\n",
       "       -172.07902538,  107.58038586,   89.46594032,  -74.65797372,\n",
       "        -11.36501475,  -16.32271144,  -69.46716236,   -8.79913149,\n",
       "          7.44889405,  108.85074007,   81.57955028,  -33.63338632,\n",
       "        -17.40134106,   64.86518504,  -72.97427945,    6.33139621,\n",
       "         19.61086888,  -27.99323987,   -6.32193699,   99.97643822,\n",
       "         -4.07280201,   66.27198888,  -53.01049549,   -4.32590993,\n",
       "       -120.99203551,  -28.79641769,  -47.34947259,   77.24736796,\n",
       "         -3.92815486,   75.85719678,   85.29130311,  -29.64345275,\n",
       "         91.38630878,   -7.4839218 ,   37.38103236,  -52.10633979,\n",
       "          7.67063481,  -37.50123046,  -34.42339867,   14.62161227,\n",
       "         40.40081323,   54.09370521,   42.20944995,  -37.83663081,\n",
       "          1.9082888 ,  -22.7145884 ,  -21.07557145,   29.20021175,\n",
       "          6.34426639,  -66.23765993,   61.11175583,   11.29209212,\n",
       "         51.02580087,   31.00227757,   61.90039383,   32.04134605,\n",
       "        -28.77350174,  -51.29383274,  -20.32658389,   37.80418094,\n",
       "        -87.72144619,  -76.17090139,  -77.64750453,   20.19120103,\n",
       "         25.50336267,   36.16778487,   18.94079487,   -9.24659367,\n",
       "        -56.35806154,   67.96884926,   67.73666795,  -22.8612915 ,\n",
       "         71.48268992,  -22.8784384 ,   20.71974359,  -24.28326529,\n",
       "         70.7343656 ,   11.09852373,   -0.70795494,   10.94895245,\n",
       "          6.63139717,   35.71203301,    9.4178813 ,  114.1954078 ,\n",
       "         97.3094762 ,  -16.44484636,  -26.87325641,  -41.92767985,\n",
       "          1.02063458,  -29.24408708, -121.21774456,  -19.71044597,\n",
       "         17.73903064,    9.29501959,  -14.00893621,   75.47152817,\n",
       "         59.09143932,   28.96557231,  -22.66939574,   -1.58750892,\n",
       "        -46.68123661,  -54.79568052,    9.1352779 ,    3.57423303,\n",
       "        -98.40377452,  -35.312956  ,   27.05692117,    1.00961847,\n",
       "         33.37518634,   69.77151073,  -53.00558233,  -59.45622759,\n",
       "         26.64707928,  -45.26442394,   50.4011301 ,   69.67162878,\n",
       "         31.99730114,    3.03453172,   55.40201954,   51.77501184,\n",
       "          8.08862701,   15.16124448,  -20.20235371,  -10.87993827,\n",
       "          8.85359342,   -5.11717171,    1.00587671,   67.78013038,\n",
       "        -15.20691667,    8.56261323,  -11.1859282 ,  -46.915596  ,\n",
       "         -7.6810425 ,  -87.54088592,  -68.40103694,   13.21830798,\n",
       "         21.28111767,  -89.59088786,   35.40182718,  -15.0413875 ,\n",
       "         27.91379235,   64.97535656,  -36.15840268,  -68.87683634,\n",
       "        -50.02323959, -130.09503273,  -43.4016174 ,   57.84021443,\n",
       "         89.35743776,   65.55289137,   -1.31924844,   21.46635944,\n",
       "          9.68992479,   13.88855378,  -19.69459359,   87.23202911,\n",
       "         95.5288356 ,   57.83780916,   19.17370935,   -4.99341939,\n",
       "         49.06382377,  -10.97061603,   32.09565294,  -18.34460978,\n",
       "         25.54718097,  -56.4779097 ,   35.19295413,   46.55172776,\n",
       "         22.41186349,   10.54550338,   12.63872408,   52.76473654,\n",
       "          6.16605677,   20.76000629,   51.78245534,  -25.95858012,\n",
       "         27.11455945,   30.47907893,   62.18971265,   23.39190856,\n",
       "         -9.53870605,  -18.04326689,   15.2995927 ,   -4.03913412,\n",
       "        -18.67821215,   74.48446945,    5.72827157,  -41.82478455,\n",
       "         68.66320568,  -39.76483373,   40.22262952,   -0.70234791,\n",
       "         18.53883132, -101.5239934 ,    6.38540075,   22.43763033,\n",
       "         79.77337606,   24.27147383,   20.57327768,   88.77537195,\n",
       "        -18.46865014,  121.75045688,   14.47106847,   89.6988639 ,\n",
       "         24.30737343,   37.21983961,   69.65720596,   52.84922611,\n",
       "        -26.03180799,   70.461388  ,   12.79661597,   28.27591478])"
      ]
     },
     "execution_count": 31,
     "metadata": {},
     "output_type": "execute_result"
    }
   ],
   "source": [
    "normal=norm(loc=10, scale=50)\n",
    "e=normal.rvs(size=1000)\n",
    "e"
   ]
  },
  {
   "cell_type": "markdown",
   "metadata": {},
   "source": [
    "How are the two distributions different?"
   ]
  },
  {
   "cell_type": "code",
   "execution_count": 35,
   "metadata": {},
   "outputs": [
    {
     "data": {
      "image/png": "[encoded data removed]",
      "text/plain": [
       "<Figure size 432x288 with 1 Axes>"
      ]
     },
     "metadata": {
      "needs_background": "light"
     },
     "output_type": "display_data"
    },
    {
     "data": {
      "image/png": "[encoded data removed]",
      "text/plain": [
       "<Figure size 432x288 with 1 Axes>"
      ]
     },
     "metadata": {
      "needs_background": "light"
     },
     "output_type": "display_data"
    }
   ],
   "source": [
    "# your answer below\n",
    "for x in [i,e]:\n",
    "    sns.histplot(x)\n",
    "    plt.ylim(0,140)\n",
    "    plt.show()"
   ]
  },
  {
   "cell_type": "markdown",
   "metadata": {},
   "source": [
    "## Normal Distribution of Real Data\n",
    "\n",
    "In this challenge we are going to take a look the real data. We will use vehicles.csv file for this exercise"
   ]
  },
  {
   "cell_type": "markdown",
   "metadata": {},
   "source": [
    "First import vehicles.csv.\n",
    "Then plot the histograms for the following variables:\n",
    "\n",
    "1. Fuel Barrels/Year"
   ]
  },
  {
   "cell_type": "code",
   "execution_count": 36,
   "metadata": {},
   "outputs": [],
   "source": [
    "# your code here\n",
    "import pandas as pd"
   ]
  },
  {
   "cell_type": "code",
   "execution_count": 37,
   "metadata": {},
   "outputs": [
    {
     "data": {
      "text/html": [
       "<div>\n",
       "<style scoped>\n",
       "    .dataframe tbody tr th:only-of-type {\n",
       "        vertical-align: middle;\n",
       "    }\n",
       "\n",
       "    .dataframe tbody tr th {\n",
       "        vertical-align: top;\n",
       "    }\n",
       "\n",
       "    .dataframe thead th {\n",
       "        text-align: right;\n",
       "    }\n",
       "</style>\n",
       "<table border=\"1\" class=\"dataframe\">\n",
       "  <thead>\n",
       "    <tr style=\"text-align: right;\">\n",
       "      <th></th>\n",
       "      <th>Make</th>\n",
       "      <th>Model</th>\n",
       "      <th>Year</th>\n",
       "      <th>Engine Displacement</th>\n",
       "      <th>Cylinders</th>\n",
       "      <th>Transmission</th>\n",
       "      <th>Drivetrain</th>\n",
       "      <th>Vehicle Class</th>\n",
       "      <th>Fuel Type</th>\n",
       "      <th>Fuel Barrels/Year</th>\n",
       "      <th>City MPG</th>\n",
       "      <th>Highway MPG</th>\n",
       "      <th>Combined MPG</th>\n",
       "      <th>CO2 Emission Grams/Mile</th>\n",
       "      <th>Fuel Cost/Year</th>\n",
       "    </tr>\n",
       "  </thead>\n",
       "  <tbody>\n",
       "    <tr>\n",
       "      <th>0</th>\n",
       "      <td>AM General</td>\n",
       "      <td>DJ Po Vehicle 2WD</td>\n",
       "      <td>1984</td>\n",
       "      <td>2.5</td>\n",
       "      <td>4.0</td>\n",
       "      <td>Automatic 3-spd</td>\n",
       "      <td>2-Wheel Drive</td>\n",
       "      <td>Special Purpose Vehicle 2WD</td>\n",
       "      <td>Regular</td>\n",
       "      <td>19.388824</td>\n",
       "      <td>18</td>\n",
       "      <td>17</td>\n",
       "      <td>17</td>\n",
       "      <td>522.764706</td>\n",
       "      <td>1950</td>\n",
       "    </tr>\n",
       "    <tr>\n",
       "      <th>1</th>\n",
       "      <td>AM General</td>\n",
       "      <td>FJ8c Post Office</td>\n",
       "      <td>1984</td>\n",
       "      <td>4.2</td>\n",
       "      <td>6.0</td>\n",
       "      <td>Automatic 3-spd</td>\n",
       "      <td>2-Wheel Drive</td>\n",
       "      <td>Special Purpose Vehicle 2WD</td>\n",
       "      <td>Regular</td>\n",
       "      <td>25.354615</td>\n",
       "      <td>13</td>\n",
       "      <td>13</td>\n",
       "      <td>13</td>\n",
       "      <td>683.615385</td>\n",
       "      <td>2550</td>\n",
       "    </tr>\n",
       "    <tr>\n",
       "      <th>2</th>\n",
       "      <td>AM General</td>\n",
       "      <td>Post Office DJ5 2WD</td>\n",
       "      <td>1985</td>\n",
       "      <td>2.5</td>\n",
       "      <td>4.0</td>\n",
       "      <td>Automatic 3-spd</td>\n",
       "      <td>Rear-Wheel Drive</td>\n",
       "      <td>Special Purpose Vehicle 2WD</td>\n",
       "      <td>Regular</td>\n",
       "      <td>20.600625</td>\n",
       "      <td>16</td>\n",
       "      <td>17</td>\n",
       "      <td>16</td>\n",
       "      <td>555.437500</td>\n",
       "      <td>2100</td>\n",
       "    </tr>\n",
       "    <tr>\n",
       "      <th>3</th>\n",
       "      <td>AM General</td>\n",
       "      <td>Post Office DJ8 2WD</td>\n",
       "      <td>1985</td>\n",
       "      <td>4.2</td>\n",
       "      <td>6.0</td>\n",
       "      <td>Automatic 3-spd</td>\n",
       "      <td>Rear-Wheel Drive</td>\n",
       "      <td>Special Purpose Vehicle 2WD</td>\n",
       "      <td>Regular</td>\n",
       "      <td>25.354615</td>\n",
       "      <td>13</td>\n",
       "      <td>13</td>\n",
       "      <td>13</td>\n",
       "      <td>683.615385</td>\n",
       "      <td>2550</td>\n",
       "    </tr>\n",
       "    <tr>\n",
       "      <th>4</th>\n",
       "      <td>ASC Incorporated</td>\n",
       "      <td>GNX</td>\n",
       "      <td>1987</td>\n",
       "      <td>3.8</td>\n",
       "      <td>6.0</td>\n",
       "      <td>Automatic 4-spd</td>\n",
       "      <td>Rear-Wheel Drive</td>\n",
       "      <td>Midsize Cars</td>\n",
       "      <td>Premium</td>\n",
       "      <td>20.600625</td>\n",
       "      <td>14</td>\n",
       "      <td>21</td>\n",
       "      <td>16</td>\n",
       "      <td>555.437500</td>\n",
       "      <td>2550</td>\n",
       "    </tr>\n",
       "  </tbody>\n",
       "</table>\n",
       "</div>"
      ],
      "text/plain": [
       "               Make                Model  Year  Engine Displacement  \\\n",
       "0        AM General    DJ Po Vehicle 2WD  1984                  2.5   \n",
       "1        AM General     FJ8c Post Office  1984                  4.2   \n",
       "2        AM General  Post Office DJ5 2WD  1985                  2.5   \n",
       "3        AM General  Post Office DJ8 2WD  1985                  4.2   \n",
       "4  ASC Incorporated                  GNX  1987                  3.8   \n",
       "\n",
       "   Cylinders     Transmission        Drivetrain                Vehicle Class  \\\n",
       "0        4.0  Automatic 3-spd     2-Wheel Drive  Special Purpose Vehicle 2WD   \n",
       "1        6.0  Automatic 3-spd     2-Wheel Drive  Special Purpose Vehicle 2WD   \n",
       "2        4.0  Automatic 3-spd  Rear-Wheel Drive  Special Purpose Vehicle 2WD   \n",
       "3        6.0  Automatic 3-spd  Rear-Wheel Drive  Special Purpose Vehicle 2WD   \n",
       "4        6.0  Automatic 4-spd  Rear-Wheel Drive                 Midsize Cars   \n",
       "\n",
       "  Fuel Type  Fuel Barrels/Year  City MPG  Highway MPG  Combined MPG  \\\n",
       "0   Regular          19.388824        18           17            17   \n",
       "1   Regular          25.354615        13           13            13   \n",
       "2   Regular          20.600625        16           17            16   \n",
       "3   Regular          25.354615        13           13            13   \n",
       "4   Premium          20.600625        14           21            16   \n",
       "\n",
       "   CO2 Emission Grams/Mile  Fuel Cost/Year  \n",
       "0               522.764706            1950  \n",
       "1               683.615385            2550  \n",
       "2               555.437500            2100  \n",
       "3               683.615385            2550  \n",
       "4               555.437500            2550  "
      ]
     },
     "execution_count": 37,
     "metadata": {},
     "output_type": "execute_result"
    }
   ],
   "source": [
    "vehicles = pd.read_csv('vehicles.csv')\n",
    "vehicles.head()"
   ]
  },
  {
   "cell_type": "code",
   "execution_count": 39,
   "metadata": {},
   "outputs": [
    {
     "data": {
      "text/plain": [
       "17.609055502328875"
      ]
     },
     "execution_count": 39,
     "metadata": {},
     "output_type": "execute_result"
    }
   ],
   "source": [
    "m = vehicles['Fuel Barrels/Year'].mean()\n",
    "m"
   ]
  },
  {
   "cell_type": "code",
   "execution_count": 40,
   "metadata": {},
   "outputs": [
    {
     "data": {
      "text/plain": [
       "4.467282686296995"
      ]
     },
     "execution_count": 40,
     "metadata": {},
     "output_type": "execute_result"
    }
   ],
   "source": [
    "d = vehicles['Fuel Barrels/Year'].std()\n",
    "d"
   ]
  },
  {
   "cell_type": "code",
   "execution_count": 42,
   "metadata": {},
   "outputs": [],
   "source": [
    "normal=norm(loc=m, scale=d)\n",
    "e=normal.rvs(size=1000)"
   ]
  },
  {
   "cell_type": "code",
   "execution_count": 44,
   "metadata": {},
   "outputs": [
    {
     "data": {
      "text/plain": [
       "<AxesSubplot:ylabel='Count'>"
      ]
     },
     "execution_count": 44,
     "metadata": {},
     "output_type": "execute_result"
    },
    {
     "data": {
      "image/png": "[encoded data removed]",
      "text/plain": [
       "<Figure size 432x288 with 1 Axes>"
      ]
     },
     "metadata": {
      "needs_background": "light"
     },
     "output_type": "display_data"
    }
   ],
   "source": [
    "sns.histplot(e)"
   ]
  },
  {
   "cell_type": "markdown",
   "metadata": {},
   "source": [
    "2. CO2 Emission Grams/Mile "
   ]
  },
  {
   "cell_type": "code",
   "execution_count": 45,
   "metadata": {},
   "outputs": [
    {
     "data": {
      "text/plain": [
       "<AxesSubplot:ylabel='Count'>"
      ]
     },
     "execution_count": 45,
     "metadata": {},
     "output_type": "execute_result"
    },
    {
     "data": {
      "image/png": "[encoded data removed]",
      "text/plain": [
       "<Figure size 432x288 with 1 Axes>"
      ]
     },
     "metadata": {
      "needs_background": "light"
     },
     "output_type": "display_data"
    }
   ],
   "source": [
    "# your code here\n",
    "m = vehicles['CO2 Emission Grams/Mile'].mean()\n",
    "m\n",
    "\n",
    "d = vehicles['CO2 Emission Grams/Mile'].std()\n",
    "d\n",
    "\n",
    "normal=norm(loc=m, scale=d)\n",
    "e=normal.rvs(size=1000)\n",
    "\n",
    "sns.histplot(e)"
   ]
  },
  {
   "cell_type": "markdown",
   "metadata": {},
   "source": [
    "3. Combined MPG"
   ]
  },
  {
   "cell_type": "code",
   "execution_count": 46,
   "metadata": {},
   "outputs": [
    {
     "data": {
      "text/plain": [
       "<AxesSubplot:ylabel='Count'>"
      ]
     },
     "execution_count": 46,
     "metadata": {},
     "output_type": "execute_result"
    },
    {
     "data": {
      "image/png": "[encoded data removed]",
      "text/plain": [
       "<Figure size 432x288 with 1 Axes>"
      ]
     },
     "metadata": {
      "needs_background": "light"
     },
     "output_type": "display_data"
    }
   ],
   "source": [
    "# your code here\n",
    "m = vehicles['Combined MPG'].mean()\n",
    "m\n",
    "\n",
    "d = vehicles['Combined MPG'].std()\n",
    "d\n",
    "\n",
    "normal=norm(loc=m, scale=d)\n",
    "e=normal.rvs(size=1000)\n",
    "\n",
    "sns.histplot(e)"
   ]
  },
  {
   "cell_type": "markdown",
   "metadata": {},
   "source": [
    "Which one(s) of the variables are nearly normally distributed? How do you know?"
   ]
  },
  {
   "cell_type": "code",
   "execution_count": 55,
   "metadata": {},
   "outputs": [
    {
     "data": {
      "text/plain": [
       "0.682689492137086"
      ]
     },
     "execution_count": 55,
     "metadata": {},
     "output_type": "execute_result"
    }
   ],
   "source": [
    "# your answer here\n",
    "'''\n",
    "La columna Combined MPG por que se encuentra más cerca de las franjas del 68 por ciento\n",
    "'''\n",
    "normal.cdf(m+d) - normal.cdf(m-d)"
   ]
  },
  {
   "cell_type": "markdown",
   "metadata": {},
   "source": [
    "## Exponential Distribution"
   ]
  },
  {
   "cell_type": "markdown",
   "metadata": {},
   "source": [
    "1. Using `numpy.random.exponential`, create a function that returns a list of numbers exponentially distributed with the mean of 10. \n",
    "\n",
    "1. Use the function to generate two number sequences with the size of 10 and 100.\n",
    "\n",
    "1. Plot the distributions as histograms with the nubmer of bins as 100.\n",
    "\n",
    "Your output should look like below:\n",
    "\n",
    "![exponential distribution](ed.png)"
   ]
  },
  {
   "cell_type": "code",
   "execution_count": 62,
   "metadata": {},
   "outputs": [
    {
     "name": "stdout",
     "output_type": "stream",
     "text": [
      "[ 1.28985536  3.66179935  0.62685113  7.66034371 10.05008065  2.15412378\n",
      "  6.0771377  13.057243   11.0968914  18.11960565  0.19441889 35.03555277\n",
      "  2.9477408  17.79349068 42.56163479  5.21404655 45.85352482 12.69925346\n",
      " 17.83784067  5.17687729  5.78968106 17.94610048  3.13158089 25.51800068\n",
      " 15.11961748  3.51378034  0.62604802  6.24519735  0.22745764 26.56763702\n",
      "  1.20327008 14.34534833  4.44669808  9.92387944 35.12248673 31.90827471\n",
      "  5.8558511   7.81378673  2.40591214 13.81388023  7.81161121  8.59341829\n",
      "  0.91091876 22.31675645 16.5176654   9.95026617  3.90888058 11.43378753\n",
      "  9.59327975 13.33235842  3.36906694 10.10950204  1.6978908  14.31597388\n",
      " 13.26547792  1.7024649  13.2487691  30.59466198  1.67946636  6.52828666\n",
      " 15.96064127 38.17790721  4.79954912 24.7120931   0.46442745  2.06320427\n",
      "  0.54723608  6.80365988  8.5319576   7.89175387  8.04919976 10.68929147\n",
      "  3.97228669  3.26208548  2.60640203  9.44924267  4.93564902 10.11229733\n",
      "  4.16074415  4.71618229 12.10976163 20.95474923  1.48194593  9.97420647\n",
      "  8.8527678   6.75080616  4.57156648  3.5835835   1.86007093  2.06169045\n",
      "  5.39695504  4.18513628  8.07336427  2.05116124  4.81401794  2.963776\n",
      "  0.7827168   3.40275638 11.76878387 24.82413944]\n"
     ]
    },
    {
     "data": {
      "text/plain": [
       "<AxesSubplot:ylabel='Count'>"
      ]
     },
     "execution_count": 62,
     "metadata": {},
     "output_type": "execute_result"
    },
    {
     "data": {
      "image/png": "[encoded data removed]",
      "text/plain": [
       "<Figure size 432x288 with 1 Axes>"
      ]
     },
     "metadata": {
      "needs_background": "light"
     },
     "output_type": "display_data"
    }
   ],
   "source": [
    "# your code here\n",
    "import numpy as np\n",
    "\n",
    "x=np.random.exponential(10, size=100)\n",
    "\n",
    "d = x.std()\n",
    "d\n",
    "\n",
    "normal=norm(loc=10, scale=d)\n",
    "\n",
    "\n",
    "print(x)\n",
    "sns.histplot(x, bins = 100)"
   ]
  },
  {
   "cell_type": "markdown",
   "metadata": {},
   "source": [
    "How are the two distributions different?"
   ]
  },
  {
   "cell_type": "code",
   "execution_count": 63,
   "metadata": {},
   "outputs": [],
   "source": [
    "# your answer here"
   ]
  },
  {
   "cell_type": "markdown",
   "metadata": {},
   "source": [
    "## Exponential Distribution of Real Data\n",
    "\n",
    "Suppose that the amount of time one spends in a bank is exponentially distributed with mean as 10 minutes (i.e. λ = 1/10). What is the probability that a customer will spend less than fifteen minutes in the bank? \n",
    "\n",
    "Write a code in python to solve this problem"
   ]
  },
  {
   "cell_type": "code",
   "execution_count": null,
   "metadata": {},
   "outputs": [],
   "source": [
    "# your answer here\n",
    "# Hint: This is same as saying P(x<15)"
   ]
  },
  {
   "cell_type": "markdown",
   "metadata": {},
   "source": [
    "What is the probability that the customer will spend more than 15 minutes"
   ]
  },
  {
   "cell_type": "code",
   "execution_count": null,
   "metadata": {},
   "outputs": [],
   "source": [
    "# your answer here"
   ]
  },
  {
   "cell_type": "code",
   "execution_count": null,
   "metadata": {},
   "outputs": [],
   "source": []
  }
 ],
 "metadata": {
  "kernelspec": {
   "display_name": "Python 3 (ipykernel)",
   "language": "python",
   "name": "python3"
  },
  "language_info": {
   "codemirror_mode": {
    "name": "ipython",
    "version": 3
   },
   "file_extension": ".py",
   "mimetype": "text/x-python",
   "name": "python",
   "nbconvert_exporter": "python",
   "pygments_lexer": "ipython3",
   "version": "3.9.12"
  },
  "toc": {
   "base_numbering": 1,
   "nav_menu": {},
   "number_sections": true,
   "sideBar": true,
   "skip_h1_title": false,
   "title_cell": "Table of Contents",
   "title_sidebar": "Contents",
   "toc_cell": true,
   "toc_position": {},
   "toc_section_display": true,
   "toc_window_display": false
  },
  "varInspector": {
   "cols": {
    "lenName": 16,
    "lenType": 16,
    "lenVar": 40
   },
   "kernels_config": {
    "python": {
     "delete_cmd_postfix": "",
     "delete_cmd_prefix": "del ",
     "library": "var_list.py",
     "varRefreshCmd": "print(var_dic_list())"
    },
    "r": {
     "delete_cmd_postfix": ") ",
     "delete_cmd_prefix": "rm(",
     "library": "var_list.r",
     "varRefreshCmd": "cat(var_dic_list()) "
    }
   },
   "types_to_exclude": [
    "module",
    "function",
    "builtin_function_or_method",
    "instance",
    "_Feature"
   ],
   "window_display": false
  }
 },
 "nbformat": 4,
 "nbformat_minor": 2
}
