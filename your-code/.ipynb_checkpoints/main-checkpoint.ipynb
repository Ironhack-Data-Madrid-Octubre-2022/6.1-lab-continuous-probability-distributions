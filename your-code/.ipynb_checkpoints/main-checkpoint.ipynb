{
 "cells": [
  {
   "cell_type": "markdown",
   "metadata": {
    "toc": true
   },
   "source": [
    "<h1>Table of Contents<span class=\"tocSkip\"></span></h1>\n",
    "<div class=\"toc\"><ul class=\"toc-item\"><li><span><a href=\"#Before-your-start:\" data-toc-modified-id=\"Before-your-start:-1\"><span class=\"toc-item-num\">1&nbsp;&nbsp;</span>Before your start:</a></span><ul class=\"toc-item\"><li><span><a href=\"#Uniform-Distribution\" data-toc-modified-id=\"Uniform-Distribution-1.1\"><span class=\"toc-item-num\">1.1&nbsp;&nbsp;</span>Uniform Distribution</a></span></li><li><span><a href=\"#Normal-Distribution\" data-toc-modified-id=\"Normal-Distribution-1.2\"><span class=\"toc-item-num\">1.2&nbsp;&nbsp;</span>Normal Distribution</a></span></li><li><span><a href=\"#Normal-Distribution-of-Real-Data\" data-toc-modified-id=\"Normal-Distribution-of-Real-Data-1.3\"><span class=\"toc-item-num\">1.3&nbsp;&nbsp;</span>Normal Distribution of Real Data</a></span></li><li><span><a href=\"#Exponential-Distribution\" data-toc-modified-id=\"Exponential-Distribution-1.4\"><span class=\"toc-item-num\">1.4&nbsp;&nbsp;</span>Exponential Distribution</a></span></li><li><span><a href=\"#Exponential-Distribution-of-Real-Data\" data-toc-modified-id=\"Exponential-Distribution-of-Real-Data-1.5\"><span class=\"toc-item-num\">1.5&nbsp;&nbsp;</span>Exponential Distribution of Real Data</a></span></li></ul></li></ul></div>"
   ]
  },
  {
   "cell_type": "markdown",
   "metadata": {},
   "source": [
    "# Before your start:\n",
    "\n",
    "    Read the README.md file\n",
    "    Comment as much as you can and use the resources (README.md file)\n",
    "    Happy learning!"
   ]
  },
  {
   "cell_type": "markdown",
   "metadata": {},
   "source": [
    "In this exercise, we  will generate random numbers from the continuous disributions we learned in the lesson. There are two ways to generate random numbers:\n",
    "\n",
    "1. Using the numpy library \n",
    "1. using the Scipy library \n",
    "\n",
    "Use either or both of the lbraries in this exercise."
   ]
  },
  {
   "cell_type": "markdown",
   "metadata": {},
   "source": [
    "## Uniform Distribution\n",
    "\n",
    "To generate uniform random numbers between any two given values using scipy, we can either use the following code or the code that we have\n",
    "discussed in class:"
   ]
  },
  {
   "cell_type": "code",
   "execution_count": 1,
   "metadata": {},
   "outputs": [
    {
     "name": "stdout",
     "output_type": "stream",
     "text": [
      "[2.10448398 2.5535389  2.63945178 2.32407126 2.61064391 2.42159642\n",
      " 2.45058888 2.88702398 2.67070745 2.24552446]\n"
     ]
    }
   ],
   "source": [
    "from scipy.stats import uniform\n",
    "x = uniform.rvs(size=10)\n",
    "a = 2\n",
    "b = 3\n",
    "randoms  = a + (b-a)*x\n",
    "print(randoms)"
   ]
  },
  {
   "cell_type": "markdown",
   "metadata": {},
   "source": [
    "**Your task:**\n",
    "\n",
    "1. Based on the code above, write a function that generates uniformly distributed random numbers. There are several requirements for your function:\n",
    "    * It should accept 3 parameters: \n",
    "        * `bottom` - the lower boundary of the generated numbers\n",
    "        * `ceiling` - the upper boundary of the generated numbers\n",
    "        * `count` - how many numbers to generate\n",
    "    * It should return an array of uniformly distributed random numbers\n",
    "\n",
    "1. Call your function with 2 sets of params below:\n",
    "    * bottom=10, ceiling=15, count=100\n",
    "    * bottom=10, ceiling=60, count=1,000\n",
    "\n",
    "1. Plot the uniform distributions generated above using histograms, where x axis is the value and y axis is the count. Let the histogram's number of bins be 10.\n",
    "\n",
    "Your output should look like below:\n",
    "\n",
    "![uniform distribution](ud.png)"
   ]
  },
  {
   "cell_type": "code",
   "execution_count": 2,
   "metadata": {},
   "outputs": [
    {
     "data": {
      "text/plain": [
       "array([10.78744471, 13.58400609, 14.88720798, 11.23151714, 11.7659172 ,\n",
       "       10.28003773, 13.00620459, 13.57775074, 11.38654242, 11.91372096,\n",
       "       13.0031115 , 10.08687104, 10.88018867, 14.55455632, 12.67412829,\n",
       "       14.72239285, 12.08060583, 10.98287589, 13.29964751, 13.11838943,\n",
       "       13.08694338, 14.21665614, 13.7141076 , 14.8652894 , 11.91542855,\n",
       "       13.17359216, 11.06292586, 12.70461408, 14.27106722, 14.56439049,\n",
       "       13.92481294, 12.02809206, 10.41594892, 10.54775396, 13.1362294 ,\n",
       "       13.96702981, 10.94691094, 14.88152582, 12.41382548, 13.06622632,\n",
       "       13.47856222, 13.51312654, 13.328887  , 14.911212  , 14.23647508,\n",
       "       14.37902049, 10.62632372, 13.44557925, 14.61286265, 11.82117719,\n",
       "       12.83803994, 12.22760733, 11.78767426, 10.2832033 , 12.06443433,\n",
       "       12.86762102, 13.51673718, 13.96655878, 10.90419312, 11.15665296,\n",
       "       10.92158933, 13.66495756, 12.18401001, 13.37737724, 14.55137074,\n",
       "       13.16608728, 10.31853178, 11.69411654, 11.60981073, 13.02756074,\n",
       "       13.70969376, 10.93648195, 11.56869054, 10.35542457, 13.61927615,\n",
       "       13.39741055, 10.80753214, 12.82057496, 10.7259103 , 13.68139179,\n",
       "       14.17722475, 10.22394123, 12.74017211, 13.07621591, 10.81815006,\n",
       "       13.82233619, 13.60349022, 12.42132183, 12.5959545 , 11.99607659,\n",
       "       14.34167128, 13.4475429 , 13.9200639 , 10.16078672, 13.36661582,\n",
       "       10.3403962 , 11.57081998, 14.43237154, 13.54564395, 12.85648668])"
      ]
     },
     "execution_count": 2,
     "metadata": {},
     "output_type": "execute_result"
    }
   ],
   "source": [
    "# your code here\n",
    "x = uniform.rvs(size=100)\n",
    "i  = 10 + (15-10)*x\n",
    "i"
   ]
  },
  {
   "cell_type": "code",
   "execution_count": 3,
   "metadata": {},
   "outputs": [
    {
     "data": {
      "text/plain": [
       "array([30.06869255, 50.60340082, 12.77187405, 10.67177885, 15.18901078,\n",
       "       12.38497861, 11.68786518, 45.46279457, 11.92888774, 34.57891818,\n",
       "       27.31773615, 22.24237022, 57.50021119, 35.36245361, 17.222086  ,\n",
       "       56.21218946, 15.270344  , 17.47667212, 12.60597745, 45.33284147,\n",
       "       57.5603592 , 32.7475999 , 31.42435933, 55.62201564, 47.69125264,\n",
       "       28.36280494, 51.53657182, 51.22034582, 43.41765913, 16.92729836,\n",
       "       13.98698461, 25.13341016, 31.65844157, 57.91054861, 41.96884478,\n",
       "       46.93589306, 24.99921998, 34.42525271, 49.79916412, 24.71683988,\n",
       "       15.7916036 , 42.7058527 , 59.51973733, 49.85271722, 14.20509364,\n",
       "       48.98727996, 24.16156455, 10.59720924, 14.00343557, 27.26707741,\n",
       "       44.66531576, 54.76795375, 17.50138944, 19.52003446, 44.35940458,\n",
       "       12.71260636, 20.63383138, 51.1899619 , 26.27043684, 29.32200053,\n",
       "       59.31483528, 15.10727403, 19.18230106, 13.77984454, 34.96849474,\n",
       "       28.94325361, 28.46296801, 57.13710819, 31.73944664, 11.60374758,\n",
       "       53.48064604, 48.34140551, 20.55403976, 22.43329631, 49.97400151,\n",
       "       48.75387004, 59.80621506, 31.71496492, 56.93665848, 53.8392565 ,\n",
       "       35.15750814, 49.53366502, 24.21392447, 37.24619626, 44.09495898,\n",
       "       53.14488536, 51.09621617, 36.27818037, 20.11426626, 36.27224414,\n",
       "       45.90190606, 31.49729493, 30.65257777, 47.95838281, 58.40105521,\n",
       "       43.17418616, 48.71829152, 10.22146954, 55.6639915 , 18.11224592,\n",
       "       50.617984  , 41.0687532 , 53.16927292, 30.14579849, 27.10463591,\n",
       "       32.12224041, 26.9486638 , 38.13494741, 14.29897043, 32.39483909,\n",
       "       14.30226669, 30.10981084, 37.52191472, 31.19608953, 39.78560567,\n",
       "       41.65061516, 22.20780234, 44.70762241, 12.18895647, 22.57577922,\n",
       "       58.31577013, 15.65061703, 24.20494929, 38.53578229, 13.16934708,\n",
       "       22.00082556, 55.94548213, 36.66540292, 32.16250556, 40.50402075,\n",
       "       54.4860899 , 30.51444831, 59.19087658, 27.27665276, 11.83960529,\n",
       "       17.19581183, 27.84403461, 15.15293374, 45.19086858, 20.89134079,\n",
       "       18.19688124, 20.66696853, 41.59697758, 30.03449757, 21.20076594,\n",
       "       41.1219739 , 36.12658489, 45.36803471, 56.45983581, 42.54512379,\n",
       "       54.35998883, 58.20224993, 38.86205039, 15.29577868, 11.67052041,\n",
       "       29.97177052, 12.80587092, 36.13450985, 21.79912179, 49.87585324,\n",
       "       14.87178324, 58.70201524, 27.3792759 , 36.29911646, 38.86307629,\n",
       "       36.31139594, 31.96404123, 43.95544312, 50.9559764 , 20.50884637,\n",
       "       56.56704022, 15.59132083, 36.17629253, 24.64318223, 13.35875286,\n",
       "       20.80892449, 33.16126397, 24.94036377, 27.10288626, 37.79907851,\n",
       "       12.24385166, 15.0156642 , 40.40742982, 55.47958855, 16.19005419,\n",
       "       35.96606847, 37.57612123, 25.51888768, 56.49028326, 54.6617029 ,\n",
       "       47.37993464, 53.35991886, 24.90045387, 26.05127325, 13.66308273,\n",
       "       42.94701932, 28.00275412, 43.97567653, 43.27261953, 57.28914163,\n",
       "       41.17487878, 34.30576279, 22.161837  , 46.65690604, 36.99599686,\n",
       "       51.82459824, 44.35179142, 37.54173262, 26.59547122, 35.24408209,\n",
       "       40.94548707, 51.21044209, 55.83761094, 13.53264466, 32.42951699,\n",
       "       51.008905  , 14.56311585, 42.14028215, 23.22565261, 52.64397748,\n",
       "       19.64938438, 15.75679081, 22.86258526, 26.20658856, 26.7894563 ,\n",
       "       45.7066544 , 51.34215723, 50.05275855, 26.57664819, 27.46707169,\n",
       "       19.37216755, 59.61059617, 15.87852245, 44.71903166, 46.20037342,\n",
       "       48.056767  , 13.30512713, 13.05915525, 20.88209449, 10.15296293,\n",
       "       31.17687389, 42.73631985, 29.77062338, 13.77267177, 49.96683204,\n",
       "       41.01735987, 36.29527497, 50.93976247, 28.10892181, 32.87119649,\n",
       "       52.44783349, 10.9985827 , 37.52124698, 37.85462925, 17.63468804,\n",
       "       31.89361805, 47.86918772, 20.18720532, 22.84867435, 10.10728157,\n",
       "       23.83459843, 13.33469292, 57.86655512, 25.70262691, 43.84985051,\n",
       "       50.2842746 , 34.72758756, 54.99657332, 21.97037291, 19.0266723 ,\n",
       "       51.93361739, 29.5941663 , 11.02457732, 55.82624776, 20.42355662,\n",
       "       19.17771539, 32.59207602, 29.05943962, 41.4263863 , 38.51373892,\n",
       "       23.36893072, 46.57828527, 55.28088411, 18.53344914, 37.19764331,\n",
       "       25.7637653 , 41.60617191, 26.09625165, 12.60226956, 36.05343429,\n",
       "       29.18601478, 46.54456988, 20.71459113, 49.94417905, 50.12896007,\n",
       "       30.20337484, 49.95229178, 37.66529063, 42.18729095, 25.98363957,\n",
       "       42.71602648, 45.12730591, 39.17416727, 35.53123136, 37.3865217 ,\n",
       "       27.30913715, 32.99115675, 25.69261134, 46.43665572, 30.28529734,\n",
       "       30.57916632, 25.94407162, 28.94610061, 31.50225715, 55.15268338,\n",
       "       16.58374022, 50.24907617, 42.11376338, 47.71600432, 39.14419065,\n",
       "       16.41366654, 20.9048927 , 25.87657797, 27.75710753, 34.13804918,\n",
       "       16.95946933, 13.29319455, 46.22296718, 39.68626039, 32.97540437,\n",
       "       26.13154651, 15.64023329, 48.30229003, 47.31065615, 47.43342761,\n",
       "       38.99920745, 13.11238926, 37.11068436, 27.85773783, 47.9613899 ,\n",
       "       12.53736436, 49.30326002, 31.85667271, 23.17707735, 48.12196196,\n",
       "       56.63759418, 45.19942009, 51.16103179, 20.11984198, 24.65255613,\n",
       "       35.54558332, 57.91134249, 50.47166348, 24.67269505, 48.295712  ,\n",
       "       55.57866459, 51.13022623, 27.34270298, 33.00887698, 24.04664206,\n",
       "       26.90168932, 40.39145532, 38.86308044, 38.829454  , 41.89913247,\n",
       "       44.05306632, 40.73914317, 22.29435571, 19.47969152, 16.18566486,\n",
       "       47.04580786, 46.03129108, 21.37988333, 49.34713087, 31.66142983,\n",
       "       14.02176798, 52.77271656, 31.1935762 , 30.91019583, 50.12658784,\n",
       "       22.01146847, 10.53356931, 48.97767802, 57.94030137, 43.45660846,\n",
       "       47.23943062, 37.16393316, 12.66691098, 49.3971198 , 53.81900919,\n",
       "       56.77142404, 17.59795559, 48.38925452, 52.73806918, 46.7169969 ,\n",
       "       16.18812551, 22.28685762, 56.91757769, 17.28989625, 50.67659564,\n",
       "       42.77433249, 49.94164782, 44.23902597, 55.33414032, 49.0401609 ,\n",
       "       35.92241821, 12.49352232, 32.96681222, 55.35543924, 54.82978899,\n",
       "       37.30352536, 37.27737633, 47.43369086, 59.26486753, 46.82073384,\n",
       "       29.67551539, 52.61118514, 24.07572018, 45.51552188, 18.73576929,\n",
       "       58.51540878, 29.86924452, 56.46499389, 57.82036242, 45.83296226,\n",
       "       42.24056298, 56.50213648, 21.46615693, 17.26251562, 25.653636  ,\n",
       "       55.36476893, 45.3266851 , 46.47590102, 43.96409897, 59.50368024,\n",
       "       44.20748286, 35.63314291, 41.41432176, 17.65970302, 37.5898924 ,\n",
       "       59.95150904, 48.23572208, 44.93167848, 22.23437482, 24.1588529 ,\n",
       "       48.65914315, 26.28574937, 21.78481469, 46.01303979, 41.83232624,\n",
       "       11.02810093, 14.44103233, 48.6608481 , 38.10522697, 59.19209082,\n",
       "       30.70060717, 18.67550687, 37.72666305, 11.01930003, 49.49886266,\n",
       "       56.17331776, 20.71702182, 13.20663892, 21.89055231, 33.98556424,\n",
       "       18.35296008, 56.67353267, 28.20545287, 36.83991644, 17.49593532,\n",
       "       25.49768703, 47.68795588, 11.55650537, 19.74209693, 46.13697073,\n",
       "       19.09549317, 57.15255105, 18.19418247, 14.74903284, 58.74020059,\n",
       "       46.86233364, 19.65520096, 11.09705581, 12.36245929, 41.33661907,\n",
       "       50.398268  , 18.88836962, 11.16396199, 56.31112207, 43.31446638,\n",
       "       40.94082007, 37.20334425, 42.74682711, 15.73049536, 51.46463214,\n",
       "       32.68485908, 47.45720707, 10.22800674, 32.44864172, 58.92686075,\n",
       "       31.54271804, 24.53053994, 29.78865358, 36.05575715, 54.36958418,\n",
       "       11.37413472, 38.27624633, 11.6847559 , 46.73426316, 46.77376627,\n",
       "       51.20929087, 50.05598913, 21.84220009, 36.29000522, 47.12917099,\n",
       "       51.91198696, 30.62065364, 58.16532862, 52.92456964, 57.68510215,\n",
       "       43.12578876, 58.9851816 , 31.25956745, 44.84039448, 10.10896303,\n",
       "       56.38759688, 25.83228189, 53.13743718, 53.5306244 , 37.59118975,\n",
       "       27.33127825, 39.08110023, 33.16807413, 24.52940734, 27.15540692,\n",
       "       59.5101353 , 25.79917149, 24.59353442, 59.54263156, 54.74628535,\n",
       "       12.01344211, 45.32163957, 30.01221159, 40.46343306, 53.97838243,\n",
       "       31.37759859, 38.54505482, 11.03713769, 51.27092245, 43.77532144,\n",
       "       17.49203463, 18.4431478 , 54.60240579, 43.52282922, 38.46646279,\n",
       "       18.69291135, 21.32540255, 14.20683353, 22.52133346, 40.46115494,\n",
       "       57.80331929, 34.21154905, 58.40486654, 44.43151426, 33.7245324 ,\n",
       "       14.70613165, 19.79835017, 12.43838502, 51.76080443, 34.40617379,\n",
       "       34.47549459, 43.3849773 , 43.71902404, 24.83029572, 24.67018335,\n",
       "       13.56103484, 13.87813238, 28.98789233, 30.47251529, 10.33173448,\n",
       "       21.64342601, 45.84725426, 39.83876751, 51.34456781, 21.00730787,\n",
       "       31.08018293, 14.41749286, 16.43788963, 18.79875729, 37.89549004,\n",
       "       50.67009708, 11.66848337, 31.83919372, 23.2674301 , 11.14442626,\n",
       "       49.88840247, 31.32155486, 24.25205465, 36.93732387, 42.04000402,\n",
       "       16.02766821, 26.77358454, 15.38700333, 12.07352376, 12.61749449,\n",
       "       27.48736204, 55.24366197, 11.13717945, 25.98537502, 54.71124942,\n",
       "       19.47269522, 37.30050654, 38.3236424 , 14.78186164, 52.67564945,\n",
       "       32.98178218, 44.92733989, 37.20267282, 47.82888871, 45.11952641,\n",
       "       25.3590476 , 28.966117  , 23.1283611 , 52.6010366 , 59.73694733,\n",
       "       44.11342323, 41.19035235, 37.96737973, 40.62333077, 16.27018132,\n",
       "       27.36433039, 26.88119553, 44.32337169, 41.13651326, 18.56825588,\n",
       "       46.70222375, 50.37917002, 57.97578233, 18.22310925, 58.63867271,\n",
       "       45.96274468, 11.18863607, 15.46804652, 41.54756616, 14.86085787,\n",
       "       20.57300989, 56.05615483, 34.17602733, 36.24351586, 22.11212244,\n",
       "       42.41390136, 55.7265425 , 49.04225009, 55.09652517, 52.9579877 ,\n",
       "       32.06823886, 14.00371847, 48.84952757, 51.14579575, 54.89408592,\n",
       "       10.27266895, 10.05965812, 30.92354854, 46.01520791, 31.52351972,\n",
       "       47.470621  , 57.47790987, 22.75950769, 42.01525923, 45.05180486,\n",
       "       36.45324197, 58.27727265, 29.48561875, 16.90168346, 28.90988481,\n",
       "       18.98395222, 45.82445144, 44.48590451, 40.32932863, 18.82683832,\n",
       "       40.83565798, 11.84887725, 32.40358451, 50.52121121, 45.20691745,\n",
       "       46.42536198, 23.09705789, 11.69704991, 59.18435353, 22.84920762,\n",
       "       20.57231731, 49.9069977 , 18.98485462, 17.40137577, 33.19881242,\n",
       "       52.50357156, 25.04015597, 59.60111926, 33.26443703, 56.26374452,\n",
       "       40.7659309 , 39.05506491, 13.41136634, 17.08077351, 27.2581849 ,\n",
       "       18.2474988 , 29.31132502, 50.38414894, 44.52800625, 28.07603526,\n",
       "       29.75232171, 46.34979277, 44.76809957, 45.52972603, 10.90969963,\n",
       "       35.01602236, 57.00586708, 31.05763219, 34.60749255, 55.8721759 ,\n",
       "       39.014112  , 50.89253102, 41.21298639, 16.98009308, 42.11107293,\n",
       "       22.82544111, 56.818977  , 16.20130603, 15.41566685, 46.11940321,\n",
       "       55.1262092 , 10.24586101, 43.04039709, 54.93058588, 28.49783528,\n",
       "       28.28119988, 43.73661394, 52.56258723, 36.90576101, 56.13053272,\n",
       "       18.46807167, 56.92874779, 17.31793551, 47.21298495, 35.40708161,\n",
       "       25.48996983, 40.04822705, 56.60108243, 38.69069388, 26.73824598,\n",
       "       30.91908746, 57.22998588, 18.92298087, 48.67104293, 41.08327991,\n",
       "       54.24317334, 24.39192858, 16.82077582, 23.3458934 , 19.78426059,\n",
       "       57.20939361, 13.34692911, 58.06384547, 54.35395795, 35.9913539 ,\n",
       "       11.44657508, 22.77665919, 41.50345174, 30.16466649, 39.29112652,\n",
       "       59.71610402, 59.68407578, 55.49256036, 13.10846677, 16.92406947,\n",
       "       36.6498886 , 16.46653054, 52.45981488, 58.76358336, 59.91320443,\n",
       "       48.05721202, 36.20134027, 31.6109345 , 15.21643899, 55.11597998,\n",
       "       41.77588413, 50.07828276, 25.72849379, 57.09933134, 47.32170743,\n",
       "       19.75390811, 16.62621225, 53.63748059, 47.2139476 , 48.67402865,\n",
       "       15.62262864, 30.75098324, 41.26105582, 16.35406744, 29.43987886,\n",
       "       51.16024548, 31.86821895, 17.26794905, 51.44885678, 31.51033705,\n",
       "       59.25724593, 21.92669713, 25.65554329, 44.62787855, 24.4636709 ,\n",
       "       24.49711025, 26.67142191, 32.75852167, 55.94502534, 58.9862937 ,\n",
       "       55.90344204, 40.09174671, 24.2379121 , 53.87957819, 10.95230307,\n",
       "       17.58387814, 51.87920119, 35.72225532, 49.90158296, 48.4447755 ,\n",
       "       38.73667981, 31.8950015 , 11.34570013, 58.57602803, 22.56388038,\n",
       "       21.41434714, 24.90351206, 43.20664192, 15.53193461, 35.84701368,\n",
       "       49.90870526, 48.24209108, 59.76161951, 43.98730584, 38.47440115,\n",
       "       43.376684  , 39.70855094, 22.74500844, 42.66926772, 10.47821579,\n",
       "       35.80948047, 54.41245789, 23.91557129, 29.85290754, 33.92615642,\n",
       "       57.5159774 , 53.98535003, 48.17591931, 31.81026904, 29.06697555,\n",
       "       32.49902851, 30.0465169 , 50.49271418, 40.41142622, 48.30702035,\n",
       "       10.97318681, 41.20416848, 17.41251182, 15.88688942, 26.23087169,\n",
       "       30.71323902, 20.97081603, 54.69001012, 13.87171973, 47.05240217,\n",
       "       47.12821776, 22.14317209, 55.47063223, 23.9112743 , 37.74621893,\n",
       "       39.82052187, 32.07027488, 15.63261816, 28.76951519, 45.89593517,\n",
       "       21.77553172, 18.26577917, 36.86446549, 13.14369484, 21.48798013,\n",
       "       21.70127093, 23.22163736, 32.43030331, 46.61902875, 37.65292412,\n",
       "       50.20379374, 52.83265601, 10.64777669, 22.06783341, 18.09605814,\n",
       "       50.33069581, 40.34044398, 53.46925559, 15.13104996, 48.56900674,\n",
       "       30.8732908 , 33.98766636, 49.91200305, 16.62218061, 33.0511653 ,\n",
       "       35.24867079, 43.91572755, 30.43463279, 29.34279084, 28.7579639 ,\n",
       "       36.72883986, 25.39931253, 32.71439844, 19.04359589, 30.75782034,\n",
       "       47.83879769, 39.72465114, 49.01749951, 24.67963736, 50.88688776,\n",
       "       45.84903135, 30.75675234, 48.92388124, 24.61909935, 10.85398203,\n",
       "       43.01820747, 37.2631186 , 13.17074615, 30.0511062 , 53.80364421,\n",
       "       22.99005569, 17.70541003, 49.64866923, 34.48621699, 14.69665057,\n",
       "       43.11354497, 27.40171145, 37.88773213, 26.37560545, 33.41903203,\n",
       "       33.0916813 , 59.58164315, 11.12174373, 15.79760651, 55.5904768 ,\n",
       "       45.69860393, 38.18064979, 23.39997242, 44.67600418, 32.45678137,\n",
       "       26.70981543, 42.7739013 , 52.29365466, 45.98613499, 41.44239174,\n",
       "       20.28773432, 24.990025  , 56.58804318, 15.44214709, 16.95346558,\n",
       "       35.17746363, 39.49627776, 30.423457  , 56.75232741, 22.76432378,\n",
       "       46.73273257, 51.53534525, 38.98055843, 42.45896805, 41.38416305,\n",
       "       46.38813961, 12.63040734, 51.1519716 , 28.08942164, 40.49844093,\n",
       "       50.19880822, 43.89031878, 56.00891775, 31.93113308, 47.26156312,\n",
       "       53.5408921 , 17.8531783 , 17.32678528, 56.26501999, 13.90843442,\n",
       "       10.46076169, 13.22206115, 21.83951245, 15.13151998, 16.39561166,\n",
       "       22.72392262, 50.63508949, 12.33700352, 53.81702815, 41.01789169,\n",
       "       44.84358492, 45.63573772, 22.09819022, 45.79098069, 14.48448344])"
      ]
     },
     "execution_count": 3,
     "metadata": {},
     "output_type": "execute_result"
    }
   ],
   "source": [
    "x = uniform.rvs(size=1000)\n",
    "e  = 10 + (60-10)*x\n",
    "e"
   ]
  },
  {
   "cell_type": "markdown",
   "metadata": {},
   "source": [
    "How are the two distributions different?"
   ]
  },
  {
   "cell_type": "code",
   "execution_count": 4,
   "metadata": {},
   "outputs": [
    {
     "data": {
      "image/png": "[encoded data removed]",
      "text/plain": [
       "<Figure size 432x288 with 1 Axes>"
      ]
     },
     "metadata": {
      "needs_background": "light"
     },
     "output_type": "display_data"
    },
    {
     "data": {
      "image/png": "[encoded data removed]",
      "text/plain": [
       "<Figure size 432x288 with 1 Axes>"
      ]
     },
     "metadata": {
      "needs_background": "light"
     },
     "output_type": "display_data"
    }
   ],
   "source": [
    "# your answer below\n",
    "import seaborn as sns\n",
    "import pylab as plt\n",
    "for x in [i,e]:\n",
    "    sns.histplot(x,bins=10)\n",
    "    plt.ylim(0,120)\n",
    "    plt.show()"
   ]
  },
  {
   "cell_type": "markdown",
   "metadata": {},
   "source": [
    "## Normal Distribution\n",
    "\n",
    "1. In the same way in the Uniform Distribution challenge, write a function that generates normally distributed random numbers.\n",
    "1. Generate 1,000 normally distributed numbers with the average of 10 and standard deviation of 1\n",
    "1. Generate 1,000 normally distributed numbers with the average of 10 and standard deviation of 50\n",
    "2. Plot the distributions of the data generated.\n",
    "\n",
    "Expected output:\n",
    "\n",
    "![normal distribution](nd.png)"
   ]
  },
  {
   "cell_type": "code",
   "execution_count": 5,
   "metadata": {},
   "outputs": [
    {
     "data": {
      "text/plain": [
       "array([10.04125289,  7.48880618, 12.54030269,  8.25391775, 10.91934237,\n",
       "        9.68212449,  9.47963512, 10.17073319, 11.17231666, 10.87539354,\n",
       "        8.42564661, 10.3633789 ,  9.59381889,  9.98951707, 10.60714109,\n",
       "       11.22550033, 10.82980773, 11.27860223, 10.24220747,  9.53187499,\n",
       "       10.10082867,  9.54615109,  7.02359958,  9.80832892,  9.42581069,\n",
       "       10.3000121 ,  8.61064679, 10.97521786, 10.32038756,  8.52533418,\n",
       "       12.41387172,  9.52886803,  9.20360884, 10.61226973, 10.15742329,\n",
       "        9.81551189, 10.15770827,  8.79123951, 10.62751349, 10.38100192,\n",
       "       10.12012089, 10.22711328, 11.02045542,  9.14422938,  9.07286789,\n",
       "       10.2657808 , 10.63026589,  8.82823308,  9.33057247, 11.15691201,\n",
       "       10.56369042, 10.83840438, 10.94381033, 10.38587559, 10.24591946,\n",
       "        8.98169814,  9.19607857,  8.43416352, 10.31469896, 11.10850854,\n",
       "       10.77165404,  9.76853171, 10.3679938 , 10.55591562,  8.24683642,\n",
       "        9.59304553,  8.84486866, 10.06388052, 10.5327667 , 10.53942481,\n",
       "        9.24257414,  9.02863956,  9.00472943,  9.11299947, 10.43265538,\n",
       "       10.00750059,  9.6848569 , 10.93517384, 11.68306552,  8.66608077,\n",
       "       10.53706036, 10.9247345 ,  9.88122432, 11.27415736,  9.15824234,\n",
       "        9.76780183, 10.76664852,  9.26158727, 12.09761192, 10.30897209,\n",
       "        9.85749046,  9.83543823, 11.24673902, 10.25577357,  9.00647315,\n",
       "        8.84569486, 10.52762849,  9.3857555 ,  9.90884286, 10.25592417,\n",
       "        9.81966411,  9.4116395 , 11.0765353 ,  9.43729882,  9.15789964,\n",
       "        9.40881455, 10.53958368,  9.60226395,  8.62849742,  9.09831817,\n",
       "        9.52502905, 11.60974874,  9.75782691, 10.85672978,  9.34100892,\n",
       "       10.94758977, 11.48635495, 10.67173193, 10.61838855, 12.12093232,\n",
       "        9.30725283, 10.53100061,  8.58447399,  8.83224828,  8.87689873,\n",
       "        9.14112745,  9.92509197, 10.56862905, 11.82562448,  9.5601413 ,\n",
       "        9.97950858,  9.70867089, 10.57562675, 10.71428167, 12.22167162,\n",
       "       11.27716126,  9.45865071,  9.76721004,  9.09969284, 10.46210064,\n",
       "        9.43479125,  9.47792643,  8.57593304, 11.07629534,  9.19717116,\n",
       "       10.64625671,  9.01337605, 12.54703953,  9.97205611, 11.16856849,\n",
       "        8.56574472, 11.51599157,  8.5556588 ,  9.59463012, 10.37148302,\n",
       "        9.90651499,  9.67638263,  9.21012801,  9.7818914 , 10.37379417,\n",
       "        9.17357793,  9.09108845,  9.92914315, 13.16333995, 12.10481055,\n",
       "        9.42363544, 10.90328349,  9.8252128 ,  8.85590724,  9.62922251,\n",
       "        9.38966232, 10.88233855,  9.85699173, 12.18954926, 10.22305037,\n",
       "        9.70177667,  9.09979186, 10.16358812,  9.18211939,  9.92318308,\n",
       "        9.42003385, 11.7485778 ,  9.35306148,  7.71792206,  9.89384361,\n",
       "        8.34301122, 11.3283306 ,  9.26057018,  9.59659821, 10.91679749,\n",
       "        9.50167767,  9.06482576, 10.70927724, 10.85254396, 11.143402  ,\n",
       "        9.02338703,  9.81397378, 11.00096088,  9.29793214,  8.85609584,\n",
       "       10.20659763, 12.43984422,  9.71414495, 10.18074986,  9.16820426,\n",
       "       12.1222025 ,  9.88412607,  9.9817272 ,  9.69724743,  8.19710998,\n",
       "        9.80499185, 12.17932931,  8.50777834, 10.01415089,  8.82976807,\n",
       "        9.83926156,  8.79098507, 11.16058232, 10.45386658, 10.18824894,\n",
       "        9.22021906,  8.17520345,  8.62323617,  9.60115576, 10.28359117,\n",
       "        9.77426836, 10.62432097,  9.88547983, 13.16854587,  8.23369212,\n",
       "       10.57600044,  9.92842389, 10.38085853, 10.21995859, 10.6589326 ,\n",
       "        9.1650477 ,  8.51898041,  9.51102828, 11.9144712 , 10.79195418,\n",
       "       10.66319963, 10.73826617, 11.75683903,  9.68080005, 10.70488207,\n",
       "        9.54898121, 10.9907748 , 10.07573046, 11.67917435,  9.69020719,\n",
       "       11.09867314,  8.48605811,  8.03950318, 10.66785789,  8.58614217,\n",
       "        8.08842559, 12.51577235, 10.80918834, 10.53352006, 10.53134912,\n",
       "        8.97565747,  9.97433667,  9.8097345 ,  8.85685904,  9.90240819,\n",
       "       10.11342128,  9.52961058,  9.04289474,  9.68116195,  9.17347668,\n",
       "       10.70232952, 10.09812575, 10.15630432,  9.86210162, 10.17250298,\n",
       "       11.53414865, 11.12766038,  9.67340472,  9.09589987, 10.41324902,\n",
       "        8.28402638, 11.15078711,  9.49470862,  9.41863786,  9.86093785,\n",
       "        9.97696902,  9.41756152,  8.23592013,  9.90758906,  9.75288208,\n",
       "        9.09227116,  9.20285026, 11.69343958, 10.28085972,  6.99141379,\n",
       "       10.28622417, 10.52719524, 10.56150836, 10.94183094, 10.4090832 ,\n",
       "       10.17941693,  9.57147997,  9.75726375,  9.1623588 ,  9.76663839,\n",
       "       11.57017515, 10.31545393, 11.75546735, 11.14266965,  8.32262041,\n",
       "        9.95428764, 10.81831329,  9.90246209,  7.68122841,  9.08506083,\n",
       "       11.45273488, 11.22638539,  8.7182746 , 10.32791576, 11.52770704,\n",
       "        9.88207434, 10.66096563, 10.99502   ,  9.35717248, 10.88297918,\n",
       "        9.71513185, 11.35584824,  9.60374293, 10.54244989, 10.25770863,\n",
       "       11.01481251,  9.54786444, 10.85170277,  8.99013476,  9.62275503,\n",
       "        9.31380679,  8.60618883,  9.79882418, 10.69496913,  9.84330428,\n",
       "       10.01152504,  9.04754634, 10.0595896 , 10.05140582, 11.81086791,\n",
       "       10.63300243, 10.67176959, 10.93851956,  9.4111639 ,  9.61910173,\n",
       "        9.8887859 , 10.49006209, 11.82828764,  7.16592579, 10.81662451,\n",
       "        8.76640608,  9.08081072, 11.5332687 ,  8.56089956, 10.1867285 ,\n",
       "       11.40538321, 10.13521004,  9.25300192,  8.94111827,  9.93960993,\n",
       "        9.11186081,  8.24380598,  7.68079419,  9.78844745,  9.55498718,\n",
       "       10.81666849, 10.17012163,  8.41585952, 10.81735373, 11.40671009,\n",
       "       11.52557365,  8.91815437,  9.63030396,  9.3010698 , 10.73774238,\n",
       "       10.76529372, 11.14799328, 10.1259489 , 10.44807074,  8.84026806,\n",
       "       11.07582789,  8.64002379, 10.50468745,  9.34246897,  9.11430157,\n",
       "       12.5085216 ,  9.31503229,  8.33490196, 10.9432385 , 11.0208726 ,\n",
       "        9.05522254, 10.99620853,  9.26411077, 11.5695622 ,  9.47137919,\n",
       "       10.94596281, 10.74254168,  9.44804268, 10.2282476 ,  9.75124792,\n",
       "       10.49216251,  8.33075848, 10.04324381,  8.375506  , 10.1414221 ,\n",
       "       10.40065273, 10.85077667,  9.75588045,  6.90899316,  9.87666452,\n",
       "        9.39258601,  8.92279873, 10.67991798, 10.86066678, 10.1442167 ,\n",
       "       12.55862142,  8.09484994, 11.01093994,  9.74662396,  8.64228712,\n",
       "       10.53450598,  8.57226969, 10.66842523, 10.87385654,  9.17391967,\n",
       "        9.69438158, 11.94117666,  9.99400324, 10.49012699, 11.63744561,\n",
       "        8.75453941,  7.74650755, 10.48284992,  9.47516946,  8.1053501 ,\n",
       "       10.01451944, 10.98467862, 10.15467219,  9.92921169,  9.78303067,\n",
       "        9.74598692, 10.66510829, 10.02595364, 11.39901852,  9.9097792 ,\n",
       "        9.22333357, 12.44542027, 10.48028149,  9.84621247, 10.44513807,\n",
       "       10.46848103, 10.00634681,  9.9363661 , 11.19726305,  8.83965802,\n",
       "        9.58694162, 10.06632281,  8.74196339,  9.24613283,  9.2451293 ,\n",
       "        9.61052233,  9.88727601, 11.20472934,  9.87211945,  9.41911526,\n",
       "        9.92589433,  9.66640047, 10.83836898, 10.93949026,  9.34976478,\n",
       "        9.64739859, 11.76423012,  9.43248935,  9.44805836, 10.03762934,\n",
       "        9.59242721,  9.13918792,  9.05705767, 11.16348849, 10.72869349,\n",
       "        9.03505685,  9.64226318,  8.703932  , 10.64273989,  9.41563731,\n",
       "        9.15363343, 11.09990213, 10.7983843 , 10.59128002,  9.87214296,\n",
       "       10.48608269, 10.78468969, 10.26918642,  9.54645675,  9.42168499,\n",
       "       11.583701  ,  8.72204935, 10.07153494, 11.71018833, 11.20298416,\n",
       "        9.78248498, 10.85101475,  9.22787689,  9.42356511,  7.82786788,\n",
       "        8.681692  , 10.14742944,  8.77284029,  9.37746569,  8.20648043,\n",
       "       10.41303519,  8.48316655,  9.88332451, 10.12228787,  9.20182072,\n",
       "       11.94680895, 10.00706261,  8.6400567 ,  9.40367205,  8.87820312,\n",
       "        9.82258518, 10.57104988,  7.98722433, 10.98466467,  9.04340538,\n",
       "       11.13971729, 10.88315745, 11.5784878 ,  9.6371469 ,  9.39650165,\n",
       "        8.39372382, 10.62595293,  9.5603661 , 11.66873161,  8.95165012,\n",
       "       10.58006401, 10.10617355,  9.72331772, 10.62868749,  8.55431385,\n",
       "        8.98459197,  7.89157948,  9.80971103, 10.61137622,  8.89884354,\n",
       "       11.69890679, 10.41901735, 10.77991892, 10.25995296,  9.2975925 ,\n",
       "        9.65271413,  9.61514701,  9.66724322,  7.99669022, 11.06932166,\n",
       "        9.4641056 ,  7.95591757,  9.41867651, 10.64935714, 10.11356587,\n",
       "       11.5973726 ,  9.11182051, 10.19995155,  8.46902287, 10.61341926,\n",
       "        9.35310042,  8.69400417, 11.33606319,  9.85695568, 10.07441714,\n",
       "        8.46520213, 10.66720549,  9.61489837, 10.27441132,  9.19431849,\n",
       "       10.55073178,  9.71108976, 10.31730988, 10.82535143,  8.62254424,\n",
       "        9.32764953, 11.21188799,  9.87628843, 10.95629058,  7.99951291,\n",
       "       11.23143146, 10.56618905,  9.52680775, 12.50967637, 10.70884828,\n",
       "        8.94312261,  8.88645211, 10.76929152,  9.01973193,  9.61765331,\n",
       "       11.33425923, 10.04899459,  8.58504703,  8.91008183,  9.79001977,\n",
       "       10.11186473, 11.05163051, 11.60850419, 10.35653777,  8.88522818,\n",
       "       12.31060047, 10.44254222, 10.17680789,  9.63845238, 10.42738166,\n",
       "       11.53653768, 10.58530072, 10.24891885, 11.21647411,  9.4568091 ,\n",
       "        8.30057963, 10.06685582,  9.20964834, 10.54892968, 11.02776806,\n",
       "       10.5814099 ,  9.99657684,  9.98128155, 10.89955903,  8.92192611,\n",
       "       10.70114928, 10.49432018,  9.82480857, 10.06603401,  9.69459233,\n",
       "        8.99144682,  9.75490985,  8.72143377, 11.24684092,  8.99276174,\n",
       "        8.77016179, 10.00155252,  9.88421292, 10.16009986, 11.10225602,\n",
       "       10.06532168, 10.63597756,  9.33486969,  8.94788599,  9.24020538,\n",
       "        9.2196838 , 11.26417404,  9.77566339,  8.06481969, 10.8362682 ,\n",
       "       10.69902557, 10.06387917,  9.26539132, 10.22426902, 10.22854379,\n",
       "        8.26203803, 10.35797126, 11.70002817, 10.88775838, 11.03533375,\n",
       "       10.59983046,  9.1130189 , 12.21805867, 10.88654191, 11.14799372,\n",
       "        9.43166281, 10.06991492,  8.43840553,  9.18600165,  8.15857137,\n",
       "       10.59326178, 10.76674623,  9.56290206,  9.48986399, 10.19853173,\n",
       "       10.81105141,  8.48490573, 10.82556364,  9.83000204, 11.80290022,\n",
       "        9.22875655, 10.62587053,  9.30957699,  8.72994199, 11.46699142,\n",
       "       10.11803085,  9.3603599 ,  8.87761325,  8.91573917, 10.19227872,\n",
       "       11.10726191, 10.4222936 , 10.17909122, 10.52417867,  9.11392395,\n",
       "        9.9832493 , 10.71876341,  9.27183526,  8.31054329,  9.60173968,\n",
       "        9.4192297 , 10.23429867, 10.17832416, 10.66740487, 11.34207917,\n",
       "        9.40176525,  9.91997854,  9.74875564, 12.10251509,  8.56528776,\n",
       "       11.26645592, 10.02743305, 11.19030707, 11.16830766, 11.05235786,\n",
       "       10.33848731, 10.27027746,  8.08464201,  9.42329995, 11.41047337,\n",
       "        8.92242098, 10.75684666, 10.7552814 , 10.52302643, 10.49837492,\n",
       "        7.50169554, 11.49770518,  8.5377631 , 10.12862421, 10.3280724 ,\n",
       "        9.93796201,  9.89125283, 10.72832553, 10.93165366,  8.76770935,\n",
       "        9.65182606, 10.73374205, 10.72371434, 11.17767868, 10.05821733,\n",
       "       10.49920033, 11.99662369,  9.78798002, 10.18587159, 11.11552279,\n",
       "       10.12029484, 10.59046358, 10.19238546, 11.04292787, 10.00012445,\n",
       "       10.13995796, 10.77858072, 11.02364057, 10.60064385,  9.54058418,\n",
       "       12.13938091,  9.67835101,  9.5057027 ,  9.49725833,  9.83883429,\n",
       "        9.30241812,  9.99720854,  9.12580697, 10.78790556, 12.04003981,\n",
       "       10.41548052,  9.10569016, 10.77184818, 10.40531433,  9.89882657,\n",
       "        7.10880097, 11.15555433, 10.74111004,  7.2671463 , 10.08961669,\n",
       "       10.457369  ,  7.7916987 ,  8.32700364,  7.33565027, 10.15302913,\n",
       "       11.36126464,  9.56086591, 10.65349108, 11.06686043,  8.06139596,\n",
       "       11.57040914,  9.66613156,  9.7430272 ,  8.55889568,  9.40974353,\n",
       "        9.65023912, 10.40563159, 10.06538491,  9.73080728, 11.77626936,\n",
       "       10.06340246,  9.94845947, 11.57522355,  9.038312  , 10.57014677,\n",
       "       11.640026  , 10.49116259,  8.45386861,  7.529794  ,  8.7403435 ,\n",
       "       11.4659892 , 10.59647463,  9.59199753,  8.70715477,  9.84122382,\n",
       "        8.59296222,  8.56217209, 10.67849636,  7.73098891, 11.27344837,\n",
       "        9.88657518,  8.20444752,  8.61367701, 11.27265273, 10.7115088 ,\n",
       "       10.44063984, 10.4551785 , 10.95342773, 10.04269058,  9.97059001,\n",
       "       10.59900936,  8.82199138, 10.49485924, 10.13900536, 11.68396387,\n",
       "        9.37815729, 10.11990183, 10.72276537,  8.07591522, 10.19831824,\n",
       "       10.18298316, 11.86560871, 10.52844031, 10.36372811, 12.12793456,\n",
       "        9.68560368, 11.01027853,  9.83454612, 12.26839739, 11.00440782,\n",
       "       10.53744699, 11.20666603,  9.81174362, 12.08028655,  7.01874702,\n",
       "        9.51359407, 11.65296476,  7.88127968, 11.80069484, 10.85174264,\n",
       "       10.1757619 , 10.87471894,  9.36679262, 10.00238449, 11.24961726,\n",
       "        9.26376549, 10.2298642 ,  8.40101016,  8.50869672,  9.95199462,\n",
       "       10.08942392,  9.58065994, 10.5082205 ,  9.6402221 ,  9.51692325,\n",
       "       11.68820382, 11.95561444, 10.46579102,  9.62372066, 10.71238604,\n",
       "        9.14948719,  9.41101323, 10.27649693, 10.60228701,  9.49270194,\n",
       "       10.77156788,  9.56593818, 12.10122982, 11.06877886,  9.5888828 ,\n",
       "        9.78278319,  9.53628293,  8.90657532,  9.78800576, 11.42453371,\n",
       "        9.52135031, 10.27765224, 10.77358749,  9.61031321, 10.86536306,\n",
       "       10.46115385,  9.98540328, 10.35080455,  9.59717824, 10.74751117,\n",
       "        9.17153812, 11.82784508,  9.2357249 ,  9.85911277,  9.58786685,\n",
       "       11.01280354, 12.35321258,  8.89113326,  8.62397145,  9.43068609,\n",
       "       10.0643263 , 10.12551091,  9.5732224 ,  9.92650582,  8.64056367,\n",
       "        9.16189973,  9.23483115,  9.58677353,  9.58208639,  9.55136783,\n",
       "       10.27737051, 10.99774888,  8.66793437,  9.76884547, 11.44451538,\n",
       "       10.86205517, 10.32431098,  9.66951719, 10.25039775, 11.23888251,\n",
       "        9.54117073,  9.60426633,  9.99731775,  8.75199624, 10.89661269,\n",
       "       11.7130321 ,  8.92288056,  9.73737624, 10.75856334,  9.4939498 ,\n",
       "       11.01359963, 10.51508227,  9.2662118 ,  9.35177109, 10.28894114,\n",
       "       11.84037491,  9.39985458,  8.32181855, 10.53355294,  8.87586887,\n",
       "       10.44179206,  7.7972323 , 10.86321208,  9.80524425, 10.03669936,\n",
       "       10.19538714,  9.6691148 ,  9.65148244, 10.48469638,  8.58416243,\n",
       "       12.04151609,  9.98489336, 11.05386741, 10.89791098,  9.26048125,\n",
       "        8.23103674, 10.32786949, 10.76343148, 10.08059577,  8.37551542,\n",
       "        9.58710989, 10.73979567,  9.26032429, 10.51700017,  8.64231163,\n",
       "       12.20043166,  9.89068822,  9.68782239, 10.17218424, 11.6976542 ,\n",
       "       11.01891525, 12.22707861, 10.07901037, 10.35014971,  7.51602084,\n",
       "        9.37544741, 10.71552893,  9.62335872,  9.80618248, 10.33237217,\n",
       "        9.46493887,  8.91393405,  8.51551526, 10.38708772, 10.29677831])"
      ]
     },
     "execution_count": 5,
     "metadata": {},
     "output_type": "execute_result"
    }
   ],
   "source": [
    "# your code here\n",
    "from scipy.stats import norm\n",
    "normal=norm(loc=10, scale=1)\n",
    "i=normal.rvs(size=1000)\n",
    "i"
   ]
  },
  {
   "cell_type": "code",
   "execution_count": 6,
   "metadata": {},
   "outputs": [
    {
     "data": {
      "text/plain": [
       "array([-7.70039513e+01,  1.14798428e+02,  1.44536168e+01,  7.05018970e+01,\n",
       "       -7.10862422e+01, -6.30148059e+00, -1.57242044e+00, -7.97973322e+00,\n",
       "        7.22593914e+01, -7.61904749e+00,  3.57306627e+01, -6.90349072e+00,\n",
       "        9.22754373e+01,  6.86410661e+00, -1.21776967e+01, -6.46449064e+00,\n",
       "        3.52740504e+01,  3.73429108e+01, -4.81299707e+00,  3.56069874e+01,\n",
       "        5.39889201e+01, -1.96144650e+01,  3.63813962e+01,  3.97586694e+01,\n",
       "        1.85033859e+01,  7.14502861e+01,  3.31390946e+01,  1.30195020e+01,\n",
       "        1.64835606e+01,  9.12390494e+01, -1.05604084e+02,  3.22521407e+01,\n",
       "       -2.94233400e+01,  1.38412781e+01,  3.11094972e+01,  3.16269256e+00,\n",
       "        2.93812875e+01,  3.18575600e+01, -7.07267355e+01, -9.16278334e+01,\n",
       "       -5.87460017e+01,  5.96213005e+01,  2.80687310e+01, -2.74284398e+01,\n",
       "        7.32849907e+01,  5.41117892e+01,  2.34907797e+01,  2.12517534e+01,\n",
       "        8.88192846e+01, -1.98505475e+00,  3.67610781e+01,  1.68027006e+01,\n",
       "       -6.04359550e+01,  3.40497737e+01,  4.08546582e+01, -3.89725530e+01,\n",
       "       -4.59161937e+01, -6.85912432e+01, -7.17927683e+00, -4.16388651e+01,\n",
       "        3.09084761e+01, -6.42853359e+01,  9.21989027e+01,  8.76071070e+01,\n",
       "        4.46535475e+00, -3.38002503e+01,  5.32459969e+01,  4.82356584e+01,\n",
       "        6.18225090e+01, -6.32367833e+01, -1.35680954e+01, -1.73922389e+01,\n",
       "        1.98680705e+01, -2.58979273e+01, -3.83468230e-01,  1.21435727e+01,\n",
       "        1.15479668e+01,  3.56459136e+01,  2.48578121e+01, -2.51172907e+01,\n",
       "       -6.68922137e+01,  8.13077292e+01, -2.18379093e+01, -4.30069504e+01,\n",
       "        5.43514343e+01,  5.70169498e+01,  5.54606106e+01, -6.86163805e+01,\n",
       "        2.29891178e+01,  7.16449484e+01, -4.21903778e+01,  4.46158275e+00,\n",
       "        5.59337273e+01, -1.00846718e+01, -4.08101891e+01,  7.15215897e+01,\n",
       "       -6.37412544e+01, -8.35703727e+01, -2.01700455e+01,  6.15240839e+01,\n",
       "        7.11253356e+00,  9.22405553e+01,  5.45613002e+01, -7.91473786e+00,\n",
       "       -1.44958493e+02,  8.46011420e+00,  4.77820862e+00, -6.41299814e+01,\n",
       "       -1.08716413e+01,  6.40401948e+01, -8.53613229e+01,  4.46701440e+01,\n",
       "        2.40774937e+01,  4.17502995e+01, -4.46047166e+00,  1.10553476e+01,\n",
       "       -3.96121808e+00,  2.17054334e+01, -5.09807420e+00, -2.90126148e+01,\n",
       "        3.09689230e+01,  6.22642735e+00,  7.41270739e+01,  2.40764307e+01,\n",
       "       -5.02294920e+01,  6.35089096e+01, -3.51939902e+01,  7.49278161e+01,\n",
       "        6.84754294e+01,  1.92733677e+01, -3.15196775e+00,  9.59085855e+01,\n",
       "        1.18202488e+01,  1.45040478e+01,  2.17825827e+01,  1.94836732e+01,\n",
       "        6.91053476e+01,  1.80682636e+01,  6.40650982e+00, -6.11052955e+00,\n",
       "       -6.44221374e+01,  3.29752898e+01,  9.06168514e+01,  3.86038179e+00,\n",
       "        3.21844065e+01,  5.33455082e+01,  7.00349831e+01,  6.16191405e+01,\n",
       "       -4.26162466e+00,  2.30635491e+01, -6.41178881e+01, -7.90994066e+01,\n",
       "       -8.16037313e+01, -4.19298239e+01,  2.20976349e+01,  3.48651155e+01,\n",
       "       -8.07331544e+01, -4.13070700e+01, -6.45252120e+01,  3.43270173e+01,\n",
       "       -5.38462546e+01,  1.67148260e+01,  6.61738809e+01,  9.63821251e+01,\n",
       "       -3.38197980e+01,  5.59166155e+01, -2.67189632e+01,  6.25208036e+01,\n",
       "        4.89374566e+01,  2.97201002e+01, -1.01796710e+02, -6.22059626e+01,\n",
       "       -7.76520092e+00,  1.12833916e+02,  4.13990939e+01, -1.30080432e+01,\n",
       "        6.48372605e+01, -2.12910771e+01, -2.84881207e+01,  4.98683235e+01,\n",
       "       -5.24853664e+01, -2.36528500e+01, -2.30541870e+01,  3.90426869e+01,\n",
       "        8.23496626e+01,  1.35195319e+01,  7.25075268e-01, -4.49659602e+01,\n",
       "        5.67999919e+01,  8.32834788e+01,  7.68857771e+01, -5.71668987e+00,\n",
       "        1.18374549e+02,  1.52549508e+01, -1.32477825e+01,  8.52826815e+00,\n",
       "       -8.25387273e+01, -2.03737314e+01, -5.64459671e+01,  9.13816996e+01,\n",
       "       -3.82392505e+01,  1.20858509e+02, -1.63848098e+01,  1.77590089e+01,\n",
       "       -7.90801065e+01, -7.69231077e+01,  4.41906002e+01, -4.06506123e+01,\n",
       "        1.85470826e+00,  1.09221720e+02, -6.46790888e+01,  3.77459023e+01,\n",
       "        3.23836440e+01, -4.78640624e+00,  3.76532587e+01,  3.47309964e+01,\n",
       "        2.21835299e+01,  4.38072075e+01,  9.48638887e+01, -2.44495992e+00,\n",
       "        1.15633690e+01,  1.22056795e+02,  4.15291436e+01,  2.69929355e+01,\n",
       "       -1.55521006e+01, -7.11924968e+01, -4.47400761e+01,  2.38923108e+01,\n",
       "       -2.02277547e+01, -3.97696791e+01,  1.52273675e+01,  2.24043294e+01,\n",
       "        3.83327076e+01, -3.65591631e+00,  6.21956820e+01,  1.48047999e+00,\n",
       "       -7.56311201e+01,  3.45775822e+01, -3.30320701e+01,  5.74688451e+01,\n",
       "       -9.40651966e+01,  7.44407772e+00, -2.92735368e+01,  6.98507417e+00,\n",
       "       -3.11983028e+01,  9.88410696e+00, -4.73085357e+00, -7.97920236e+00,\n",
       "        5.09823981e+00,  5.77629586e+01,  5.27133947e+01, -1.91949366e+01,\n",
       "       -5.94095250e+00,  8.84158608e+01, -4.19383020e+01,  6.92039866e+00,\n",
       "       -5.63441069e+00, -1.48020017e+01,  6.09746470e+01,  3.17286281e+01,\n",
       "        4.79401844e+01,  6.05335696e+00, -8.30144244e+01,  1.77971355e+01,\n",
       "        3.67862125e+01,  1.43158432e+01,  6.91899475e+01, -1.57124560e+01,\n",
       "       -9.43927118e+00, -2.94329514e+01,  5.01052556e+01, -3.65206667e+00,\n",
       "        2.74157363e+01,  5.61879585e+01,  7.80658530e+01,  5.35690010e+01,\n",
       "       -6.41890692e+01, -3.67489366e+01,  1.68568787e+01, -3.91521399e+01,\n",
       "       -8.83408902e+00,  3.36083434e+01, -8.03242816e+00,  4.94174644e+01,\n",
       "       -7.67006406e+00,  1.15529505e+02, -5.82687600e+01,  9.00956528e+01,\n",
       "       -4.01148198e+01,  4.55718226e+01,  7.40685076e+01,  2.29920013e+01,\n",
       "       -7.89779324e+01, -5.32418425e+01,  3.86014846e+01, -1.07709594e+01,\n",
       "       -4.90495578e+01,  7.91297766e+01,  4.02852070e+01, -6.36389454e+01,\n",
       "        5.13361662e+01, -1.59718187e+01,  6.80315398e+00,  2.51332281e+01,\n",
       "       -7.93609746e+01,  4.33611363e+01, -1.48826734e+01, -9.29946225e+01,\n",
       "        3.38973706e+00,  1.00378643e+02, -1.50320994e+00,  4.89729257e+01,\n",
       "        9.94639062e+00, -4.25652218e+01, -4.02229295e+00,  3.29586558e+01,\n",
       "       -9.29939042e+00,  7.30807305e+01,  5.78249994e+01,  5.62167658e+01,\n",
       "       -1.29463427e+01,  6.86542493e+00,  1.55800765e+02,  5.98895935e+01,\n",
       "       -3.84906705e+01, -3.14484586e+01,  8.21624688e+01,  1.58284362e+01,\n",
       "        6.11154082e+01, -2.43979544e+01, -7.42841899e+01, -6.35947414e+01,\n",
       "       -2.64190207e+01,  1.32504879e+01,  6.67390209e+01,  7.93410090e+00,\n",
       "       -7.25391175e+01,  6.81823404e+00,  4.42253532e+00, -1.16012974e+02,\n",
       "        3.50487814e+01,  3.27203405e+01, -5.77485382e+01, -3.99084552e+01,\n",
       "        2.63013094e+01,  7.39474474e+01, -3.36093216e+01,  4.62017611e+01,\n",
       "       -2.74593865e+01, -3.14496218e+01,  4.18024908e+00,  1.14354790e+02,\n",
       "        2.24083068e+01,  6.57050780e+01,  4.74241271e+01, -7.65307364e+00,\n",
       "        5.76059188e+00, -1.09866524e+01, -5.02425890e+01, -9.07376759e+01,\n",
       "        7.20436695e+01, -3.54774555e+01,  3.98692762e+01,  4.85329658e+01,\n",
       "       -1.19611892e+01, -1.09433420e+01, -3.72833761e+01, -2.17322754e+01,\n",
       "        1.24968520e-02,  3.52854566e+01,  3.05740090e+01, -9.63075139e-01,\n",
       "       -8.64877758e+01, -2.85197039e+01, -5.88487875e+01,  1.17613051e+02,\n",
       "        4.60408952e+01, -5.05141941e+01,  3.31193770e+01, -6.97347337e+00,\n",
       "        9.11193706e+00,  8.16882676e+01,  5.58854590e+01, -5.77114364e-01,\n",
       "        7.24399487e+00,  1.46619467e+01,  4.98464187e+00,  2.71011292e+01,\n",
       "       -1.16917083e+01,  1.45950284e+01, -3.61881296e+01,  4.92624504e+01,\n",
       "       -3.83459533e+01, -3.85078322e+01, -3.82951704e+01, -1.62641729e+01,\n",
       "       -1.74739998e+01, -2.29583536e+01,  5.90937635e+01,  3.03437509e+01,\n",
       "        8.52482371e+01,  7.99858243e+01,  5.09804557e+01, -2.68953723e+01,\n",
       "        6.96730093e+01,  3.57997964e+01, -2.47210655e+01, -4.21052933e+01,\n",
       "       -2.80133771e+01, -5.31155471e+00, -2.84834988e+01,  4.19119127e+01,\n",
       "        4.15024171e+01, -8.12521586e-01,  7.71753733e+01, -8.51334674e+01,\n",
       "        7.84536224e+01, -8.02221236e+01,  4.75836541e+00,  1.32410864e+00,\n",
       "        2.25463775e+00,  2.50917185e+01,  6.69808872e+01,  5.09161478e+01,\n",
       "       -5.45562330e+01,  6.97134631e+00, -2.60140331e+01, -6.53962695e+01,\n",
       "       -6.54209395e+01,  1.21496365e+00,  2.67570602e+00, -2.39520641e+00,\n",
       "       -1.07438669e+01, -7.17268106e+01,  5.33018935e+00,  8.85284186e+01,\n",
       "        9.04261518e+01, -5.29262795e+01, -1.59184650e+01, -4.75047340e+00,\n",
       "        2.67309012e+01,  5.29619622e+00, -2.54233970e+01,  5.35831607e+01,\n",
       "       -7.88918075e+01,  6.73473848e+01, -6.17277188e+00,  3.29950200e+01,\n",
       "       -7.76845185e+01,  1.81218131e+01,  1.26394358e+00, -4.54714100e+01,\n",
       "        4.32985409e+01, -6.25199690e+00,  9.66488943e+01, -3.22821204e+01,\n",
       "        8.03894181e+01, -1.78279213e+01,  1.99067375e+01,  3.67938958e+01,\n",
       "       -3.93651775e+01, -4.33659948e+01,  9.88218598e+01,  8.01136791e-01,\n",
       "       -4.01359776e+01, -9.76535563e+01, -1.86106290e+01, -4.50434543e+01,\n",
       "       -1.28031321e+02, -1.26217530e+00,  9.91921411e+01, -6.60537942e+00,\n",
       "       -3.80860053e+01, -7.94826214e+01,  7.68713871e+01, -4.44271516e+01,\n",
       "        9.69882366e+01,  1.14619938e+02, -3.18653613e+01, -3.56915574e+01,\n",
       "        5.87498021e+01,  5.23279847e+01,  1.19093871e+01, -9.45265752e+00,\n",
       "       -3.08124995e+01,  6.89484048e+01,  1.05839724e+02, -1.02366082e+01,\n",
       "        5.36516380e+01, -2.98552743e+01,  5.84164373e+00, -5.38342884e+01,\n",
       "       -6.31708726e+01,  3.89790246e+01,  1.91504955e+00, -3.35426174e+00,\n",
       "        3.77771207e+00, -3.26707442e+01, -3.38934206e+01, -7.03782881e+01,\n",
       "        4.12715100e+01, -4.31634100e+01,  6.92124911e+01,  4.71291135e+01,\n",
       "       -9.84869100e+01, -2.68144230e+01, -1.02513113e+01,  5.79583871e+00,\n",
       "        1.15084924e+02, -2.22529533e-02,  3.57020020e+01, -3.12939349e+01,\n",
       "       -4.82183887e+00, -3.64710779e+01,  4.39912831e+01, -5.00941958e+01,\n",
       "        2.24248799e+00,  1.03730156e+02,  2.85900548e+01,  5.51889564e+01,\n",
       "        3.06177925e+01,  2.20233534e+01,  5.48958912e+01,  2.87740891e+01,\n",
       "       -2.42844751e+01,  1.26054354e+02, -6.28615695e+00,  1.78018166e+00,\n",
       "        4.09301924e+01,  7.46702197e+01,  6.87496972e+01,  2.44172729e+01,\n",
       "       -2.63408926e+01, -1.43129933e+01,  1.59439593e+01, -2.01313782e+01,\n",
       "       -3.78895408e+01, -3.08187545e+01,  3.95802946e+01, -9.63495618e+00,\n",
       "       -8.09890897e+01, -3.14927564e+01, -1.44856544e+01, -8.61828299e+01,\n",
       "        2.82178360e+00,  2.01720736e+01,  5.14672975e+01,  1.26578038e+01,\n",
       "        3.49286584e+01, -5.12876953e+00,  4.77834400e+01,  4.08266307e+01,\n",
       "       -9.19972940e+01, -7.98533710e+00,  3.52675284e+01,  8.13864499e+01,\n",
       "        7.60422231e+01,  1.13627700e+02, -7.66767215e-01,  1.91748625e+01,\n",
       "        7.27109974e+01, -3.08163299e+01, -3.14065249e+01,  8.84552191e+01,\n",
       "        5.73230452e+01,  7.46618564e+01, -3.17858189e+01,  5.34464778e+01,\n",
       "        2.56467346e+01, -3.72708106e+01,  1.59155782e+01,  1.62431189e+01,\n",
       "       -2.17468081e+01,  1.07749076e+01, -9.37783327e+00,  5.17968547e+01,\n",
       "        6.69958252e+01,  3.28817401e+01, -3.73638181e+01,  8.35543846e+01,\n",
       "        2.67985055e+01,  5.37587479e+01, -1.10062379e+01, -6.13651648e+00,\n",
       "       -4.55807824e+01, -3.05339230e+00,  4.67343461e+01, -3.29626389e+01,\n",
       "        6.36786471e+00,  3.00640236e+01,  3.58889165e+00, -4.64914478e+01,\n",
       "        3.31775250e+01, -4.93308865e+01,  7.29838997e+01,  9.64987970e+01,\n",
       "        5.09483188e-01, -3.98300234e+00, -6.96941442e+01,  6.87775584e+01,\n",
       "        3.92905791e+01, -8.07257994e+01, -4.68819139e+01,  7.42305038e+01,\n",
       "       -3.68920686e+01,  3.35603185e+01,  1.86365369e+01, -8.59003452e-01,\n",
       "       -4.69135449e+01, -2.99726960e+01, -1.01455154e+02,  3.73693515e+01,\n",
       "        3.29865912e+01,  7.70861073e+01,  2.56861827e+01,  4.33322507e+01,\n",
       "        7.87485853e+00, -8.47915997e+01,  1.19144315e+01,  1.05644742e+01,\n",
       "        2.07802087e+01, -2.35340643e+01, -2.29429725e+01,  6.72133893e+01,\n",
       "        1.54201541e+02,  1.72486131e+01, -2.04308255e+01, -2.09434849e+01,\n",
       "       -7.89360045e+00,  3.35798400e+01,  3.41627164e+01,  1.21889686e+01,\n",
       "        2.95724637e+01, -8.11023893e+01,  1.28058637e+02, -2.69991045e+01,\n",
       "        1.26375558e+02,  3.67174623e+01,  5.65259488e+01, -5.60990256e+01,\n",
       "       -1.88601008e+01, -4.57588945e+01, -3.53191601e+01,  2.55493028e+01,\n",
       "        2.68526843e+01,  5.53306872e+01,  1.28312040e+01, -5.31676301e+01,\n",
       "       -7.17148494e+01, -3.36005641e+01, -5.88999576e+00,  1.24577645e+01,\n",
       "       -9.45121560e+01, -1.69288924e+01,  9.63063386e+01, -2.17177713e+01,\n",
       "       -5.14650427e+01, -7.28091762e+01,  1.46519047e+02,  6.37346886e+01,\n",
       "        2.58695380e+01,  1.60677813e+01, -7.62949506e+01,  7.22514944e+01,\n",
       "       -7.42280151e+00,  1.73178948e+01,  4.06580066e+01,  1.23632779e+02,\n",
       "        7.55473486e+01,  3.03209360e+00,  2.54107260e+01,  1.96871482e+01,\n",
       "        8.37570537e+01, -2.64062486e+01, -5.23847961e+01, -1.89838851e+01,\n",
       "        1.19211510e+01,  1.36530823e+01,  2.98641243e+01,  2.38227575e+01,\n",
       "        3.93623392e+01, -1.13815165e+02,  8.00071908e+00, -1.43996000e+01,\n",
       "       -3.77384804e+01, -3.07630114e+01,  3.09761966e+01, -2.48669758e+00,\n",
       "        1.45038043e+01, -1.62545123e+00,  1.56957757e+01,  8.89523080e+01,\n",
       "        8.66864176e+01, -7.30568264e+00,  2.45521970e+01, -5.31017995e+00,\n",
       "       -5.13156655e+01, -1.82733526e+01,  8.85253336e+00,  3.52573788e+01,\n",
       "        6.00966605e+01,  7.78909865e+01, -3.35642286e+01,  6.64972185e+00,\n",
       "        2.28504324e+01,  6.36720727e+00,  8.02201150e+01,  1.16386165e+02,\n",
       "       -2.01141855e+01,  1.91558218e+01,  3.22041467e+01,  1.02129466e+02,\n",
       "       -5.22780773e+01, -3.53952033e+01,  1.70647179e+01, -7.15402039e+01,\n",
       "        5.22433750e+01, -4.60135937e+01,  1.50794285e+01,  6.11407203e+01,\n",
       "        9.44305134e+01,  6.20178118e+01,  8.37177405e+01,  2.65200755e+01,\n",
       "       -5.06194913e+01, -5.00058268e+01, -1.78536442e+01, -1.17413748e+02,\n",
       "        5.56333036e+01,  6.78109268e+01, -3.38903415e+00, -5.65502099e+01,\n",
       "        5.43446844e+01, -6.31756162e+01,  4.01744856e+01,  1.88751819e+01,\n",
       "       -6.70847109e+00, -4.67900459e+00,  5.70606187e+01,  1.60698564e+01,\n",
       "        1.66507506e+01,  2.23693759e+01,  4.29416670e+00,  4.27718661e+01,\n",
       "       -2.50577192e+00,  1.34264718e+01, -1.55871213e+01,  1.13386558e+01,\n",
       "       -4.91547414e+00, -6.04273487e+01, -6.03690174e+01,  1.35827694e+02,\n",
       "       -8.55844863e+01, -2.28196601e+01,  9.70716185e+01,  1.14738328e+01,\n",
       "       -8.09550083e+01,  1.22997727e+02, -3.47810891e+01,  4.32750103e+01,\n",
       "        2.74236227e+01,  6.97067829e+01, -1.27404120e+01,  6.61173110e+01,\n",
       "        6.87204753e+01, -4.41166525e+01, -3.26692506e+01,  1.07532050e+02,\n",
       "        1.37723639e+02,  3.28768538e+01,  5.60630453e+00,  5.54054592e+01,\n",
       "        1.97070579e+01,  9.31987308e+01,  4.17550020e+01, -3.06777671e+01,\n",
       "       -2.82095561e+01, -1.98626585e+01,  2.50302778e+01,  3.31143066e+00,\n",
       "       -5.53450163e+01, -2.45615233e+01,  3.71085555e+01,  8.60911196e+01,\n",
       "        9.60381262e+01,  8.33797277e+01,  1.01992953e+02,  2.02073178e+01,\n",
       "       -3.12733039e+01,  3.90003715e+01,  5.84147911e+01,  1.17199109e+01,\n",
       "        6.02186098e+00, -1.12492405e+01,  4.29506946e+01, -6.17783824e+01,\n",
       "       -2.79882535e+01, -4.62957023e+01,  5.27375232e+01,  3.66141403e+01,\n",
       "        5.67905674e+01,  1.65994662e+01, -4.37928856e+01, -1.34019314e+01,\n",
       "        3.95163945e+01, -3.49615927e+01, -1.55206055e+01, -3.50993587e+01,\n",
       "        4.84575226e+01,  2.97715885e+01,  1.93388121e+01, -1.83452439e+01,\n",
       "       -2.75561102e+01, -1.72410382e+01,  1.04160516e+02, -1.00825759e+02,\n",
       "        6.13266861e+01, -9.07344629e+01, -1.28968734e+00,  4.53127474e+01,\n",
       "       -7.92662871e+01,  1.27048487e+01,  3.54435482e+01,  2.71134288e+01,\n",
       "       -9.72277250e+01, -5.84273780e+00, -1.76915495e+00,  1.62990542e+01,\n",
       "       -7.30471390e+00,  3.19713842e+00, -5.42898897e+01,  1.39648308e+01,\n",
       "       -3.39663467e+01, -2.96592618e+00, -2.54294872e+01,  7.00515556e+01,\n",
       "       -5.51452677e+01, -2.65070850e+01,  9.47601512e+01, -5.34403946e+01,\n",
       "        3.18991013e+01,  9.55908034e+01,  6.28240145e+01, -1.48134071e+00,\n",
       "        2.18169537e+01,  3.64081637e+01, -6.31546997e+01, -5.99561647e+01,\n",
       "        2.31318323e+01,  6.39138288e+01, -9.94163103e+00,  3.19837507e+01,\n",
       "        6.44742279e+00, -2.50822824e+01, -6.76736159e+00,  1.53343103e+01,\n",
       "        2.48712340e+01, -2.97378404e+01,  1.25072252e+02, -2.56614064e+01,\n",
       "       -1.99794059e+01,  2.18064053e+00,  1.18831850e+02,  8.32553696e+01,\n",
       "       -9.12000140e+00,  2.51927953e+00,  2.59905582e+01,  5.76820172e+01,\n",
       "        1.40728099e+01, -3.00319046e+01,  4.53246946e+01, -6.59966480e+00,\n",
       "        4.46785774e+01,  7.49134757e+01,  2.15481899e+01,  7.90605823e+00,\n",
       "        7.03657640e+00, -9.97057302e+01,  4.56683497e+01, -9.77560882e+00,\n",
       "       -6.96937874e+01, -7.45649238e+01,  2.77142197e+01,  7.84771904e+01,\n",
       "        9.60201887e+01,  1.77450994e+01, -6.99197618e+01,  2.46126774e+01,\n",
       "        3.95120377e+01,  4.27732265e+01,  3.07271257e+01, -1.33585444e+01,\n",
       "        5.00451177e+01, -6.16188628e+01,  4.82168163e+01,  4.11596376e+00,\n",
       "        1.07159524e+02, -9.72645326e+00,  2.85014845e+01,  4.19481309e+01,\n",
       "       -2.05662783e+01,  5.81322245e+01, -2.60461147e+01,  6.95608901e+01,\n",
       "       -1.91745135e+01,  2.03132958e+01,  3.03419304e+01,  1.59508396e+02,\n",
       "        4.77049008e+01,  1.66642685e+01,  1.01233653e+02, -7.31383435e+01,\n",
       "       -3.50680862e+01,  2.31046937e+01, -1.23036533e+01,  6.93602427e+01,\n",
       "        7.71614632e+01, -1.95824821e+00,  1.05242796e+02, -8.96461235e+00,\n",
       "        2.13837959e+00, -4.27069775e+01, -1.07099664e+01, -8.60981727e-01,\n",
       "        6.87851069e+01,  4.28152370e+01, -3.09603896e+01,  1.48663094e+01,\n",
       "        4.82180811e+01, -9.19808298e+01, -3.98170154e+00, -6.66152181e+01,\n",
       "        3.91883656e+00,  2.23034818e+01,  2.45687851e+01, -1.81661679e+01,\n",
       "       -3.58800361e+01,  5.14955157e+01, -1.44486024e+01,  1.26541356e+01,\n",
       "       -8.72332087e+00,  2.09699079e+00, -3.87507288e+01,  6.07222943e+00,\n",
       "       -1.28243903e+01, -5.83480692e+01,  5.87782977e+01,  4.23120638e+01,\n",
       "        1.08604160e+01,  7.07063390e+01,  1.13642055e+02, -2.01533733e+01,\n",
       "       -1.57315919e+01, -3.93566577e+01,  6.32555044e+01,  8.49069827e+01,\n",
       "       -1.35378600e+01,  3.44715898e+01, -1.27692962e+01,  9.17195980e+01,\n",
       "        6.97650329e+01, -9.12788965e+01, -1.11423619e+01, -1.74366178e+01,\n",
       "        2.15884061e+01,  6.32168983e+01, -9.48879037e+01,  1.08963352e+02,\n",
       "        4.14324308e+01, -3.29296099e+01,  4.96742498e+01,  6.92028149e+01,\n",
       "       -2.35365116e+00,  4.03770483e+01,  1.97858544e+01, -1.10662084e+01,\n",
       "       -3.94933990e+01,  1.70742185e+01,  1.27918337e+00,  9.71606457e+00,\n",
       "       -3.99662240e+01,  3.43854108e+01,  1.00686504e+02, -2.33352196e+01,\n",
       "       -3.45051928e+01,  8.09667458e+01,  2.76737088e+01,  6.51582601e+01,\n",
       "       -8.92381017e+00,  2.33442232e+01,  3.35414669e+01,  4.53109491e+01,\n",
       "       -1.46985730e+01,  3.03721964e+01,  4.91110112e+01,  7.65674512e+01,\n",
       "       -1.67230270e+01,  2.11984742e+00,  7.44080623e+01,  1.16001799e+01])"
      ]
     },
     "execution_count": 6,
     "metadata": {},
     "output_type": "execute_result"
    }
   ],
   "source": [
    "normal=norm(loc=10, scale=50)\n",
    "e=normal.rvs(size=1000)\n",
    "e"
   ]
  },
  {
   "cell_type": "markdown",
   "metadata": {},
   "source": [
    "How are the two distributions different?"
   ]
  },
  {
   "cell_type": "code",
   "execution_count": 7,
   "metadata": {},
   "outputs": [
    {
     "data": {
      "image/png": "[encoded data removed]",
      "text/plain": [
       "<Figure size 432x288 with 1 Axes>"
      ]
     },
     "metadata": {
      "needs_background": "light"
     },
     "output_type": "display_data"
    },
    {
     "data": {
      "image/png": "[encoded data removed]",
      "text/plain": [
       "<Figure size 432x288 with 1 Axes>"
      ]
     },
     "metadata": {
      "needs_background": "light"
     },
     "output_type": "display_data"
    }
   ],
   "source": [
    "# your answer below\n",
    "for x in [i,e]:\n",
    "    sns.histplot(x)\n",
    "    plt.ylim(0,140)\n",
    "    plt.show()"
   ]
  },
  {
   "cell_type": "markdown",
   "metadata": {},
   "source": [
    "## Normal Distribution of Real Data\n",
    "\n",
    "In this challenge we are going to take a look the real data. We will use vehicles.csv file for this exercise"
   ]
  },
  {
   "cell_type": "markdown",
   "metadata": {},
   "source": [
    "First import vehicles.csv.\n",
    "Then plot the histograms for the following variables:\n",
    "\n",
    "1. Fuel Barrels/Year"
   ]
  },
  {
   "cell_type": "code",
   "execution_count": 8,
   "metadata": {},
   "outputs": [],
   "source": [
    "# your code here\n",
    "import pandas as pd"
   ]
  },
  {
   "cell_type": "code",
   "execution_count": 9,
   "metadata": {},
   "outputs": [
    {
     "data": {
      "text/html": [
       "<div>\n",
       "<style scoped>\n",
       "    .dataframe tbody tr th:only-of-type {\n",
       "        vertical-align: middle;\n",
       "    }\n",
       "\n",
       "    .dataframe tbody tr th {\n",
       "        vertical-align: top;\n",
       "    }\n",
       "\n",
       "    .dataframe thead th {\n",
       "        text-align: right;\n",
       "    }\n",
       "</style>\n",
       "<table border=\"1\" class=\"dataframe\">\n",
       "  <thead>\n",
       "    <tr style=\"text-align: right;\">\n",
       "      <th></th>\n",
       "      <th>Make</th>\n",
       "      <th>Model</th>\n",
       "      <th>Year</th>\n",
       "      <th>Engine Displacement</th>\n",
       "      <th>Cylinders</th>\n",
       "      <th>Transmission</th>\n",
       "      <th>Drivetrain</th>\n",
       "      <th>Vehicle Class</th>\n",
       "      <th>Fuel Type</th>\n",
       "      <th>Fuel Barrels/Year</th>\n",
       "      <th>City MPG</th>\n",
       "      <th>Highway MPG</th>\n",
       "      <th>Combined MPG</th>\n",
       "      <th>CO2 Emission Grams/Mile</th>\n",
       "      <th>Fuel Cost/Year</th>\n",
       "    </tr>\n",
       "  </thead>\n",
       "  <tbody>\n",
       "    <tr>\n",
       "      <th>0</th>\n",
       "      <td>AM General</td>\n",
       "      <td>DJ Po Vehicle 2WD</td>\n",
       "      <td>1984</td>\n",
       "      <td>2.5</td>\n",
       "      <td>4.0</td>\n",
       "      <td>Automatic 3-spd</td>\n",
       "      <td>2-Wheel Drive</td>\n",
       "      <td>Special Purpose Vehicle 2WD</td>\n",
       "      <td>Regular</td>\n",
       "      <td>19.388824</td>\n",
       "      <td>18</td>\n",
       "      <td>17</td>\n",
       "      <td>17</td>\n",
       "      <td>522.764706</td>\n",
       "      <td>1950</td>\n",
       "    </tr>\n",
       "    <tr>\n",
       "      <th>1</th>\n",
       "      <td>AM General</td>\n",
       "      <td>FJ8c Post Office</td>\n",
       "      <td>1984</td>\n",
       "      <td>4.2</td>\n",
       "      <td>6.0</td>\n",
       "      <td>Automatic 3-spd</td>\n",
       "      <td>2-Wheel Drive</td>\n",
       "      <td>Special Purpose Vehicle 2WD</td>\n",
       "      <td>Regular</td>\n",
       "      <td>25.354615</td>\n",
       "      <td>13</td>\n",
       "      <td>13</td>\n",
       "      <td>13</td>\n",
       "      <td>683.615385</td>\n",
       "      <td>2550</td>\n",
       "    </tr>\n",
       "    <tr>\n",
       "      <th>2</th>\n",
       "      <td>AM General</td>\n",
       "      <td>Post Office DJ5 2WD</td>\n",
       "      <td>1985</td>\n",
       "      <td>2.5</td>\n",
       "      <td>4.0</td>\n",
       "      <td>Automatic 3-spd</td>\n",
       "      <td>Rear-Wheel Drive</td>\n",
       "      <td>Special Purpose Vehicle 2WD</td>\n",
       "      <td>Regular</td>\n",
       "      <td>20.600625</td>\n",
       "      <td>16</td>\n",
       "      <td>17</td>\n",
       "      <td>16</td>\n",
       "      <td>555.437500</td>\n",
       "      <td>2100</td>\n",
       "    </tr>\n",
       "    <tr>\n",
       "      <th>3</th>\n",
       "      <td>AM General</td>\n",
       "      <td>Post Office DJ8 2WD</td>\n",
       "      <td>1985</td>\n",
       "      <td>4.2</td>\n",
       "      <td>6.0</td>\n",
       "      <td>Automatic 3-spd</td>\n",
       "      <td>Rear-Wheel Drive</td>\n",
       "      <td>Special Purpose Vehicle 2WD</td>\n",
       "      <td>Regular</td>\n",
       "      <td>25.354615</td>\n",
       "      <td>13</td>\n",
       "      <td>13</td>\n",
       "      <td>13</td>\n",
       "      <td>683.615385</td>\n",
       "      <td>2550</td>\n",
       "    </tr>\n",
       "    <tr>\n",
       "      <th>4</th>\n",
       "      <td>ASC Incorporated</td>\n",
       "      <td>GNX</td>\n",
       "      <td>1987</td>\n",
       "      <td>3.8</td>\n",
       "      <td>6.0</td>\n",
       "      <td>Automatic 4-spd</td>\n",
       "      <td>Rear-Wheel Drive</td>\n",
       "      <td>Midsize Cars</td>\n",
       "      <td>Premium</td>\n",
       "      <td>20.600625</td>\n",
       "      <td>14</td>\n",
       "      <td>21</td>\n",
       "      <td>16</td>\n",
       "      <td>555.437500</td>\n",
       "      <td>2550</td>\n",
       "    </tr>\n",
       "  </tbody>\n",
       "</table>\n",
       "</div>"
      ],
      "text/plain": [
       "               Make                Model  Year  Engine Displacement  \\\n",
       "0        AM General    DJ Po Vehicle 2WD  1984                  2.5   \n",
       "1        AM General     FJ8c Post Office  1984                  4.2   \n",
       "2        AM General  Post Office DJ5 2WD  1985                  2.5   \n",
       "3        AM General  Post Office DJ8 2WD  1985                  4.2   \n",
       "4  ASC Incorporated                  GNX  1987                  3.8   \n",
       "\n",
       "   Cylinders     Transmission        Drivetrain                Vehicle Class  \\\n",
       "0        4.0  Automatic 3-spd     2-Wheel Drive  Special Purpose Vehicle 2WD   \n",
       "1        6.0  Automatic 3-spd     2-Wheel Drive  Special Purpose Vehicle 2WD   \n",
       "2        4.0  Automatic 3-spd  Rear-Wheel Drive  Special Purpose Vehicle 2WD   \n",
       "3        6.0  Automatic 3-spd  Rear-Wheel Drive  Special Purpose Vehicle 2WD   \n",
       "4        6.0  Automatic 4-spd  Rear-Wheel Drive                 Midsize Cars   \n",
       "\n",
       "  Fuel Type  Fuel Barrels/Year  City MPG  Highway MPG  Combined MPG  \\\n",
       "0   Regular          19.388824        18           17            17   \n",
       "1   Regular          25.354615        13           13            13   \n",
       "2   Regular          20.600625        16           17            16   \n",
       "3   Regular          25.354615        13           13            13   \n",
       "4   Premium          20.600625        14           21            16   \n",
       "\n",
       "   CO2 Emission Grams/Mile  Fuel Cost/Year  \n",
       "0               522.764706            1950  \n",
       "1               683.615385            2550  \n",
       "2               555.437500            2100  \n",
       "3               683.615385            2550  \n",
       "4               555.437500            2550  "
      ]
     },
     "execution_count": 9,
     "metadata": {},
     "output_type": "execute_result"
    }
   ],
   "source": [
    "vehicles = pd.read_csv('vehicles.csv')\n",
    "vehicles.head()"
   ]
  },
  {
   "cell_type": "code",
   "execution_count": 10,
   "metadata": {},
   "outputs": [
    {
     "data": {
      "text/plain": [
       "17.609055502328875"
      ]
     },
     "execution_count": 10,
     "metadata": {},
     "output_type": "execute_result"
    }
   ],
   "source": [
    "m = vehicles['Fuel Barrels/Year'].mean()\n",
    "m"
   ]
  },
  {
   "cell_type": "code",
   "execution_count": 11,
   "metadata": {},
   "outputs": [
    {
     "data": {
      "text/plain": [
       "4.467282686296995"
      ]
     },
     "execution_count": 11,
     "metadata": {},
     "output_type": "execute_result"
    }
   ],
   "source": [
    "d = vehicles['Fuel Barrels/Year'].std()\n",
    "d"
   ]
  },
  {
   "cell_type": "code",
   "execution_count": 12,
   "metadata": {},
   "outputs": [],
   "source": [
    "normal=norm(loc=m, scale=d)\n",
    "e=normal.rvs(size=1000)"
   ]
  },
  {
   "cell_type": "code",
   "execution_count": 13,
   "metadata": {},
   "outputs": [
    {
     "data": {
      "text/plain": [
       "<AxesSubplot:ylabel='Count'>"
      ]
     },
     "execution_count": 13,
     "metadata": {},
     "output_type": "execute_result"
    },
    {
     "data": {
      "image/png": "[encoded data removed]",
      "text/plain": [
       "<Figure size 432x288 with 1 Axes>"
      ]
     },
     "metadata": {
      "needs_background": "light"
     },
     "output_type": "display_data"
    }
   ],
   "source": [
    "sns.histplot(e)"
   ]
  },
  {
   "cell_type": "markdown",
   "metadata": {},
   "source": [
    "2. CO2 Emission Grams/Mile "
   ]
  },
  {
   "cell_type": "code",
   "execution_count": 14,
   "metadata": {},
   "outputs": [
    {
     "data": {
      "text/plain": [
       "<AxesSubplot:ylabel='Count'>"
      ]
     },
     "execution_count": 14,
     "metadata": {},
     "output_type": "execute_result"
    },
    {
     "data": {
      "image/png": "[encoded data removed]",
      "text/plain": [
       "<Figure size 432x288 with 1 Axes>"
      ]
     },
     "metadata": {
      "needs_background": "light"
     },
     "output_type": "display_data"
    }
   ],
   "source": [
    "# your code here\n",
    "m = vehicles['CO2 Emission Grams/Mile'].mean()\n",
    "m\n",
    "\n",
    "d = vehicles['CO2 Emission Grams/Mile'].std()\n",
    "d\n",
    "\n",
    "normal=norm(loc=m, scale=d)\n",
    "e=normal.rvs(size=1000)\n",
    "\n",
    "sns.histplot(e)"
   ]
  },
  {
   "cell_type": "markdown",
   "metadata": {},
   "source": [
    "3. Combined MPG"
   ]
  },
  {
   "cell_type": "code",
   "execution_count": 15,
   "metadata": {},
   "outputs": [
    {
     "data": {
      "text/plain": [
       "<AxesSubplot:ylabel='Count'>"
      ]
     },
     "execution_count": 15,
     "metadata": {},
     "output_type": "execute_result"
    },
    {
     "data": {
      "image/png": "[encoded data removed]",
      "text/plain": [
       "<Figure size 432x288 with 1 Axes>"
      ]
     },
     "metadata": {
      "needs_background": "light"
     },
     "output_type": "display_data"
    }
   ],
   "source": [
    "# your code here\n",
    "m = vehicles['Combined MPG'].mean()\n",
    "m\n",
    "\n",
    "d = vehicles['Combined MPG'].std()\n",
    "d\n",
    "\n",
    "normal=norm(loc=m, scale=d)\n",
    "e=normal.rvs(size=1000)\n",
    "\n",
    "sns.histplot(e)"
   ]
  },
  {
   "cell_type": "markdown",
   "metadata": {},
   "source": [
    "Which one(s) of the variables are nearly normally distributed? How do you know?"
   ]
  },
  {
   "cell_type": "code",
   "execution_count": 16,
   "metadata": {},
   "outputs": [
    {
     "data": {
      "text/plain": [
       "0.682689492137086"
      ]
     },
     "execution_count": 16,
     "metadata": {},
     "output_type": "execute_result"
    }
   ],
   "source": [
    "# your answer here\n",
    "'''\n",
    "La columna Combined MPG por que se encuentra más cerca de las franjas del 68 por ciento\n",
    "'''\n",
    "normal.cdf(m+d) - normal.cdf(m-d)"
   ]
  },
  {
   "cell_type": "markdown",
   "metadata": {},
   "source": [
    "## Exponential Distribution"
   ]
  },
  {
   "cell_type": "markdown",
   "metadata": {},
   "source": [
    "1. Using `numpy.random.exponential`, create a function that returns a list of numbers exponentially distributed with the mean of 10. \n",
    "\n",
    "1. Use the function to generate two number sequences with the size of 10 and 100.\n",
    "\n",
    "1. Plot the distributions as histograms with the nubmer of bins as 100.\n",
    "\n",
    "Your output should look like below:\n",
    "\n",
    "![exponential distribution](ed.png)"
   ]
  },
  {
   "cell_type": "code",
   "execution_count": 17,
   "metadata": {},
   "outputs": [],
   "source": [
    "import numpy as np\n",
    "from scipy.stats import expon\n",
    "\n",
    "def ran(l):\n",
    "    x=np.random.exponential(10, size=l)\n",
    "    return x"
   ]
  },
  {
   "cell_type": "code",
   "execution_count": 18,
   "metadata": {},
   "outputs": [
    {
     "data": {
      "image/png": "[encoded data removed]",
      "text/plain": [
       "<Figure size 432x288 with 1 Axes>"
      ]
     },
     "metadata": {
      "needs_background": "light"
     },
     "output_type": "display_data"
    },
    {
     "data": {
      "image/png": "[encoded data removed]",
      "text/plain": [
       "<Figure size 432x288 with 1 Axes>"
      ]
     },
     "metadata": {
      "needs_background": "light"
     },
     "output_type": "display_data"
    }
   ],
   "source": [
    "# your code here\n",
    "e = ran(100)\n",
    "i = ran(1000)\n",
    "\n",
    "for x in [e,i]:\n",
    "    sns.histplot(x, bins=100);\n",
    "    plt.show()"
   ]
  },
  {
   "cell_type": "markdown",
   "metadata": {},
   "source": [
    "How are the two distributions different?"
   ]
  },
  {
   "cell_type": "code",
   "execution_count": 19,
   "metadata": {},
   "outputs": [],
   "source": [
    "# your answer here\n",
    "# cuantos más numeros pongas más se parece a una exponencial"
   ]
  },
  {
   "cell_type": "markdown",
   "metadata": {},
   "source": [
    "## Exponential Distribution of Real Data\n",
    "\n",
    "Suppose that the amount of time one spends in a bank is exponentially distributed with mean as 10 minutes (i.e. λ = 1/10). What is the probability that a customer will spend less than fifteen minutes in the bank? \n",
    "\n",
    "Write a code in python to solve this problem"
   ]
  },
  {
   "cell_type": "code",
   "execution_count": 20,
   "metadata": {},
   "outputs": [
    {
     "data": {
      "text/plain": [
       "10.0"
      ]
     },
     "execution_count": 20,
     "metadata": {},
     "output_type": "execute_result"
    }
   ],
   "source": [
    "# your answer here\n",
    "# Hint: This is same as saying P(x<15)\n",
    "exp=expon(scale=10)\n",
    "exp.mean()"
   ]
  },
  {
   "cell_type": "code",
   "execution_count": 21,
   "metadata": {},
   "outputs": [
    {
     "data": {
      "text/plain": [
       "0.7768698398515702"
      ]
     },
     "execution_count": 21,
     "metadata": {},
     "output_type": "execute_result"
    }
   ],
   "source": [
    "less = exp.cdf(15)\n",
    "less"
   ]
  },
  {
   "cell_type": "markdown",
   "metadata": {},
   "source": [
    "What is the probability that the customer will spend more than 15 minutes"
   ]
  },
  {
   "cell_type": "code",
   "execution_count": 22,
   "metadata": {},
   "outputs": [
    {
     "data": {
      "text/plain": [
       "0.2231301601484298"
      ]
     },
     "execution_count": 22,
     "metadata": {},
     "output_type": "execute_result"
    }
   ],
   "source": [
    "# your answer here\n",
    "more = 1-less\n",
    "more"
   ]
  },
  {
   "cell_type": "code",
   "execution_count": null,
   "metadata": {},
   "outputs": [],
   "source": []
  }
 ],
 "metadata": {
  "kernelspec": {
   "display_name": "Python 3 (ipykernel)",
   "language": "python",
   "name": "python3"
  },
  "language_info": {
   "codemirror_mode": {
    "name": "ipython",
    "version": 3
   },
   "file_extension": ".py",
   "mimetype": "text/x-python",
   "name": "python",
   "nbconvert_exporter": "python",
   "pygments_lexer": "ipython3",
   "version": "3.9.12"
  },
  "toc": {
   "base_numbering": 1,
   "nav_menu": {},
   "number_sections": true,
   "sideBar": true,
   "skip_h1_title": false,
   "title_cell": "Table of Contents",
   "title_sidebar": "Contents",
   "toc_cell": true,
   "toc_position": {},
   "toc_section_display": true,
   "toc_window_display": false
  },
  "varInspector": {
   "cols": {
    "lenName": 16,
    "lenType": 16,
    "lenVar": 40
   },
   "kernels_config": {
    "python": {
     "delete_cmd_postfix": "",
     "delete_cmd_prefix": "del ",
     "library": "var_list.py",
     "varRefreshCmd": "print(var_dic_list())"
    },
    "r": {
     "delete_cmd_postfix": ") ",
     "delete_cmd_prefix": "rm(",
     "library": "var_list.r",
     "varRefreshCmd": "cat(var_dic_list()) "
    }
   },
   "types_to_exclude": [
    "module",
    "function",
    "builtin_function_or_method",
    "instance",
    "_Feature"
   ],
   "window_display": false
  }
 },
 "nbformat": 4,
 "nbformat_minor": 2
}
